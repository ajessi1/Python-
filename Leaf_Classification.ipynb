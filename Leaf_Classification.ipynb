{
 "cells": [
  {
   "cell_type": "code",
   "execution_count": 40,
   "metadata": {
    "colab": {
     "base_uri": "https://localhost:8080/"
    },
    "id": "Zi_whLSF8loE",
    "outputId": "da1ca67c-13a9-4af3-8c49-405713146405"
   },
   "outputs": [
    {
     "name": "stdout",
     "output_type": "stream",
     "text": [
      "Looking in indexes: https://pypi.org/simple, https://us-python.pkg.dev/colab-wheels/public/simple/\n",
      "Requirement already satisfied: mglearn in /usr/local/lib/python3.7/dist-packages (0.1.9)\n",
      "Requirement already satisfied: matplotlib in /usr/local/lib/python3.7/dist-packages (from mglearn) (3.2.2)\n",
      "Requirement already satisfied: scikit-learn in /usr/local/lib/python3.7/dist-packages (from mglearn) (1.0.2)\n",
      "Requirement already satisfied: numpy in /usr/local/lib/python3.7/dist-packages (from mglearn) (1.21.6)\n",
      "Requirement already satisfied: joblib in /usr/local/lib/python3.7/dist-packages (from mglearn) (1.1.0)\n",
      "Requirement already satisfied: cycler in /usr/local/lib/python3.7/dist-packages (from mglearn) (0.11.0)\n",
      "Requirement already satisfied: pandas in /usr/local/lib/python3.7/dist-packages (from mglearn) (1.3.5)\n",
      "Requirement already satisfied: pillow in /usr/local/lib/python3.7/dist-packages (from mglearn) (7.1.2)\n",
      "Requirement already satisfied: imageio in /usr/local/lib/python3.7/dist-packages (from mglearn) (2.4.1)\n",
      "Requirement already satisfied: pyparsing!=2.0.4,!=2.1.2,!=2.1.6,>=2.0.1 in /usr/local/lib/python3.7/dist-packages (from matplotlib->mglearn) (3.0.9)\n",
      "Requirement already satisfied: python-dateutil>=2.1 in /usr/local/lib/python3.7/dist-packages (from matplotlib->mglearn) (2.8.2)\n",
      "Requirement already satisfied: kiwisolver>=1.0.1 in /usr/local/lib/python3.7/dist-packages (from matplotlib->mglearn) (1.4.2)\n",
      "Requirement already satisfied: typing-extensions in /usr/local/lib/python3.7/dist-packages (from kiwisolver>=1.0.1->matplotlib->mglearn) (4.2.0)\n",
      "Requirement already satisfied: six>=1.5 in /usr/local/lib/python3.7/dist-packages (from python-dateutil>=2.1->matplotlib->mglearn) (1.15.0)\n",
      "Requirement already satisfied: pytz>=2017.3 in /usr/local/lib/python3.7/dist-packages (from pandas->mglearn) (2022.1)\n",
      "Requirement already satisfied: threadpoolctl>=2.0.0 in /usr/local/lib/python3.7/dist-packages (from scikit-learn->mglearn) (3.1.0)\n",
      "Requirement already satisfied: scipy>=1.1.0 in /usr/local/lib/python3.7/dist-packages (from scikit-learn->mglearn) (1.4.1)\n"
     ]
    }
   ],
   "source": [
    "!pip install mglearn"
   ]
  },
  {
   "cell_type": "code",
   "execution_count": 41,
   "metadata": {
    "id": "YvHitND8_jPU"
   },
   "outputs": [],
   "source": [
    "#Ignore Warning\n",
    "import warnings\n",
    "warnings.filterwarnings(\"ignore\") \n",
    "# set up notebook to display multiple outputs in one cell\n",
    "from IPython.core.interactiveshell import InteractiveShell\n",
    "InteractiveShell.ast_node_interactivity = \"all\""
   ]
  },
  {
   "cell_type": "code",
   "execution_count": 42,
   "metadata": {
    "id": "v-igvgWb_nf1"
   },
   "outputs": [],
   "source": [
    "#Run SetUp Script to Install Packages \n",
    "#General purpose imports here\n",
    "import pandas as pd  # data frame operations  \n",
    "import numpy as np  # arrays and math functions\n",
    "import matplotlib.pyplot as plt  # static plotting\n",
    "import re # regular expressions\n",
    "import scipy\n",
    "import sys\n",
    "import os # Operation System\n",
    "import seaborn as sns  # pretty plotting, including heat map\n",
    "from timeit import default_timer as timer\n",
    "from datetime import timedelta\n",
    "from sklearn.preprocessing import LabelEncoder\n",
    "from sklearn.preprocessing import StandardScaler, MinMaxScaler\n",
    "from sklearn.model_selection import StratifiedShuffleSplit\n",
    "from sklearn.model_selection import train_test_split\n",
    "from matplotlib.backends.backend_pdf import PdfPages\n",
    "import sklearn\n",
    "import tensorflow as tf\n",
    "from datetime import datetime\n",
    "from __future__ import division, print_function, unicode_literals\n",
    "#These below are used in image processing\n",
    "import cv2\n",
    "import zipfile\n",
    "from PIL import Image\n",
    "from skimage.transform import resize, rotate, SimilarityTransform, warp\n",
    "from skimage.filters import sobel\n",
    "import glob\n",
    "\n",
    "#Keras/tensorflow convolutional neural network specific imports here\n",
    "import tensorflow as tf\n",
    "from tensorflow import keras\n",
    "\n",
    "#Below used for TensorBoard data Visualization\n",
    "#from time import time\n",
    "#from keras.callbacks import TensorBoard\n",
    "# Python ≥3.5 is required\n",
    "assert sys.version_info >= (3, 5)\n",
    "# Scikit-Learn ≥0.20 is required\n",
    "assert sklearn.__version__ >= \"0.20\"\n",
    "\n",
    "try:\n",
    "    # %tensorflow_version only exists in Colab.\n",
    "    %tensorflow_version 2.x\n",
    "    IS_COLAB = True\n",
    "except Exception:\n",
    "    IS_COLAB = False\n",
    "\n",
    "# TensorFlow ≥2.0 is required\n",
    "import tensorflow as tf\n",
    "from tensorflow import keras\n",
    "assert tf.__version__ >= \"2.0\"\n",
    "\n",
    "# To plot pretty figures\n",
    "%matplotlib inline\n",
    "import matplotlib as mpl\n",
    "import matplotlib.pyplot as plt\n",
    "mpl.rc('axes', labelsize=14)\n",
    "mpl.rc('xtick', labelsize=12)\n",
    "mpl.rc('ytick', labelsize=12)"
   ]
  },
  {
   "cell_type": "code",
   "execution_count": 43,
   "metadata": {
    "colab": {
     "base_uri": "https://localhost:8080/"
    },
    "id": "4Tz0ulcXBQvE",
    "outputId": "113f67c1-b159-4fd1-df2e-f5379e67ac47"
   },
   "outputs": [
    {
     "name": "stdout",
     "output_type": "stream",
     "text": [
      "Drive already mounted at /content/gdrive; to attempt to forcibly remount, call drive.mount(\"/content/gdrive\", force_remount=True).\n",
      "/content/gdrive/My Drive/Assignment6 \n",
      "/content/gdrive/My Drive/Assignment6 \n",
      "Working Directory\n",
      "/content/gdrive/My Drive/Assignment6 \n"
     ]
    }
   ],
   "source": [
    "#Establish working directory\n",
    "#os.getcwd()\n",
    "#Mount Google Drive to Colab Enviorment\n",
    "from google.colab import drive\n",
    "drive.mount('/content/gdrive')\n",
    "%cd /content/gdrive/My Drive/Assignment6 /\n",
    "!pwd\n",
    "#!ls\n",
    "print('Working Directory')\n",
    "print(os.getcwd())\n",
    "work_dir = \"/content/gdrive/My Drive/Assignment6 /\""
   ]
  },
  {
   "cell_type": "code",
   "execution_count": 44,
   "metadata": {
    "colab": {
     "base_uri": "https://localhost:8080/",
     "height": 921
    },
    "id": "o0f6MLoVBpNy",
    "outputId": "09d31a99-b577-4d77-8bb1-8f14706096b9"
   },
   "outputs": [
    {
     "name": "stdout",
     "output_type": "stream",
     "text": [
      "<class 'pandas.core.frame.DataFrame'>\n",
      "RangeIndex: 990 entries, 0 to 989\n",
      "Columns: 194 entries, id to texture64\n",
      "dtypes: float64(192), int64(1), object(1)\n",
      "memory usage: 1.5+ MB\n"
     ]
    },
    {
     "data": {
      "text/html": [
       "\n",
       "  <div id=\"df-c5ea274c-eafd-4a38-80c7-0634e9386950\">\n",
       "    <div class=\"colab-df-container\">\n",
       "      <div>\n",
       "<style scoped>\n",
       "    .dataframe tbody tr th:only-of-type {\n",
       "        vertical-align: middle;\n",
       "    }\n",
       "\n",
       "    .dataframe tbody tr th {\n",
       "        vertical-align: top;\n",
       "    }\n",
       "\n",
       "    .dataframe thead th {\n",
       "        text-align: right;\n",
       "    }\n",
       "</style>\n",
       "<table border=\"1\" class=\"dataframe\">\n",
       "  <thead>\n",
       "    <tr style=\"text-align: right;\">\n",
       "      <th></th>\n",
       "      <th>id</th>\n",
       "      <th>species</th>\n",
       "      <th>margin1</th>\n",
       "      <th>margin2</th>\n",
       "      <th>margin3</th>\n",
       "      <th>margin4</th>\n",
       "      <th>margin5</th>\n",
       "      <th>margin6</th>\n",
       "      <th>margin7</th>\n",
       "      <th>margin8</th>\n",
       "      <th>...</th>\n",
       "      <th>texture55</th>\n",
       "      <th>texture56</th>\n",
       "      <th>texture57</th>\n",
       "      <th>texture58</th>\n",
       "      <th>texture59</th>\n",
       "      <th>texture60</th>\n",
       "      <th>texture61</th>\n",
       "      <th>texture62</th>\n",
       "      <th>texture63</th>\n",
       "      <th>texture64</th>\n",
       "    </tr>\n",
       "  </thead>\n",
       "  <tbody>\n",
       "    <tr>\n",
       "      <th>0</th>\n",
       "      <td>1</td>\n",
       "      <td>Acer_Opalus</td>\n",
       "      <td>0.007812</td>\n",
       "      <td>0.023438</td>\n",
       "      <td>0.023438</td>\n",
       "      <td>0.003906</td>\n",
       "      <td>0.011719</td>\n",
       "      <td>0.009766</td>\n",
       "      <td>0.027344</td>\n",
       "      <td>0.0</td>\n",
       "      <td>...</td>\n",
       "      <td>0.007812</td>\n",
       "      <td>0.000000</td>\n",
       "      <td>0.002930</td>\n",
       "      <td>0.002930</td>\n",
       "      <td>0.035156</td>\n",
       "      <td>0.0</td>\n",
       "      <td>0.0</td>\n",
       "      <td>0.004883</td>\n",
       "      <td>0.000000</td>\n",
       "      <td>0.025391</td>\n",
       "    </tr>\n",
       "    <tr>\n",
       "      <th>1</th>\n",
       "      <td>2</td>\n",
       "      <td>Pterocarya_Stenoptera</td>\n",
       "      <td>0.005859</td>\n",
       "      <td>0.000000</td>\n",
       "      <td>0.031250</td>\n",
       "      <td>0.015625</td>\n",
       "      <td>0.025391</td>\n",
       "      <td>0.001953</td>\n",
       "      <td>0.019531</td>\n",
       "      <td>0.0</td>\n",
       "      <td>...</td>\n",
       "      <td>0.000977</td>\n",
       "      <td>0.000000</td>\n",
       "      <td>0.000000</td>\n",
       "      <td>0.000977</td>\n",
       "      <td>0.023438</td>\n",
       "      <td>0.0</td>\n",
       "      <td>0.0</td>\n",
       "      <td>0.000977</td>\n",
       "      <td>0.039062</td>\n",
       "      <td>0.022461</td>\n",
       "    </tr>\n",
       "    <tr>\n",
       "      <th>2</th>\n",
       "      <td>3</td>\n",
       "      <td>Quercus_Hartwissiana</td>\n",
       "      <td>0.005859</td>\n",
       "      <td>0.009766</td>\n",
       "      <td>0.019531</td>\n",
       "      <td>0.007812</td>\n",
       "      <td>0.003906</td>\n",
       "      <td>0.005859</td>\n",
       "      <td>0.068359</td>\n",
       "      <td>0.0</td>\n",
       "      <td>...</td>\n",
       "      <td>0.154300</td>\n",
       "      <td>0.000000</td>\n",
       "      <td>0.005859</td>\n",
       "      <td>0.000977</td>\n",
       "      <td>0.007812</td>\n",
       "      <td>0.0</td>\n",
       "      <td>0.0</td>\n",
       "      <td>0.000000</td>\n",
       "      <td>0.020508</td>\n",
       "      <td>0.002930</td>\n",
       "    </tr>\n",
       "    <tr>\n",
       "      <th>3</th>\n",
       "      <td>5</td>\n",
       "      <td>Tilia_Tomentosa</td>\n",
       "      <td>0.000000</td>\n",
       "      <td>0.003906</td>\n",
       "      <td>0.023438</td>\n",
       "      <td>0.005859</td>\n",
       "      <td>0.021484</td>\n",
       "      <td>0.019531</td>\n",
       "      <td>0.023438</td>\n",
       "      <td>0.0</td>\n",
       "      <td>...</td>\n",
       "      <td>0.000000</td>\n",
       "      <td>0.000977</td>\n",
       "      <td>0.000000</td>\n",
       "      <td>0.000000</td>\n",
       "      <td>0.020508</td>\n",
       "      <td>0.0</td>\n",
       "      <td>0.0</td>\n",
       "      <td>0.017578</td>\n",
       "      <td>0.000000</td>\n",
       "      <td>0.047852</td>\n",
       "    </tr>\n",
       "    <tr>\n",
       "      <th>4</th>\n",
       "      <td>6</td>\n",
       "      <td>Quercus_Variabilis</td>\n",
       "      <td>0.005859</td>\n",
       "      <td>0.003906</td>\n",
       "      <td>0.048828</td>\n",
       "      <td>0.009766</td>\n",
       "      <td>0.013672</td>\n",
       "      <td>0.015625</td>\n",
       "      <td>0.005859</td>\n",
       "      <td>0.0</td>\n",
       "      <td>...</td>\n",
       "      <td>0.096680</td>\n",
       "      <td>0.000000</td>\n",
       "      <td>0.021484</td>\n",
       "      <td>0.000000</td>\n",
       "      <td>0.000000</td>\n",
       "      <td>0.0</td>\n",
       "      <td>0.0</td>\n",
       "      <td>0.000000</td>\n",
       "      <td>0.000000</td>\n",
       "      <td>0.031250</td>\n",
       "    </tr>\n",
       "  </tbody>\n",
       "</table>\n",
       "<p>5 rows × 194 columns</p>\n",
       "</div>\n",
       "      <button class=\"colab-df-convert\" onclick=\"convertToInteractive('df-c5ea274c-eafd-4a38-80c7-0634e9386950')\"\n",
       "              title=\"Convert this dataframe to an interactive table.\"\n",
       "              style=\"display:none;\">\n",
       "        \n",
       "  <svg xmlns=\"http://www.w3.org/2000/svg\" height=\"24px\"viewBox=\"0 0 24 24\"\n",
       "       width=\"24px\">\n",
       "    <path d=\"M0 0h24v24H0V0z\" fill=\"none\"/>\n",
       "    <path d=\"M18.56 5.44l.94 2.06.94-2.06 2.06-.94-2.06-.94-.94-2.06-.94 2.06-2.06.94zm-11 1L8.5 8.5l.94-2.06 2.06-.94-2.06-.94L8.5 2.5l-.94 2.06-2.06.94zm10 10l.94 2.06.94-2.06 2.06-.94-2.06-.94-.94-2.06-.94 2.06-2.06.94z\"/><path d=\"M17.41 7.96l-1.37-1.37c-.4-.4-.92-.59-1.43-.59-.52 0-1.04.2-1.43.59L10.3 9.45l-7.72 7.72c-.78.78-.78 2.05 0 2.83L4 21.41c.39.39.9.59 1.41.59.51 0 1.02-.2 1.41-.59l7.78-7.78 2.81-2.81c.8-.78.8-2.07 0-2.86zM5.41 20L4 18.59l7.72-7.72 1.47 1.35L5.41 20z\"/>\n",
       "  </svg>\n",
       "      </button>\n",
       "      \n",
       "  <style>\n",
       "    .colab-df-container {\n",
       "      display:flex;\n",
       "      flex-wrap:wrap;\n",
       "      gap: 12px;\n",
       "    }\n",
       "\n",
       "    .colab-df-convert {\n",
       "      background-color: #E8F0FE;\n",
       "      border: none;\n",
       "      border-radius: 50%;\n",
       "      cursor: pointer;\n",
       "      display: none;\n",
       "      fill: #1967D2;\n",
       "      height: 32px;\n",
       "      padding: 0 0 0 0;\n",
       "      width: 32px;\n",
       "    }\n",
       "\n",
       "    .colab-df-convert:hover {\n",
       "      background-color: #E2EBFA;\n",
       "      box-shadow: 0px 1px 2px rgba(60, 64, 67, 0.3), 0px 1px 3px 1px rgba(60, 64, 67, 0.15);\n",
       "      fill: #174EA6;\n",
       "    }\n",
       "\n",
       "    [theme=dark] .colab-df-convert {\n",
       "      background-color: #3B4455;\n",
       "      fill: #D2E3FC;\n",
       "    }\n",
       "\n",
       "    [theme=dark] .colab-df-convert:hover {\n",
       "      background-color: #434B5C;\n",
       "      box-shadow: 0px 1px 3px 1px rgba(0, 0, 0, 0.15);\n",
       "      filter: drop-shadow(0px 1px 2px rgba(0, 0, 0, 0.3));\n",
       "      fill: #FFFFFF;\n",
       "    }\n",
       "  </style>\n",
       "\n",
       "      <script>\n",
       "        const buttonEl =\n",
       "          document.querySelector('#df-c5ea274c-eafd-4a38-80c7-0634e9386950 button.colab-df-convert');\n",
       "        buttonEl.style.display =\n",
       "          google.colab.kernel.accessAllowed ? 'block' : 'none';\n",
       "\n",
       "        async function convertToInteractive(key) {\n",
       "          const element = document.querySelector('#df-c5ea274c-eafd-4a38-80c7-0634e9386950');\n",
       "          const dataTable =\n",
       "            await google.colab.kernel.invokeFunction('convertToInteractive',\n",
       "                                                     [key], {});\n",
       "          if (!dataTable) return;\n",
       "\n",
       "          const docLinkHtml = 'Like what you see? Visit the ' +\n",
       "            '<a target=\"_blank\" href=https://colab.research.google.com/notebooks/data_table.ipynb>data table notebook</a>'\n",
       "            + ' to learn more about interactive tables.';\n",
       "          element.innerHTML = '';\n",
       "          dataTable['output_type'] = 'display_data';\n",
       "          await google.colab.output.renderOutput(dataTable, element);\n",
       "          const docLink = document.createElement('div');\n",
       "          docLink.innerHTML = docLinkHtml;\n",
       "          element.appendChild(docLink);\n",
       "        }\n",
       "      </script>\n",
       "    </div>\n",
       "  </div>\n",
       "  "
      ],
      "text/plain": [
       "   id                species   margin1   margin2   margin3   margin4  \\\n",
       "0   1            Acer_Opalus  0.007812  0.023438  0.023438  0.003906   \n",
       "1   2  Pterocarya_Stenoptera  0.005859  0.000000  0.031250  0.015625   \n",
       "2   3   Quercus_Hartwissiana  0.005859  0.009766  0.019531  0.007812   \n",
       "3   5        Tilia_Tomentosa  0.000000  0.003906  0.023438  0.005859   \n",
       "4   6     Quercus_Variabilis  0.005859  0.003906  0.048828  0.009766   \n",
       "\n",
       "    margin5   margin6   margin7  margin8  ...  texture55  texture56  \\\n",
       "0  0.011719  0.009766  0.027344      0.0  ...   0.007812   0.000000   \n",
       "1  0.025391  0.001953  0.019531      0.0  ...   0.000977   0.000000   \n",
       "2  0.003906  0.005859  0.068359      0.0  ...   0.154300   0.000000   \n",
       "3  0.021484  0.019531  0.023438      0.0  ...   0.000000   0.000977   \n",
       "4  0.013672  0.015625  0.005859      0.0  ...   0.096680   0.000000   \n",
       "\n",
       "   texture57  texture58  texture59  texture60  texture61  texture62  \\\n",
       "0   0.002930   0.002930   0.035156        0.0        0.0   0.004883   \n",
       "1   0.000000   0.000977   0.023438        0.0        0.0   0.000977   \n",
       "2   0.005859   0.000977   0.007812        0.0        0.0   0.000000   \n",
       "3   0.000000   0.000000   0.020508        0.0        0.0   0.017578   \n",
       "4   0.021484   0.000000   0.000000        0.0        0.0   0.000000   \n",
       "\n",
       "   texture63  texture64  \n",
       "0   0.000000   0.025391  \n",
       "1   0.039062   0.022461  \n",
       "2   0.020508   0.002930  \n",
       "3   0.000000   0.047852  \n",
       "4   0.000000   0.031250  \n",
       "\n",
       "[5 rows x 194 columns]"
      ]
     },
     "execution_count": 44,
     "metadata": {},
     "output_type": "execute_result"
    },
    {
     "name": "stdout",
     "output_type": "stream",
     "text": [
      "Shape of Leaf train dataset (990, 194)\n"
     ]
    },
    {
     "data": {
      "text/html": [
       "\n",
       "  <div id=\"df-2f4122c2-53e5-42cd-83af-acf66485d077\">\n",
       "    <div class=\"colab-df-container\">\n",
       "      <div>\n",
       "<style scoped>\n",
       "    .dataframe tbody tr th:only-of-type {\n",
       "        vertical-align: middle;\n",
       "    }\n",
       "\n",
       "    .dataframe tbody tr th {\n",
       "        vertical-align: top;\n",
       "    }\n",
       "\n",
       "    .dataframe thead th {\n",
       "        text-align: right;\n",
       "    }\n",
       "</style>\n",
       "<table border=\"1\" class=\"dataframe\">\n",
       "  <thead>\n",
       "    <tr style=\"text-align: right;\">\n",
       "      <th></th>\n",
       "      <th>count</th>\n",
       "      <th>mean</th>\n",
       "      <th>std</th>\n",
       "      <th>min</th>\n",
       "      <th>25%</th>\n",
       "      <th>50%</th>\n",
       "      <th>75%</th>\n",
       "      <th>max</th>\n",
       "    </tr>\n",
       "  </thead>\n",
       "  <tbody>\n",
       "    <tr>\n",
       "      <th>id</th>\n",
       "      <td>990.0</td>\n",
       "      <td>799.595960</td>\n",
       "      <td>452.477568</td>\n",
       "      <td>1.0</td>\n",
       "      <td>415.250000</td>\n",
       "      <td>802.500000</td>\n",
       "      <td>1195.500000</td>\n",
       "      <td>1584.000000</td>\n",
       "    </tr>\n",
       "    <tr>\n",
       "      <th>margin1</th>\n",
       "      <td>990.0</td>\n",
       "      <td>0.017412</td>\n",
       "      <td>0.019739</td>\n",
       "      <td>0.0</td>\n",
       "      <td>0.001953</td>\n",
       "      <td>0.009766</td>\n",
       "      <td>0.025391</td>\n",
       "      <td>0.087891</td>\n",
       "    </tr>\n",
       "    <tr>\n",
       "      <th>margin2</th>\n",
       "      <td>990.0</td>\n",
       "      <td>0.028539</td>\n",
       "      <td>0.038855</td>\n",
       "      <td>0.0</td>\n",
       "      <td>0.001953</td>\n",
       "      <td>0.011719</td>\n",
       "      <td>0.041016</td>\n",
       "      <td>0.205080</td>\n",
       "    </tr>\n",
       "    <tr>\n",
       "      <th>margin3</th>\n",
       "      <td>990.0</td>\n",
       "      <td>0.031988</td>\n",
       "      <td>0.025847</td>\n",
       "      <td>0.0</td>\n",
       "      <td>0.013672</td>\n",
       "      <td>0.025391</td>\n",
       "      <td>0.044922</td>\n",
       "      <td>0.156250</td>\n",
       "    </tr>\n",
       "    <tr>\n",
       "      <th>margin4</th>\n",
       "      <td>990.0</td>\n",
       "      <td>0.023280</td>\n",
       "      <td>0.028411</td>\n",
       "      <td>0.0</td>\n",
       "      <td>0.005859</td>\n",
       "      <td>0.013672</td>\n",
       "      <td>0.029297</td>\n",
       "      <td>0.169920</td>\n",
       "    </tr>\n",
       "    <tr>\n",
       "      <th>...</th>\n",
       "      <td>...</td>\n",
       "      <td>...</td>\n",
       "      <td>...</td>\n",
       "      <td>...</td>\n",
       "      <td>...</td>\n",
       "      <td>...</td>\n",
       "      <td>...</td>\n",
       "      <td>...</td>\n",
       "    </tr>\n",
       "    <tr>\n",
       "      <th>texture60</th>\n",
       "      <td>990.0</td>\n",
       "      <td>0.014017</td>\n",
       "      <td>0.060151</td>\n",
       "      <td>0.0</td>\n",
       "      <td>0.000000</td>\n",
       "      <td>0.000000</td>\n",
       "      <td>0.000000</td>\n",
       "      <td>0.578130</td>\n",
       "    </tr>\n",
       "    <tr>\n",
       "      <th>texture61</th>\n",
       "      <td>990.0</td>\n",
       "      <td>0.002688</td>\n",
       "      <td>0.011415</td>\n",
       "      <td>0.0</td>\n",
       "      <td>0.000000</td>\n",
       "      <td>0.000000</td>\n",
       "      <td>0.000000</td>\n",
       "      <td>0.151370</td>\n",
       "    </tr>\n",
       "    <tr>\n",
       "      <th>texture62</th>\n",
       "      <td>990.0</td>\n",
       "      <td>0.020291</td>\n",
       "      <td>0.039040</td>\n",
       "      <td>0.0</td>\n",
       "      <td>0.000000</td>\n",
       "      <td>0.003906</td>\n",
       "      <td>0.023438</td>\n",
       "      <td>0.375980</td>\n",
       "    </tr>\n",
       "    <tr>\n",
       "      <th>texture63</th>\n",
       "      <td>990.0</td>\n",
       "      <td>0.008989</td>\n",
       "      <td>0.013791</td>\n",
       "      <td>0.0</td>\n",
       "      <td>0.000000</td>\n",
       "      <td>0.002930</td>\n",
       "      <td>0.012695</td>\n",
       "      <td>0.086914</td>\n",
       "    </tr>\n",
       "    <tr>\n",
       "      <th>texture64</th>\n",
       "      <td>990.0</td>\n",
       "      <td>0.019420</td>\n",
       "      <td>0.022768</td>\n",
       "      <td>0.0</td>\n",
       "      <td>0.000977</td>\n",
       "      <td>0.011719</td>\n",
       "      <td>0.029297</td>\n",
       "      <td>0.141600</td>\n",
       "    </tr>\n",
       "  </tbody>\n",
       "</table>\n",
       "<p>193 rows × 8 columns</p>\n",
       "</div>\n",
       "      <button class=\"colab-df-convert\" onclick=\"convertToInteractive('df-2f4122c2-53e5-42cd-83af-acf66485d077')\"\n",
       "              title=\"Convert this dataframe to an interactive table.\"\n",
       "              style=\"display:none;\">\n",
       "        \n",
       "  <svg xmlns=\"http://www.w3.org/2000/svg\" height=\"24px\"viewBox=\"0 0 24 24\"\n",
       "       width=\"24px\">\n",
       "    <path d=\"M0 0h24v24H0V0z\" fill=\"none\"/>\n",
       "    <path d=\"M18.56 5.44l.94 2.06.94-2.06 2.06-.94-2.06-.94-.94-2.06-.94 2.06-2.06.94zm-11 1L8.5 8.5l.94-2.06 2.06-.94-2.06-.94L8.5 2.5l-.94 2.06-2.06.94zm10 10l.94 2.06.94-2.06 2.06-.94-2.06-.94-.94-2.06-.94 2.06-2.06.94z\"/><path d=\"M17.41 7.96l-1.37-1.37c-.4-.4-.92-.59-1.43-.59-.52 0-1.04.2-1.43.59L10.3 9.45l-7.72 7.72c-.78.78-.78 2.05 0 2.83L4 21.41c.39.39.9.59 1.41.59.51 0 1.02-.2 1.41-.59l7.78-7.78 2.81-2.81c.8-.78.8-2.07 0-2.86zM5.41 20L4 18.59l7.72-7.72 1.47 1.35L5.41 20z\"/>\n",
       "  </svg>\n",
       "      </button>\n",
       "      \n",
       "  <style>\n",
       "    .colab-df-container {\n",
       "      display:flex;\n",
       "      flex-wrap:wrap;\n",
       "      gap: 12px;\n",
       "    }\n",
       "\n",
       "    .colab-df-convert {\n",
       "      background-color: #E8F0FE;\n",
       "      border: none;\n",
       "      border-radius: 50%;\n",
       "      cursor: pointer;\n",
       "      display: none;\n",
       "      fill: #1967D2;\n",
       "      height: 32px;\n",
       "      padding: 0 0 0 0;\n",
       "      width: 32px;\n",
       "    }\n",
       "\n",
       "    .colab-df-convert:hover {\n",
       "      background-color: #E2EBFA;\n",
       "      box-shadow: 0px 1px 2px rgba(60, 64, 67, 0.3), 0px 1px 3px 1px rgba(60, 64, 67, 0.15);\n",
       "      fill: #174EA6;\n",
       "    }\n",
       "\n",
       "    [theme=dark] .colab-df-convert {\n",
       "      background-color: #3B4455;\n",
       "      fill: #D2E3FC;\n",
       "    }\n",
       "\n",
       "    [theme=dark] .colab-df-convert:hover {\n",
       "      background-color: #434B5C;\n",
       "      box-shadow: 0px 1px 3px 1px rgba(0, 0, 0, 0.15);\n",
       "      filter: drop-shadow(0px 1px 2px rgba(0, 0, 0, 0.3));\n",
       "      fill: #FFFFFF;\n",
       "    }\n",
       "  </style>\n",
       "\n",
       "      <script>\n",
       "        const buttonEl =\n",
       "          document.querySelector('#df-2f4122c2-53e5-42cd-83af-acf66485d077 button.colab-df-convert');\n",
       "        buttonEl.style.display =\n",
       "          google.colab.kernel.accessAllowed ? 'block' : 'none';\n",
       "\n",
       "        async function convertToInteractive(key) {\n",
       "          const element = document.querySelector('#df-2f4122c2-53e5-42cd-83af-acf66485d077');\n",
       "          const dataTable =\n",
       "            await google.colab.kernel.invokeFunction('convertToInteractive',\n",
       "                                                     [key], {});\n",
       "          if (!dataTable) return;\n",
       "\n",
       "          const docLinkHtml = 'Like what you see? Visit the ' +\n",
       "            '<a target=\"_blank\" href=https://colab.research.google.com/notebooks/data_table.ipynb>data table notebook</a>'\n",
       "            + ' to learn more about interactive tables.';\n",
       "          element.innerHTML = '';\n",
       "          dataTable['output_type'] = 'display_data';\n",
       "          await google.colab.output.renderOutput(dataTable, element);\n",
       "          const docLink = document.createElement('div');\n",
       "          docLink.innerHTML = docLinkHtml;\n",
       "          element.appendChild(docLink);\n",
       "        }\n",
       "      </script>\n",
       "    </div>\n",
       "  </div>\n",
       "  "
      ],
      "text/plain": [
       "           count        mean         std  min         25%         50%  \\\n",
       "id         990.0  799.595960  452.477568  1.0  415.250000  802.500000   \n",
       "margin1    990.0    0.017412    0.019739  0.0    0.001953    0.009766   \n",
       "margin2    990.0    0.028539    0.038855  0.0    0.001953    0.011719   \n",
       "margin3    990.0    0.031988    0.025847  0.0    0.013672    0.025391   \n",
       "margin4    990.0    0.023280    0.028411  0.0    0.005859    0.013672   \n",
       "...          ...         ...         ...  ...         ...         ...   \n",
       "texture60  990.0    0.014017    0.060151  0.0    0.000000    0.000000   \n",
       "texture61  990.0    0.002688    0.011415  0.0    0.000000    0.000000   \n",
       "texture62  990.0    0.020291    0.039040  0.0    0.000000    0.003906   \n",
       "texture63  990.0    0.008989    0.013791  0.0    0.000000    0.002930   \n",
       "texture64  990.0    0.019420    0.022768  0.0    0.000977    0.011719   \n",
       "\n",
       "                   75%          max  \n",
       "id         1195.500000  1584.000000  \n",
       "margin1       0.025391     0.087891  \n",
       "margin2       0.041016     0.205080  \n",
       "margin3       0.044922     0.156250  \n",
       "margin4       0.029297     0.169920  \n",
       "...                ...          ...  \n",
       "texture60     0.000000     0.578130  \n",
       "texture61     0.000000     0.151370  \n",
       "texture62     0.023438     0.375980  \n",
       "texture63     0.012695     0.086914  \n",
       "texture64     0.029297     0.141600  \n",
       "\n",
       "[193 rows x 8 columns]"
      ]
     },
     "execution_count": 44,
     "metadata": {},
     "output_type": "execute_result"
    },
    {
     "data": {
      "text/plain": [
       "Index(['id', 'species', 'margin1', 'margin2', 'margin3', 'margin4', 'margin5',\n",
       "       'margin6', 'margin7', 'margin8',\n",
       "       ...\n",
       "       'texture55', 'texture56', 'texture57', 'texture58', 'texture59',\n",
       "       'texture60', 'texture61', 'texture62', 'texture63', 'texture64'],\n",
       "      dtype='object', length=194)"
      ]
     },
     "execution_count": 44,
     "metadata": {},
     "output_type": "execute_result"
    }
   ],
   "source": [
    "df_train = pd.read_csv(work_dir + \"./data/train.csv\")\n",
    "\n",
    "#Use the info() method to determine to inspect the variable (column) names, the number of non-null values,\n",
    "#and the data types for each variable\n",
    "df_train.info()\n",
    "\n",
    "# Use the head() method to inspect the first five (or more) rows of the data\n",
    "df_train.head()\n",
    "\n",
    "# shape of leaf train Dataset\n",
    "print('Shape of Leaf train dataset',df_train.shape)\n",
    "\n",
    "# Summary Statistics of leaf Dataset\n",
    "df_train.describe().transpose()\n",
    "\n",
    "df_train.keys()"
   ]
  },
  {
   "cell_type": "code",
   "execution_count": 45,
   "metadata": {
    "colab": {
     "base_uri": "https://localhost:8080/",
     "height": 921
    },
    "id": "LqIC3MUPDtlw",
    "outputId": "21534aa6-a529-4598-99e9-c57d8112cdb5"
   },
   "outputs": [
    {
     "name": "stdout",
     "output_type": "stream",
     "text": [
      "<class 'pandas.core.frame.DataFrame'>\n",
      "RangeIndex: 594 entries, 0 to 593\n",
      "Columns: 193 entries, id to texture64\n",
      "dtypes: float64(192), int64(1)\n",
      "memory usage: 895.8 KB\n"
     ]
    },
    {
     "data": {
      "text/html": [
       "\n",
       "  <div id=\"df-237f51dd-2fa8-4e87-9ba8-c7818ccdec62\">\n",
       "    <div class=\"colab-df-container\">\n",
       "      <div>\n",
       "<style scoped>\n",
       "    .dataframe tbody tr th:only-of-type {\n",
       "        vertical-align: middle;\n",
       "    }\n",
       "\n",
       "    .dataframe tbody tr th {\n",
       "        vertical-align: top;\n",
       "    }\n",
       "\n",
       "    .dataframe thead th {\n",
       "        text-align: right;\n",
       "    }\n",
       "</style>\n",
       "<table border=\"1\" class=\"dataframe\">\n",
       "  <thead>\n",
       "    <tr style=\"text-align: right;\">\n",
       "      <th></th>\n",
       "      <th>id</th>\n",
       "      <th>margin1</th>\n",
       "      <th>margin2</th>\n",
       "      <th>margin3</th>\n",
       "      <th>margin4</th>\n",
       "      <th>margin5</th>\n",
       "      <th>margin6</th>\n",
       "      <th>margin7</th>\n",
       "      <th>margin8</th>\n",
       "      <th>margin9</th>\n",
       "      <th>...</th>\n",
       "      <th>texture55</th>\n",
       "      <th>texture56</th>\n",
       "      <th>texture57</th>\n",
       "      <th>texture58</th>\n",
       "      <th>texture59</th>\n",
       "      <th>texture60</th>\n",
       "      <th>texture61</th>\n",
       "      <th>texture62</th>\n",
       "      <th>texture63</th>\n",
       "      <th>texture64</th>\n",
       "    </tr>\n",
       "  </thead>\n",
       "  <tbody>\n",
       "    <tr>\n",
       "      <th>0</th>\n",
       "      <td>4</td>\n",
       "      <td>0.019531</td>\n",
       "      <td>0.009766</td>\n",
       "      <td>0.078125</td>\n",
       "      <td>0.011719</td>\n",
       "      <td>0.003906</td>\n",
       "      <td>0.015625</td>\n",
       "      <td>0.005859</td>\n",
       "      <td>0.0</td>\n",
       "      <td>0.005859</td>\n",
       "      <td>...</td>\n",
       "      <td>0.006836</td>\n",
       "      <td>0.000000</td>\n",
       "      <td>0.015625</td>\n",
       "      <td>0.000977</td>\n",
       "      <td>0.015625</td>\n",
       "      <td>0.0</td>\n",
       "      <td>0.0</td>\n",
       "      <td>0.000000</td>\n",
       "      <td>0.003906</td>\n",
       "      <td>0.053711</td>\n",
       "    </tr>\n",
       "    <tr>\n",
       "      <th>1</th>\n",
       "      <td>7</td>\n",
       "      <td>0.007812</td>\n",
       "      <td>0.005859</td>\n",
       "      <td>0.064453</td>\n",
       "      <td>0.009766</td>\n",
       "      <td>0.003906</td>\n",
       "      <td>0.013672</td>\n",
       "      <td>0.007812</td>\n",
       "      <td>0.0</td>\n",
       "      <td>0.033203</td>\n",
       "      <td>...</td>\n",
       "      <td>0.000000</td>\n",
       "      <td>0.000000</td>\n",
       "      <td>0.006836</td>\n",
       "      <td>0.001953</td>\n",
       "      <td>0.013672</td>\n",
       "      <td>0.0</td>\n",
       "      <td>0.0</td>\n",
       "      <td>0.000977</td>\n",
       "      <td>0.037109</td>\n",
       "      <td>0.044922</td>\n",
       "    </tr>\n",
       "    <tr>\n",
       "      <th>2</th>\n",
       "      <td>9</td>\n",
       "      <td>0.000000</td>\n",
       "      <td>0.000000</td>\n",
       "      <td>0.001953</td>\n",
       "      <td>0.021484</td>\n",
       "      <td>0.041016</td>\n",
       "      <td>0.000000</td>\n",
       "      <td>0.023438</td>\n",
       "      <td>0.0</td>\n",
       "      <td>0.011719</td>\n",
       "      <td>...</td>\n",
       "      <td>0.128910</td>\n",
       "      <td>0.000000</td>\n",
       "      <td>0.000977</td>\n",
       "      <td>0.000000</td>\n",
       "      <td>0.000000</td>\n",
       "      <td>0.0</td>\n",
       "      <td>0.0</td>\n",
       "      <td>0.015625</td>\n",
       "      <td>0.000000</td>\n",
       "      <td>0.000000</td>\n",
       "    </tr>\n",
       "    <tr>\n",
       "      <th>3</th>\n",
       "      <td>12</td>\n",
       "      <td>0.000000</td>\n",
       "      <td>0.000000</td>\n",
       "      <td>0.009766</td>\n",
       "      <td>0.011719</td>\n",
       "      <td>0.017578</td>\n",
       "      <td>0.000000</td>\n",
       "      <td>0.003906</td>\n",
       "      <td>0.0</td>\n",
       "      <td>0.003906</td>\n",
       "      <td>...</td>\n",
       "      <td>0.012695</td>\n",
       "      <td>0.015625</td>\n",
       "      <td>0.002930</td>\n",
       "      <td>0.036133</td>\n",
       "      <td>0.013672</td>\n",
       "      <td>0.0</td>\n",
       "      <td>0.0</td>\n",
       "      <td>0.089844</td>\n",
       "      <td>0.000000</td>\n",
       "      <td>0.008789</td>\n",
       "    </tr>\n",
       "    <tr>\n",
       "      <th>4</th>\n",
       "      <td>13</td>\n",
       "      <td>0.001953</td>\n",
       "      <td>0.000000</td>\n",
       "      <td>0.015625</td>\n",
       "      <td>0.009766</td>\n",
       "      <td>0.039062</td>\n",
       "      <td>0.000000</td>\n",
       "      <td>0.009766</td>\n",
       "      <td>0.0</td>\n",
       "      <td>0.005859</td>\n",
       "      <td>...</td>\n",
       "      <td>0.000000</td>\n",
       "      <td>0.042969</td>\n",
       "      <td>0.016602</td>\n",
       "      <td>0.010742</td>\n",
       "      <td>0.041016</td>\n",
       "      <td>0.0</td>\n",
       "      <td>0.0</td>\n",
       "      <td>0.007812</td>\n",
       "      <td>0.009766</td>\n",
       "      <td>0.007812</td>\n",
       "    </tr>\n",
       "  </tbody>\n",
       "</table>\n",
       "<p>5 rows × 193 columns</p>\n",
       "</div>\n",
       "      <button class=\"colab-df-convert\" onclick=\"convertToInteractive('df-237f51dd-2fa8-4e87-9ba8-c7818ccdec62')\"\n",
       "              title=\"Convert this dataframe to an interactive table.\"\n",
       "              style=\"display:none;\">\n",
       "        \n",
       "  <svg xmlns=\"http://www.w3.org/2000/svg\" height=\"24px\"viewBox=\"0 0 24 24\"\n",
       "       width=\"24px\">\n",
       "    <path d=\"M0 0h24v24H0V0z\" fill=\"none\"/>\n",
       "    <path d=\"M18.56 5.44l.94 2.06.94-2.06 2.06-.94-2.06-.94-.94-2.06-.94 2.06-2.06.94zm-11 1L8.5 8.5l.94-2.06 2.06-.94-2.06-.94L8.5 2.5l-.94 2.06-2.06.94zm10 10l.94 2.06.94-2.06 2.06-.94-2.06-.94-.94-2.06-.94 2.06-2.06.94z\"/><path d=\"M17.41 7.96l-1.37-1.37c-.4-.4-.92-.59-1.43-.59-.52 0-1.04.2-1.43.59L10.3 9.45l-7.72 7.72c-.78.78-.78 2.05 0 2.83L4 21.41c.39.39.9.59 1.41.59.51 0 1.02-.2 1.41-.59l7.78-7.78 2.81-2.81c.8-.78.8-2.07 0-2.86zM5.41 20L4 18.59l7.72-7.72 1.47 1.35L5.41 20z\"/>\n",
       "  </svg>\n",
       "      </button>\n",
       "      \n",
       "  <style>\n",
       "    .colab-df-container {\n",
       "      display:flex;\n",
       "      flex-wrap:wrap;\n",
       "      gap: 12px;\n",
       "    }\n",
       "\n",
       "    .colab-df-convert {\n",
       "      background-color: #E8F0FE;\n",
       "      border: none;\n",
       "      border-radius: 50%;\n",
       "      cursor: pointer;\n",
       "      display: none;\n",
       "      fill: #1967D2;\n",
       "      height: 32px;\n",
       "      padding: 0 0 0 0;\n",
       "      width: 32px;\n",
       "    }\n",
       "\n",
       "    .colab-df-convert:hover {\n",
       "      background-color: #E2EBFA;\n",
       "      box-shadow: 0px 1px 2px rgba(60, 64, 67, 0.3), 0px 1px 3px 1px rgba(60, 64, 67, 0.15);\n",
       "      fill: #174EA6;\n",
       "    }\n",
       "\n",
       "    [theme=dark] .colab-df-convert {\n",
       "      background-color: #3B4455;\n",
       "      fill: #D2E3FC;\n",
       "    }\n",
       "\n",
       "    [theme=dark] .colab-df-convert:hover {\n",
       "      background-color: #434B5C;\n",
       "      box-shadow: 0px 1px 3px 1px rgba(0, 0, 0, 0.15);\n",
       "      filter: drop-shadow(0px 1px 2px rgba(0, 0, 0, 0.3));\n",
       "      fill: #FFFFFF;\n",
       "    }\n",
       "  </style>\n",
       "\n",
       "      <script>\n",
       "        const buttonEl =\n",
       "          document.querySelector('#df-237f51dd-2fa8-4e87-9ba8-c7818ccdec62 button.colab-df-convert');\n",
       "        buttonEl.style.display =\n",
       "          google.colab.kernel.accessAllowed ? 'block' : 'none';\n",
       "\n",
       "        async function convertToInteractive(key) {\n",
       "          const element = document.querySelector('#df-237f51dd-2fa8-4e87-9ba8-c7818ccdec62');\n",
       "          const dataTable =\n",
       "            await google.colab.kernel.invokeFunction('convertToInteractive',\n",
       "                                                     [key], {});\n",
       "          if (!dataTable) return;\n",
       "\n",
       "          const docLinkHtml = 'Like what you see? Visit the ' +\n",
       "            '<a target=\"_blank\" href=https://colab.research.google.com/notebooks/data_table.ipynb>data table notebook</a>'\n",
       "            + ' to learn more about interactive tables.';\n",
       "          element.innerHTML = '';\n",
       "          dataTable['output_type'] = 'display_data';\n",
       "          await google.colab.output.renderOutput(dataTable, element);\n",
       "          const docLink = document.createElement('div');\n",
       "          docLink.innerHTML = docLinkHtml;\n",
       "          element.appendChild(docLink);\n",
       "        }\n",
       "      </script>\n",
       "    </div>\n",
       "  </div>\n",
       "  "
      ],
      "text/plain": [
       "   id   margin1   margin2   margin3   margin4   margin5   margin6   margin7  \\\n",
       "0   4  0.019531  0.009766  0.078125  0.011719  0.003906  0.015625  0.005859   \n",
       "1   7  0.007812  0.005859  0.064453  0.009766  0.003906  0.013672  0.007812   \n",
       "2   9  0.000000  0.000000  0.001953  0.021484  0.041016  0.000000  0.023438   \n",
       "3  12  0.000000  0.000000  0.009766  0.011719  0.017578  0.000000  0.003906   \n",
       "4  13  0.001953  0.000000  0.015625  0.009766  0.039062  0.000000  0.009766   \n",
       "\n",
       "   margin8   margin9  ...  texture55  texture56  texture57  texture58  \\\n",
       "0      0.0  0.005859  ...   0.006836   0.000000   0.015625   0.000977   \n",
       "1      0.0  0.033203  ...   0.000000   0.000000   0.006836   0.001953   \n",
       "2      0.0  0.011719  ...   0.128910   0.000000   0.000977   0.000000   \n",
       "3      0.0  0.003906  ...   0.012695   0.015625   0.002930   0.036133   \n",
       "4      0.0  0.005859  ...   0.000000   0.042969   0.016602   0.010742   \n",
       "\n",
       "   texture59  texture60  texture61  texture62  texture63  texture64  \n",
       "0   0.015625        0.0        0.0   0.000000   0.003906   0.053711  \n",
       "1   0.013672        0.0        0.0   0.000977   0.037109   0.044922  \n",
       "2   0.000000        0.0        0.0   0.015625   0.000000   0.000000  \n",
       "3   0.013672        0.0        0.0   0.089844   0.000000   0.008789  \n",
       "4   0.041016        0.0        0.0   0.007812   0.009766   0.007812  \n",
       "\n",
       "[5 rows x 193 columns]"
      ]
     },
     "execution_count": 45,
     "metadata": {},
     "output_type": "execute_result"
    },
    {
     "name": "stdout",
     "output_type": "stream",
     "text": [
      "Shape of Leaf test dataset (594, 193)\n"
     ]
    },
    {
     "data": {
      "text/html": [
       "\n",
       "  <div id=\"df-75ec8543-8cb0-40ee-b8af-e99742062e70\">\n",
       "    <div class=\"colab-df-container\">\n",
       "      <div>\n",
       "<style scoped>\n",
       "    .dataframe tbody tr th:only-of-type {\n",
       "        vertical-align: middle;\n",
       "    }\n",
       "\n",
       "    .dataframe tbody tr th {\n",
       "        vertical-align: top;\n",
       "    }\n",
       "\n",
       "    .dataframe thead th {\n",
       "        text-align: right;\n",
       "    }\n",
       "</style>\n",
       "<table border=\"1\" class=\"dataframe\">\n",
       "  <thead>\n",
       "    <tr style=\"text-align: right;\">\n",
       "      <th></th>\n",
       "      <th>count</th>\n",
       "      <th>mean</th>\n",
       "      <th>std</th>\n",
       "      <th>min</th>\n",
       "      <th>25%</th>\n",
       "      <th>50%</th>\n",
       "      <th>75%</th>\n",
       "      <th>max</th>\n",
       "    </tr>\n",
       "  </thead>\n",
       "  <tbody>\n",
       "    <tr>\n",
       "      <th>id</th>\n",
       "      <td>594.0</td>\n",
       "      <td>780.673401</td>\n",
       "      <td>465.646977</td>\n",
       "      <td>4.0</td>\n",
       "      <td>368.500000</td>\n",
       "      <td>774.000000</td>\n",
       "      <td>1184.500000</td>\n",
       "      <td>1583.000000</td>\n",
       "    </tr>\n",
       "    <tr>\n",
       "      <th>margin1</th>\n",
       "      <td>594.0</td>\n",
       "      <td>0.017562</td>\n",
       "      <td>0.019585</td>\n",
       "      <td>0.0</td>\n",
       "      <td>0.001953</td>\n",
       "      <td>0.009766</td>\n",
       "      <td>0.028809</td>\n",
       "      <td>0.085938</td>\n",
       "    </tr>\n",
       "    <tr>\n",
       "      <th>margin2</th>\n",
       "      <td>594.0</td>\n",
       "      <td>0.028425</td>\n",
       "      <td>0.038351</td>\n",
       "      <td>0.0</td>\n",
       "      <td>0.001953</td>\n",
       "      <td>0.010743</td>\n",
       "      <td>0.041016</td>\n",
       "      <td>0.189450</td>\n",
       "    </tr>\n",
       "    <tr>\n",
       "      <th>margin3</th>\n",
       "      <td>594.0</td>\n",
       "      <td>0.031858</td>\n",
       "      <td>0.025719</td>\n",
       "      <td>0.0</td>\n",
       "      <td>0.013672</td>\n",
       "      <td>0.023438</td>\n",
       "      <td>0.042969</td>\n",
       "      <td>0.167970</td>\n",
       "    </tr>\n",
       "    <tr>\n",
       "      <th>margin4</th>\n",
       "      <td>594.0</td>\n",
       "      <td>0.022556</td>\n",
       "      <td>0.028797</td>\n",
       "      <td>0.0</td>\n",
       "      <td>0.005859</td>\n",
       "      <td>0.013672</td>\n",
       "      <td>0.027344</td>\n",
       "      <td>0.164060</td>\n",
       "    </tr>\n",
       "    <tr>\n",
       "      <th>...</th>\n",
       "      <td>...</td>\n",
       "      <td>...</td>\n",
       "      <td>...</td>\n",
       "      <td>...</td>\n",
       "      <td>...</td>\n",
       "      <td>...</td>\n",
       "      <td>...</td>\n",
       "      <td>...</td>\n",
       "    </tr>\n",
       "    <tr>\n",
       "      <th>texture60</th>\n",
       "      <td>594.0</td>\n",
       "      <td>0.011217</td>\n",
       "      <td>0.052530</td>\n",
       "      <td>0.0</td>\n",
       "      <td>0.000000</td>\n",
       "      <td>0.000000</td>\n",
       "      <td>0.000000</td>\n",
       "      <td>0.606450</td>\n",
       "    </tr>\n",
       "    <tr>\n",
       "      <th>texture61</th>\n",
       "      <td>594.0</td>\n",
       "      <td>0.002617</td>\n",
       "      <td>0.011204</td>\n",
       "      <td>0.0</td>\n",
       "      <td>0.000000</td>\n",
       "      <td>0.000000</td>\n",
       "      <td>0.000000</td>\n",
       "      <td>0.123050</td>\n",
       "    </tr>\n",
       "    <tr>\n",
       "      <th>texture62</th>\n",
       "      <td>594.0</td>\n",
       "      <td>0.019975</td>\n",
       "      <td>0.034704</td>\n",
       "      <td>0.0</td>\n",
       "      <td>0.000000</td>\n",
       "      <td>0.003418</td>\n",
       "      <td>0.022461</td>\n",
       "      <td>0.247070</td>\n",
       "    </tr>\n",
       "    <tr>\n",
       "      <th>texture63</th>\n",
       "      <td>594.0</td>\n",
       "      <td>0.009389</td>\n",
       "      <td>0.013457</td>\n",
       "      <td>0.0</td>\n",
       "      <td>0.000000</td>\n",
       "      <td>0.002930</td>\n",
       "      <td>0.014648</td>\n",
       "      <td>0.086914</td>\n",
       "    </tr>\n",
       "    <tr>\n",
       "      <th>texture64</th>\n",
       "      <td>594.0</td>\n",
       "      <td>0.020970</td>\n",
       "      <td>0.023407</td>\n",
       "      <td>0.0</td>\n",
       "      <td>0.000977</td>\n",
       "      <td>0.013184</td>\n",
       "      <td>0.032227</td>\n",
       "      <td>0.149410</td>\n",
       "    </tr>\n",
       "  </tbody>\n",
       "</table>\n",
       "<p>193 rows × 8 columns</p>\n",
       "</div>\n",
       "      <button class=\"colab-df-convert\" onclick=\"convertToInteractive('df-75ec8543-8cb0-40ee-b8af-e99742062e70')\"\n",
       "              title=\"Convert this dataframe to an interactive table.\"\n",
       "              style=\"display:none;\">\n",
       "        \n",
       "  <svg xmlns=\"http://www.w3.org/2000/svg\" height=\"24px\"viewBox=\"0 0 24 24\"\n",
       "       width=\"24px\">\n",
       "    <path d=\"M0 0h24v24H0V0z\" fill=\"none\"/>\n",
       "    <path d=\"M18.56 5.44l.94 2.06.94-2.06 2.06-.94-2.06-.94-.94-2.06-.94 2.06-2.06.94zm-11 1L8.5 8.5l.94-2.06 2.06-.94-2.06-.94L8.5 2.5l-.94 2.06-2.06.94zm10 10l.94 2.06.94-2.06 2.06-.94-2.06-.94-.94-2.06-.94 2.06-2.06.94z\"/><path d=\"M17.41 7.96l-1.37-1.37c-.4-.4-.92-.59-1.43-.59-.52 0-1.04.2-1.43.59L10.3 9.45l-7.72 7.72c-.78.78-.78 2.05 0 2.83L4 21.41c.39.39.9.59 1.41.59.51 0 1.02-.2 1.41-.59l7.78-7.78 2.81-2.81c.8-.78.8-2.07 0-2.86zM5.41 20L4 18.59l7.72-7.72 1.47 1.35L5.41 20z\"/>\n",
       "  </svg>\n",
       "      </button>\n",
       "      \n",
       "  <style>\n",
       "    .colab-df-container {\n",
       "      display:flex;\n",
       "      flex-wrap:wrap;\n",
       "      gap: 12px;\n",
       "    }\n",
       "\n",
       "    .colab-df-convert {\n",
       "      background-color: #E8F0FE;\n",
       "      border: none;\n",
       "      border-radius: 50%;\n",
       "      cursor: pointer;\n",
       "      display: none;\n",
       "      fill: #1967D2;\n",
       "      height: 32px;\n",
       "      padding: 0 0 0 0;\n",
       "      width: 32px;\n",
       "    }\n",
       "\n",
       "    .colab-df-convert:hover {\n",
       "      background-color: #E2EBFA;\n",
       "      box-shadow: 0px 1px 2px rgba(60, 64, 67, 0.3), 0px 1px 3px 1px rgba(60, 64, 67, 0.15);\n",
       "      fill: #174EA6;\n",
       "    }\n",
       "\n",
       "    [theme=dark] .colab-df-convert {\n",
       "      background-color: #3B4455;\n",
       "      fill: #D2E3FC;\n",
       "    }\n",
       "\n",
       "    [theme=dark] .colab-df-convert:hover {\n",
       "      background-color: #434B5C;\n",
       "      box-shadow: 0px 1px 3px 1px rgba(0, 0, 0, 0.15);\n",
       "      filter: drop-shadow(0px 1px 2px rgba(0, 0, 0, 0.3));\n",
       "      fill: #FFFFFF;\n",
       "    }\n",
       "  </style>\n",
       "\n",
       "      <script>\n",
       "        const buttonEl =\n",
       "          document.querySelector('#df-75ec8543-8cb0-40ee-b8af-e99742062e70 button.colab-df-convert');\n",
       "        buttonEl.style.display =\n",
       "          google.colab.kernel.accessAllowed ? 'block' : 'none';\n",
       "\n",
       "        async function convertToInteractive(key) {\n",
       "          const element = document.querySelector('#df-75ec8543-8cb0-40ee-b8af-e99742062e70');\n",
       "          const dataTable =\n",
       "            await google.colab.kernel.invokeFunction('convertToInteractive',\n",
       "                                                     [key], {});\n",
       "          if (!dataTable) return;\n",
       "\n",
       "          const docLinkHtml = 'Like what you see? Visit the ' +\n",
       "            '<a target=\"_blank\" href=https://colab.research.google.com/notebooks/data_table.ipynb>data table notebook</a>'\n",
       "            + ' to learn more about interactive tables.';\n",
       "          element.innerHTML = '';\n",
       "          dataTable['output_type'] = 'display_data';\n",
       "          await google.colab.output.renderOutput(dataTable, element);\n",
       "          const docLink = document.createElement('div');\n",
       "          docLink.innerHTML = docLinkHtml;\n",
       "          element.appendChild(docLink);\n",
       "        }\n",
       "      </script>\n",
       "    </div>\n",
       "  </div>\n",
       "  "
      ],
      "text/plain": [
       "           count        mean         std  min         25%         50%  \\\n",
       "id         594.0  780.673401  465.646977  4.0  368.500000  774.000000   \n",
       "margin1    594.0    0.017562    0.019585  0.0    0.001953    0.009766   \n",
       "margin2    594.0    0.028425    0.038351  0.0    0.001953    0.010743   \n",
       "margin3    594.0    0.031858    0.025719  0.0    0.013672    0.023438   \n",
       "margin4    594.0    0.022556    0.028797  0.0    0.005859    0.013672   \n",
       "...          ...         ...         ...  ...         ...         ...   \n",
       "texture60  594.0    0.011217    0.052530  0.0    0.000000    0.000000   \n",
       "texture61  594.0    0.002617    0.011204  0.0    0.000000    0.000000   \n",
       "texture62  594.0    0.019975    0.034704  0.0    0.000000    0.003418   \n",
       "texture63  594.0    0.009389    0.013457  0.0    0.000000    0.002930   \n",
       "texture64  594.0    0.020970    0.023407  0.0    0.000977    0.013184   \n",
       "\n",
       "                   75%          max  \n",
       "id         1184.500000  1583.000000  \n",
       "margin1       0.028809     0.085938  \n",
       "margin2       0.041016     0.189450  \n",
       "margin3       0.042969     0.167970  \n",
       "margin4       0.027344     0.164060  \n",
       "...                ...          ...  \n",
       "texture60     0.000000     0.606450  \n",
       "texture61     0.000000     0.123050  \n",
       "texture62     0.022461     0.247070  \n",
       "texture63     0.014648     0.086914  \n",
       "texture64     0.032227     0.149410  \n",
       "\n",
       "[193 rows x 8 columns]"
      ]
     },
     "execution_count": 45,
     "metadata": {},
     "output_type": "execute_result"
    },
    {
     "data": {
      "text/plain": [
       "Index(['id', 'margin1', 'margin2', 'margin3', 'margin4', 'margin5', 'margin6',\n",
       "       'margin7', 'margin8', 'margin9',\n",
       "       ...\n",
       "       'texture55', 'texture56', 'texture57', 'texture58', 'texture59',\n",
       "       'texture60', 'texture61', 'texture62', 'texture63', 'texture64'],\n",
       "      dtype='object', length=193)"
      ]
     },
     "execution_count": 45,
     "metadata": {},
     "output_type": "execute_result"
    }
   ],
   "source": [
    "df_test = pd.read_csv(work_dir + \"./data/test.csv\")\n",
    "\n",
    "#Use the info() method to determine to inspect the variable (column) names, the number of non-null values,\n",
    "#and the data types for each variable\n",
    "df_test.info()\n",
    "\n",
    "# Use the head() method to inspect the first five (or more) rows of the data\n",
    "df_test.head()\n",
    "\n",
    "# shape of leaf test Dataset\n",
    "print('Shape of Leaf test dataset',df_test.shape)\n",
    "\n",
    "# Summary Statistics of leaf Dataset\n",
    "df_test.describe().transpose()\n",
    "\n",
    "df_test.keys()"
   ]
  },
  {
   "cell_type": "markdown",
   "metadata": {
    "id": "b3xnrHC1GtMj"
   },
   "source": [
    "The dataset is composed of a combination of 990 observations and 194 features in train dataset and 594 observations and 193 features in test dataset . All of the features are continous (float64) and ID is numerical(int64).The species feature is only present in train dataset. There are no missing values (Nan) but we can validate it again with null check."
   ]
  },
  {
   "cell_type": "code",
   "execution_count": 46,
   "metadata": {
    "colab": {
     "base_uri": "https://localhost:8080/"
    },
    "id": "sIbaOrqTHV-W",
    "outputId": "85cd8ef8-7d94-4832-84d8-5ba69a6efeda"
   },
   "outputs": [
    {
     "name": "stdout",
     "output_type": "stream",
     "text": [
      "Missing value in Leaf train data:  0\n",
      "Duplicates in Leaf train data:  0\n"
     ]
    }
   ],
   "source": [
    "# Checking for Missing values in train dataset\n",
    "print('Missing value in Leaf train data: ',df_train.isnull().sum().sum())\n",
    "\n",
    "# Checking for duplicates in train dataset\n",
    "print('Duplicates in Leaf train data: ',df_train.duplicated().sum())"
   ]
  },
  {
   "cell_type": "code",
   "execution_count": 47,
   "metadata": {
    "colab": {
     "base_uri": "https://localhost:8080/"
    },
    "id": "fOMRJ9XVHdLg",
    "outputId": "f46e24bd-25e7-4a7d-a84f-3fa342582028"
   },
   "outputs": [
    {
     "name": "stdout",
     "output_type": "stream",
     "text": [
      "Missing value in Leaf test data:  0\n",
      "Duplicates in Leaf test data:  0\n"
     ]
    }
   ],
   "source": [
    "# Checking for Missing values in test dataset\n",
    "print('Missing value in Leaf test data: ',df_test.isnull().sum().sum())\n",
    "\n",
    "# Checking for duplicates in test dataset\n",
    "print('Duplicates in Leaf test data: ',df_test.duplicated().sum())"
   ]
  },
  {
   "cell_type": "code",
   "execution_count": 48,
   "metadata": {
    "colab": {
     "base_uri": "https://localhost:8080/"
    },
    "id": "4TutINsPHaKK",
    "outputId": "f0d36be7-a2b5-48b5-9e96-ea7e1a7f4511"
   },
   "outputs": [
    {
     "name": "stdout",
     "output_type": "stream",
     "text": [
      "Acer_Opalus                    10\n",
      "Crataegus_Monogyna             10\n",
      "Acer_Mono                      10\n",
      "Magnolia_Heptapeta             10\n",
      "Acer_Capillipes                10\n",
      "                               ..\n",
      "Alnus_Rubra                    10\n",
      "Rhododendron_x_Russellianum    10\n",
      "Cytisus_Battandieri            10\n",
      "Liriodendron_Tulipifera        10\n",
      "Sorbus_Aria                    10\n",
      "Name: species, Length: 99, dtype: int64\n",
      "Acer_Opalus                    0.010101\n",
      "Crataegus_Monogyna             0.010101\n",
      "Acer_Mono                      0.010101\n",
      "Magnolia_Heptapeta             0.010101\n",
      "Acer_Capillipes                0.010101\n",
      "                                 ...   \n",
      "Alnus_Rubra                    0.010101\n",
      "Rhododendron_x_Russellianum    0.010101\n",
      "Cytisus_Battandieri            0.010101\n",
      "Liriodendron_Tulipifera        0.010101\n",
      "Sorbus_Aria                    0.010101\n",
      "Name: species, Length: 99, dtype: float64\n"
     ]
    }
   ],
   "source": [
    "# Inspect class balances for train set.\n",
    "print(df_train['species'].value_counts(ascending=False))\n",
    "print(df_train['species'].value_counts(normalize=True))"
   ]
  },
  {
   "cell_type": "code",
   "execution_count": 49,
   "metadata": {
    "colab": {
     "base_uri": "https://localhost:8080/",
     "height": 1000
    },
    "id": "ylgKprnmI1Hl",
    "outputId": "c1d53e4d-fd50-4e72-b867-c69548ce0b31"
   },
   "outputs": [
    {
     "data": {
      "text/plain": [
       "([<matplotlib.patches.Wedge at 0x7f28f245a810>,\n",
       "  <matplotlib.patches.Wedge at 0x7f28f245aa10>,\n",
       "  <matplotlib.patches.Wedge at 0x7f28f23baa50>,\n",
       "  <matplotlib.patches.Wedge at 0x7f28fd7e5390>,\n",
       "  <matplotlib.patches.Wedge at 0x7f28fd87c250>,\n",
       "  <matplotlib.patches.Wedge at 0x7f28fd87cad0>,\n",
       "  <matplotlib.patches.Wedge at 0x7f28fd860110>,\n",
       "  <matplotlib.patches.Wedge at 0x7f28fd8608d0>,\n",
       "  <matplotlib.patches.Wedge at 0x7f28fd7175d0>,\n",
       "  <matplotlib.patches.Wedge at 0x7f28fd87c8d0>,\n",
       "  <matplotlib.patches.Wedge at 0x7f28f245a610>,\n",
       "  <matplotlib.patches.Wedge at 0x7f28fd8cf6d0>,\n",
       "  <matplotlib.patches.Wedge at 0x7f28fd8cfe90>,\n",
       "  <matplotlib.patches.Wedge at 0x7f28f24bb690>,\n",
       "  <matplotlib.patches.Wedge at 0x7f28f24bbe50>,\n",
       "  <matplotlib.patches.Wedge at 0x7f28f24dc650>,\n",
       "  <matplotlib.patches.Wedge at 0x7f28f24dce10>,\n",
       "  <matplotlib.patches.Wedge at 0x7f28f24f2610>,\n",
       "  <matplotlib.patches.Wedge at 0x7f28f24f2dd0>,\n",
       "  <matplotlib.patches.Wedge at 0x7f28f24d35d0>,\n",
       "  <matplotlib.patches.Wedge at 0x7f28f24d3d90>,\n",
       "  <matplotlib.patches.Wedge at 0x7f28f23bf590>,\n",
       "  <matplotlib.patches.Wedge at 0x7f28f23bfd50>,\n",
       "  <matplotlib.patches.Wedge at 0x7f28f23e7550>,\n",
       "  <matplotlib.patches.Wedge at 0x7f28f23e7d10>,\n",
       "  <matplotlib.patches.Wedge at 0x7f28f23ef510>,\n",
       "  <matplotlib.patches.Wedge at 0x7f28f23efcd0>,\n",
       "  <matplotlib.patches.Wedge at 0x7f28f24764d0>,\n",
       "  <matplotlib.patches.Wedge at 0x7f28f2476c90>,\n",
       "  <matplotlib.patches.Wedge at 0x7f28f2489490>,\n",
       "  <matplotlib.patches.Wedge at 0x7f28f2489c50>,\n",
       "  <matplotlib.patches.Wedge at 0x7f28f2495450>,\n",
       "  <matplotlib.patches.Wedge at 0x7f28f2495c10>,\n",
       "  <matplotlib.patches.Wedge at 0x7f28f24a3410>,\n",
       "  <matplotlib.patches.Wedge at 0x7f28f24a3bd0>,\n",
       "  <matplotlib.patches.Wedge at 0x7f28f24b33d0>,\n",
       "  <matplotlib.patches.Wedge at 0x7f28f24b3b90>,\n",
       "  <matplotlib.patches.Wedge at 0x7f28f244d390>,\n",
       "  <matplotlib.patches.Wedge at 0x7f28f244db50>,\n",
       "  <matplotlib.patches.Wedge at 0x7f28f245c410>,\n",
       "  <matplotlib.patches.Wedge at 0x7f28f245cc90>,\n",
       "  <matplotlib.patches.Wedge at 0x7f28f246d3d0>,\n",
       "  <matplotlib.patches.Wedge at 0x7f28f246dc50>,\n",
       "  <matplotlib.patches.Wedge at 0x7f28f24752d0>,\n",
       "  <matplotlib.patches.Wedge at 0x7f28f2475a90>,\n",
       "  <matplotlib.patches.Wedge at 0x7f28f23ff290>,\n",
       "  <matplotlib.patches.Wedge at 0x7f28f23ffa50>,\n",
       "  <matplotlib.patches.Wedge at 0x7f28f240a0d0>,\n",
       "  <matplotlib.patches.Wedge at 0x7f28f240a950>,\n",
       "  <matplotlib.patches.Wedge at 0x7f28f2417150>,\n",
       "  <matplotlib.patches.Wedge at 0x7f28f2417910>,\n",
       "  <matplotlib.patches.Wedge at 0x7f28f2422110>,\n",
       "  <matplotlib.patches.Wedge at 0x7f28f24228d0>,\n",
       "  <matplotlib.patches.Wedge at 0x7f28f23780d0>,\n",
       "  <matplotlib.patches.Wedge at 0x7f28f2378890>,\n",
       "  <matplotlib.patches.Wedge at 0x7f28f2382090>,\n",
       "  <matplotlib.patches.Wedge at 0x7f28f2382850>,\n",
       "  <matplotlib.patches.Wedge at 0x7f28f2382fd0>,\n",
       "  <matplotlib.patches.Wedge at 0x7f28f238d810>,\n",
       "  <matplotlib.patches.Wedge at 0x7f28f238dfd0>,\n",
       "  <matplotlib.patches.Wedge at 0x7f28f23997d0>,\n",
       "  <matplotlib.patches.Wedge at 0x7f28f2399f90>,\n",
       "  <matplotlib.patches.Wedge at 0x7f28f23a6790>,\n",
       "  <matplotlib.patches.Wedge at 0x7f28f23a6f50>,\n",
       "  <matplotlib.patches.Wedge at 0x7f28f23b2750>,\n",
       "  <matplotlib.patches.Wedge at 0x7f28f23b2f10>,\n",
       "  <matplotlib.patches.Wedge at 0x7f28f233b710>,\n",
       "  <matplotlib.patches.Wedge at 0x7f28f233bed0>,\n",
       "  <matplotlib.patches.Wedge at 0x7f28f23476d0>,\n",
       "  <matplotlib.patches.Wedge at 0x7f28f2347e90>,\n",
       "  <matplotlib.patches.Wedge at 0x7f28f2352690>,\n",
       "  <matplotlib.patches.Wedge at 0x7f28f2352e50>,\n",
       "  <matplotlib.patches.Wedge at 0x7f28f235d650>,\n",
       "  <matplotlib.patches.Wedge at 0x7f28f235de10>,\n",
       "  <matplotlib.patches.Wedge at 0x7f28f236a610>,\n",
       "  <matplotlib.patches.Wedge at 0x7f28f236add0>,\n",
       "  <matplotlib.patches.Wedge at 0x7f28f22f65d0>,\n",
       "  <matplotlib.patches.Wedge at 0x7f28f22f6d90>,\n",
       "  <matplotlib.patches.Wedge at 0x7f28f2300590>,\n",
       "  <matplotlib.patches.Wedge at 0x7f28f2300d50>,\n",
       "  <matplotlib.patches.Wedge at 0x7f28f230c550>,\n",
       "  <matplotlib.patches.Wedge at 0x7f28f230cd10>,\n",
       "  <matplotlib.patches.Wedge at 0x7f28f2319510>,\n",
       "  <matplotlib.patches.Wedge at 0x7f28f2319cd0>,\n",
       "  <matplotlib.patches.Wedge at 0x7f28f23254d0>,\n",
       "  <matplotlib.patches.Wedge at 0x7f28f2325c90>,\n",
       "  <matplotlib.patches.Wedge at 0x7f28f2330490>,\n",
       "  <matplotlib.patches.Wedge at 0x7f28f2330c50>,\n",
       "  <matplotlib.patches.Wedge at 0x7f28f22bd450>,\n",
       "  <matplotlib.patches.Wedge at 0x7f28f22bdc10>,\n",
       "  <matplotlib.patches.Wedge at 0x7f28f22cb350>,\n",
       "  <matplotlib.patches.Wedge at 0x7f28f22cbb10>,\n",
       "  <matplotlib.patches.Wedge at 0x7f28f22d8310>,\n",
       "  <matplotlib.patches.Wedge at 0x7f28f22d8ad0>,\n",
       "  <matplotlib.patches.Wedge at 0x7f28f22e42d0>,\n",
       "  <matplotlib.patches.Wedge at 0x7f28f22e4a90>,\n",
       "  <matplotlib.patches.Wedge at 0x7f28f22f1290>,\n",
       "  <matplotlib.patches.Wedge at 0x7f28f22f1a50>,\n",
       "  <matplotlib.patches.Wedge at 0x7f28f227c250>],\n",
       " [Text(-0.034900726815381526, 1.099446196622535, ''),\n",
       "  Text(-0.10456164753751467, 1.0950191148396637, ''),\n",
       "  Text(-0.17380153541018017, 1.0861827775697164, ''),\n",
       "  Text(-0.2423415858432209, 1.0729727656240828, ''),\n",
       "  Text(-0.3099058122448406, 1.0554422710583775, ''),\n",
       "  Text(-0.37622215732219927, 1.0336618829868065, ''),\n",
       "  Text(-0.4410235885601086, 1.0077193033447183, ''),\n",
       "  Text(-0.5040491734667203, 0.9777189937438652, ''),\n",
       "  Text(-0.5650451302565758, 0.9437817548423626, ''),\n",
       "  Text(-0.623765849740282, 0.9060442399230758, ''),\n",
       "  Text(-0.6799748843060313, 0.8646584046390804, ''),\n",
       "  Text(-0.7334459000106762, 0.8197908951418827, ''),\n",
       "  Text(-0.7839635879466379, 0.7716223770561831, ''),\n",
       "  Text(-0.8313245312148794, 0.7203468080031737, ''),\n",
       "  Text(-0.875338024012965, 0.6661706566016533, ''),\n",
       "  Text(-0.9158268395400145, 0.6093120710917752, ''),\n",
       "  Text(-0.9526279436264792, 0.5500000009290781, ''),\n",
       "  Text(-0.9855931512151993, 0.48847327488583586, ''),\n",
       "  Text(-1.0145897230503267, 0.42497963937189, ''),\n",
       "  Text(-1.0395009001714581, 0.35977476084729487, ''),\n",
       "  Text(-1.0602263740607585, 0.29312119634372524, ''),\n",
       "  Text(-1.0766826905499576, 0.22528733623997743, ''),\n",
       "  Text(-1.0888035858608311, 0.15654632354864134, ''),\n",
       "  Text(-1.0965402534260478, 0.08717495406559857, ''),\n",
       "  Text(-1.0998615404159888, 0.01745256181104356, ''),\n",
       "  Text(-1.0987540731801986, -0.05234010575002072, ''),\n",
       "  Text(-1.093222311098353, -0.1219220181787358, ''),\n",
       "  Text(-1.0832885286239138, -0.1910129936727763, ''),\n",
       "  Text(-1.0689927255927643, -0.25933482725957413, ''),\n",
       "  Text(-1.0503924661579889, -0.3266124110295538, ''),\n",
       "  Text(-1.0275626469993469, -0.39257484189858116, ''),\n",
       "  Text(-1.0005951957407757, -0.456956512439071, ''),\n",
       "  Text(-0.9695987007902982, -0.5194981803873485, ''),\n",
       "  Text(-0.9346979740928276, -0.5799480125207465, ''),\n",
       "  Text(-0.8960335485565188, -0.6380625987011092, ''),\n",
       "  Text(-0.853761112176349, -0.6936079320015045, ''),\n",
       "  Text(-0.8080508811335105, -0.7463603509695282, ''),\n",
       "  Text(-0.7590869143949293, -0.7961074402330287, ''),\n",
       "  Text(-0.7070663725727674, -0.8426488858218403, ''),\n",
       "  Text(-0.6521987240282274, -0.8857972817614379, ''),\n",
       "  Text(-0.5947049014163908, -0.9253788846906553, ''),\n",
       "  Text(-0.5348164120683983, -0.9612343134648729, ''),\n",
       "  Text(-0.4727744057931364, -0.9932191909276356, ''),\n",
       "  Text(-0.40882870385207076, -1.021204725266504, ''),\n",
       "  Text(-0.34323679301720267, -1.045078228612225, ''),\n",
       "  Text(-0.2762627887627141, -1.0647435707930093, ''),\n",
       "  Text(-0.2081763717651793, -1.080121566416802, ''),\n",
       "  Text(-0.13925170199466014, -1.091150293722909, ''),\n",
       "  Text(-0.0697663147692731, -1.097785343919072, ''),\n",
       "  Text(-3.2184203102642284e-09, -1.1, ''),\n",
       "  Text(0.06976630834539291, -1.0977853443273213, ''),\n",
       "  Text(0.1392516956096061, -1.0911502945377642, ''),\n",
       "  Text(0.20817636544466173, -1.080121567634982, ''),\n",
       "  Text(0.2762627825321835, -1.0647435724096086, ''),\n",
       "  Text(0.34323678690174625, -1.0450782306207347, ''),\n",
       "  Text(0.40882869787631526, -1.0212047276588356, ''),\n",
       "  Text(0.47277439998114307, -0.9932191936941565, ''),\n",
       "  Text(0.53481640644357, -0.9612343165944434, ''),\n",
       "  Text(0.5947048960013758, -0.9253788881706742, ''),\n",
       "  Text(0.6521987188448312, -0.8857972855778918, ''),\n",
       "  Text(0.7070663676418621, -0.842648889959361, ''),\n",
       "  Text(0.7590869097363693, -0.7961074446749568, ''),\n",
       "  Text(0.8080508767660542, -0.7463603556979773, ''),\n",
       "  Text(0.8537611081175821, -0.6936079369974356, ''),\n",
       "  Text(0.8960335448227852, -0.6380626039444044, ''),\n",
       "  Text(0.9346979706991617, -0.5799480179902932, ''),\n",
       "  Text(0.9695986977503649, -0.5194981860611224, ''),\n",
       "  Text(1.000595193066816, -0.4569565182942263, ''),\n",
       "  Text(1.027562644702127, -0.39257484791154207, ''),\n",
       "  Text(1.05039246424676, -0.3266124171761069, ''),\n",
       "  Text(1.0689927240752217, -0.25933483351496983, ''),\n",
       "  Text(1.0832885275061683, -0.19101300001182592, ''),\n",
       "  Text(1.0932223103849052, -0.12192202457591463, ''),\n",
       "  Text(1.0987540728739214, -0.052340112179570096, ''),\n",
       "  Text(1.0998615405181156, 0.01745255537501365, ''),\n",
       "  Text(1.096540253936167, 0.08717494764900373, ''),\n",
       "  Text(1.0888035867768888, 0.15654631717731946, ''),\n",
       "  Text(1.0766826918682653, 0.22528732993958303, ''),\n",
       "  Text(1.0602263757760078, 0.29312119013962734, ''),\n",
       "  Text(1.0395009022767425, 0.35977475476447573, ''),\n",
       "  Text(1.0145897255371685, 0.4249796334348428, ''),\n",
       "  Text(0.9855931540735849, 0.4884732691184676, ''),\n",
       "  Text(0.9526279468448989, 0.5499999953546113, ''),\n",
       "  Text(0.9158268431055095, 0.6093120657326562, ''),\n",
       "  Text(0.8753380279111778, 0.6661706514794616, ''),\n",
       "  Text(0.8313245354301133, 0.7203468031385345, ''),\n",
       "  Text(0.7839635924619193, 0.7716223724686849, ''),\n",
       "  Text(0.733445904807824, 0.8197908908499975, ''),\n",
       "  Text(0.6799748893657293, 0.8646584006600898, ''),\n",
       "  Text(0.6237658550421564, 0.906044236273002, ''),\n",
       "  Text(0.5650451357792775, 0.9437817515359036, ''),\n",
       "  Text(0.5040491791880115, 0.9777189907943346, ''),\n",
       "  Text(0.4410235944569516, 1.0077193007639926, ''),\n",
       "  Text(0.37622216337085074, 1.0336618807852773, ''),\n",
       "  Text(0.3099058184209435, 1.0554422692449101, ''),\n",
       "  Text(0.24234159212190626, 1.0729727642059792, ''),\n",
       "  Text(0.17380154176616594, 1.0861827765526868, ''),\n",
       "  Text(0.10456165394520853, 1.0950191142278032, ''),\n",
       "  Text(0.03490073324898098, 1.0994461964183075, '')],\n",
       " [Text(-0.02696874344824936, 0.8495720610265043, '1.0%'),\n",
       "  Text(-0.08079763673353405, 0.8461511341942856, '1.0%'),\n",
       "  Text(-0.134301186453321, 0.8393230553947808, '1.0%'),\n",
       "  Text(-0.1872639526970343, 0.8291153188913367, '1.0%'),\n",
       "  Text(-0.2394726730982859, 0.8155690276360189, '1.0%'),\n",
       "  Text(-0.29071712156715396, 0.7987387277625323, '1.0%'),\n",
       "  Text(-0.3407909547964475, 0.7786921889481913, '1.0%'),\n",
       "  Text(-0.3894925431333747, 0.7555101315293503, '1.0%'),\n",
       "  Text(-0.4366257824709903, 0.7292859014690983, '1.0%'),\n",
       "  Text(-0.4820008838902179, 0.700125094486013, '1.0%'),\n",
       "  Text(-0.5254351378728422, 0.6681451308574711, '1.0%'),\n",
       "  Text(-0.5667536500082497, 0.6334747826096366, '1.0%'),\n",
       "  Text(-0.6057900452314928, 0.5962536549979596, '1.0%'),\n",
       "  Text(-0.6423871377569522, 0.5566316243660887, '1.0%'),\n",
       "  Text(-0.6763975640100184, 0.514768234646732, '1.0%'),\n",
       "  Text(-0.707684376008193, 0.47083205493455355, '1.0%'),\n",
       "  Text(-0.7361215928022793, 0.42500000071792393, '1.0%'),\n",
       "  Text(-0.7615947077571994, 0.3774566215026913, '1.0%'),\n",
       "  Text(-0.7840011496297978, 0.3283933576964604, '1.0%'),\n",
       "  Text(-0.8032506955870359, 0.2780077697456369, '1.0%'),\n",
       "  Text(-0.8192658345014951, 0.22650274262924222, '1.0%'),\n",
       "  Text(-0.8319820790613307, 0.17408566891270982, '1.0%'),\n",
       "  Text(-0.8413482254379149, 0.12096761365122286, '1.0%'),\n",
       "  Text(-0.8473265594655822, 0.06736246450523525, '1.0%'),\n",
       "  Text(-0.849893008503264, 0.01348607049035184, '1.0%'),\n",
       "  Text(-0.8490372383665169, -0.04044462717047055, '1.0%'),\n",
       "  Text(-0.8447626949396364, -0.09421246859265947, '1.0%'),\n",
       "  Text(-0.837086590300297, -0.1476009496562362, '1.0%'),\n",
       "  Text(-0.8260398334125905, -0.20039509379148907, '1.0%'),\n",
       "  Text(-0.8116669056675369, -0.2523823176137461, '1.0%'),\n",
       "  Text(-0.7940256817722224, -0.3033532869216308, '1.0%'),\n",
       "  Text(-0.7731871967087811, -0.3531027596120094, '1.0%'),\n",
       "  Text(-0.7492353597015939, -0.4014304121174965, '1.0%'),\n",
       "  Text(-0.7222666163444577, -0.44814164603875856, '1.0%'),\n",
       "  Text(-0.6923895602482191, -0.49304837172358434, '1.0%'),\n",
       "  Text(-0.6597244957726333, -0.5359697656375262, '1.0%'),\n",
       "  Text(-0.6244029536031671, -0.5767329984764535, '1.0%'),\n",
       "  Text(-0.5865671611233544, -0.6151739310891585, '1.0%'),\n",
       "  Text(-0.5463694697153202, -0.6511377754077855, '1.0%'),\n",
       "  Text(-0.5039717412945393, -0.6844797177247474, '1.0%'),\n",
       "  Text(-0.4595446965490292, -0.7150655018064155, '1.0%'),\n",
       "  Text(-0.41326722750739864, -0.7427719694955834, '1.0%'),\n",
       "  Text(-0.36532567720378717, -0.7674875566259002, '1.0%'),\n",
       "  Text(-0.3159130893402365, -0.7891127422513894, '1.0%'),\n",
       "  Text(-0.2652284309678384, -0.8075604493821739, '1.0%'),\n",
       "  Text(-0.2134757913166427, -0.8227563956127799, '1.0%'),\n",
       "  Text(-0.1608635600003658, -0.8346393922311651, '1.0%'),\n",
       "  Text(-0.10760358790496465, -0.8431615906040659, '1.0%'),\n",
       "  Text(-0.053910334139892845, -0.8482886748465555, '1.0%'),\n",
       "  Text(-2.48696114884054e-09, -0.85, '1.0%'),\n",
       "  Text(0.05391032917598542, -0.848288675162021, '1.0%'),\n",
       "  Text(0.10760358297105925, -0.8431615912337269, '1.0%'),\n",
       "  Text(0.1608635551163295, -0.8346393931724859, '1.0%'),\n",
       "  Text(0.21347578650214177, -0.8227563968619703, '1.0%'),\n",
       "  Text(0.26522842624225845, -0.8075604509342039, '1.0%'),\n",
       "  Text(0.31591308472260726, -0.7891127441000093, '1.0%'),\n",
       "  Text(0.36532567271270144, -0.7674875587636663, '1.0%'),\n",
       "  Text(0.4132672231609404, -0.7427719719138879, '1.0%'),\n",
       "  Text(0.4595446923646994, -0.7150655044955209, '1.0%'),\n",
       "  Text(0.5039717372891876, -0.6844797206738253, '1.0%'),\n",
       "  Text(0.5463694659050752, -0.6511377786049607, '1.0%'),\n",
       "  Text(0.586567157523558, -0.6151739345215574, '1.0%'),\n",
       "  Text(0.6244029502283146, -0.5767330021302551, '1.0%'),\n",
       "  Text(0.6597244926363133, -0.5359697694980183, '1.0%'),\n",
       "  Text(0.6923895573630612, -0.49304837577522154, '1.0%'),\n",
       "  Text(0.7222666137220793, -0.4481416502652265, '1.0%'),\n",
       "  Text(0.7492353573525546, -0.4014304165017764, '1.0%'),\n",
       "  Text(0.7731871946425395, -0.3531027641364476, '1.0%'),\n",
       "  Text(0.794025679997098, -0.3033532915680097, '1.0%'),\n",
       "  Text(0.811666904190678, -0.2523823223633553, '1.0%'),\n",
       "  Text(0.8260398322399439, -0.20039509862520394, '1.0%'),\n",
       "  Text(0.8370865894365845, -0.14760095455459274, '1.0%'),\n",
       "  Text(0.8447626943883358, -0.09421247353593402, '1.0%'),\n",
       "  Text(0.8490372381298482, -0.0404446321387587, '1.0%'),\n",
       "  Text(0.8498930085821801, 0.013486065517056002, '1.0%'),\n",
       "  Text(0.8473265598597653, 0.06736245954695742, '1.0%'),\n",
       "  Text(0.8413482261457776, 0.12096760872792865, '1.0%'),\n",
       "  Text(0.8319820800800231, 0.1740856640442232, '1.0%'),\n",
       "  Text(0.819265835826915, 0.22650273783516656, '1.0%'),\n",
       "  Text(0.8032506972138463, 0.27800776504527663, '1.0%'),\n",
       "  Text(0.7840011515514482, 0.3283933531087421, '1.0%'),\n",
       "  Text(0.7615947099659519, 0.37745661704608857, '1.0%'),\n",
       "  Text(0.73612159528924, 0.42499999641038144, '1.0%'),\n",
       "  Text(0.7076843787633482, 0.4708320507934161, '1.0%'),\n",
       "  Text(0.6763975670222736, 0.5147682306886748, '1.0%'),\n",
       "  Text(0.6423871410141784, 0.5566316206070493, '1.0%'),\n",
       "  Text(0.605790048720574, 0.5962536514530746, '1.0%'),\n",
       "  Text(0.5667536537151366, 0.6334747792931799, '1.0%'),\n",
       "  Text(0.525435141782609, 0.6681451277827966, '1.0%'),\n",
       "  Text(0.4820008879871209, 0.7001250916655015, '1.0%'),\n",
       "  Text(0.43662578673853253, 0.7292858989141073, '1.0%'),\n",
       "  Text(0.3894925475543725, 0.7555101292501675, '1.0%'),\n",
       "  Text(0.34079095935309894, 0.7786921869539942, '1.0%'),\n",
       "  Text(0.2907171262411119, 0.7987387260613507, '1.0%'),\n",
       "  Text(0.239472677870729, 0.8155690262347032, '1.0%'),\n",
       "  Text(0.18726395754874572, 0.8291153177955293, '1.0%'),\n",
       "  Text(0.13430119136476457, 0.8393230546088942, '1.0%'),\n",
       "  Text(0.08079764168493385, 0.8461511337214842, '1.0%'),\n",
       "  Text(0.026968748419667118, 0.8495720608686921, '1.0%')])"
      ]
     },
     "execution_count": 49,
     "metadata": {},
     "output_type": "execute_result"
    },
    {
     "data": {
      "text/plain": [
       "Text(0.5, 1.0, 'Leaf Species Distribution')"
      ]
     },
     "execution_count": 49,
     "metadata": {},
     "output_type": "execute_result"
    },
    {
     "data": {
      "image/png": "[encoded data removed]",
      "text/plain": [
       "<Figure size 720x720 with 1 Axes>"
      ]
     },
     "metadata": {},
     "output_type": "display_data"
    }
   ],
   "source": [
    "values = df_train['species'].value_counts().sort_values(ascending = True)\n",
    "colors = sns.color_palette()\n",
    "\n",
    "#create pie chart to see the distribution of label variable of interest\n",
    "plt.pie(values, colors = colors, autopct='%1.1f%%', startangle=90, pctdistance=0.85)\n",
    "\n",
    "#draw circle\n",
    "#centre_circle = plt.Circle((0,0),0.70,fc='white')\n",
    "fig = plt.gcf()\n",
    "#fig.gca().add_artist(centre_circle)\n",
    "fig.set_size_inches(10,10)\n",
    "# Equal aspect ratio ensures that pie is drawn as a circle \n",
    "plt.title(\"Leaf Species Distribution\") \n",
    "plt.tight_layout()\n",
    "plt.show()"
   ]
  },
  {
   "cell_type": "markdown",
   "metadata": {
    "id": "eBJvumhkIGiR"
   },
   "source": [
    "The distribution is balanced among all 99 species."
   ]
  },
  {
   "cell_type": "code",
   "execution_count": 50,
   "metadata": {
    "colab": {
     "base_uri": "https://localhost:8080/",
     "height": 1000
    },
    "id": "mfluWku8EuOW",
    "outputId": "cbc27385-5526-419a-fc14-a53bcfd23eb2"
   },
   "outputs": [
    {
     "data": {
      "text/plain": [
       "<Figure size 1440x1080 with 0 Axes>"
      ]
     },
     "execution_count": 50,
     "metadata": {},
     "output_type": "execute_result"
    },
    {
     "name": "stdout",
     "output_type": "stream",
     "text": [
      "102.jpg\n"
     ]
    },
    {
     "data": {
      "text/plain": [
       "<matplotlib.axes._subplots.AxesSubplot at 0x7f28f229abd0>"
      ]
     },
     "execution_count": 50,
     "metadata": {},
     "output_type": "execute_result"
    },
    {
     "data": {
      "text/plain": [
       "<matplotlib.image.AxesImage at 0x7f28f23baa10>"
      ]
     },
     "execution_count": 50,
     "metadata": {},
     "output_type": "execute_result"
    },
    {
     "name": "stdout",
     "output_type": "stream",
     "text": [
      "139.jpg\n"
     ]
    },
    {
     "data": {
      "text/plain": [
       "<matplotlib.axes._subplots.AxesSubplot at 0x7f28f2259390>"
      ]
     },
     "execution_count": 50,
     "metadata": {},
     "output_type": "execute_result"
    },
    {
     "data": {
      "text/plain": [
       "<matplotlib.image.AxesImage at 0x7f28f2259490>"
      ]
     },
     "execution_count": 50,
     "metadata": {},
     "output_type": "execute_result"
    },
    {
     "name": "stdout",
     "output_type": "stream",
     "text": [
      "1447.jpg\n"
     ]
    },
    {
     "data": {
      "text/plain": [
       "<matplotlib.axes._subplots.AxesSubplot at 0x7f28f221fe50>"
      ]
     },
     "execution_count": 50,
     "metadata": {},
     "output_type": "execute_result"
    },
    {
     "data": {
      "text/plain": [
       "<matplotlib.image.AxesImage at 0x7f28fd7ad6d0>"
      ]
     },
     "execution_count": 50,
     "metadata": {},
     "output_type": "execute_result"
    },
    {
     "name": "stdout",
     "output_type": "stream",
     "text": [
      "1102.jpg\n"
     ]
    },
    {
     "data": {
      "text/plain": [
       "<matplotlib.axes._subplots.AxesSubplot at 0x7f28f21e1590>"
      ]
     },
     "execution_count": 50,
     "metadata": {},
     "output_type": "execute_result"
    },
    {
     "data": {
      "text/plain": [
       "<matplotlib.image.AxesImage at 0x7f28f21e16d0>"
      ]
     },
     "execution_count": 50,
     "metadata": {},
     "output_type": "execute_result"
    },
    {
     "name": "stdout",
     "output_type": "stream",
     "text": [
      "1133.jpg\n"
     ]
    },
    {
     "data": {
      "text/plain": [
       "<matplotlib.axes._subplots.AxesSubplot at 0x7f28f21e15d0>"
      ]
     },
     "execution_count": 50,
     "metadata": {},
     "output_type": "execute_result"
    },
    {
     "data": {
      "text/plain": [
       "<matplotlib.image.AxesImage at 0x7f28f21e13d0>"
      ]
     },
     "execution_count": 50,
     "metadata": {},
     "output_type": "execute_result"
    },
    {
     "name": "stdout",
     "output_type": "stream",
     "text": [
      "1367.jpg\n"
     ]
    },
    {
     "data": {
      "text/plain": [
       "<matplotlib.axes._subplots.AxesSubplot at 0x7f28f1360550>"
      ]
     },
     "execution_count": 50,
     "metadata": {},
     "output_type": "execute_result"
    },
    {
     "data": {
      "text/plain": [
       "<matplotlib.image.AxesImage at 0x7f28f2190dd0>"
      ]
     },
     "execution_count": 50,
     "metadata": {},
     "output_type": "execute_result"
    },
    {
     "name": "stdout",
     "output_type": "stream",
     "text": [
      "116.jpg\n"
     ]
    },
    {
     "data": {
      "text/plain": [
       "<matplotlib.axes._subplots.AxesSubplot at 0x7f28f2190d50>"
      ]
     },
     "execution_count": 50,
     "metadata": {},
     "output_type": "execute_result"
    },
    {
     "data": {
      "text/plain": [
       "<matplotlib.image.AxesImage at 0x7f28f21e1110>"
      ]
     },
     "execution_count": 50,
     "metadata": {},
     "output_type": "execute_result"
    },
    {
     "name": "stdout",
     "output_type": "stream",
     "text": [
      "1434.jpg\n"
     ]
    },
    {
     "data": {
      "text/plain": [
       "<matplotlib.axes._subplots.AxesSubplot at 0x7f28f12de9d0>"
      ]
     },
     "execution_count": 50,
     "metadata": {},
     "output_type": "execute_result"
    },
    {
     "data": {
      "text/plain": [
       "<matplotlib.image.AxesImage at 0x7f28f13606d0>"
      ]
     },
     "execution_count": 50,
     "metadata": {},
     "output_type": "execute_result"
    },
    {
     "name": "stdout",
     "output_type": "stream",
     "text": [
      "1390.jpg\n"
     ]
    },
    {
     "data": {
      "text/plain": [
       "<matplotlib.axes._subplots.AxesSubplot at 0x7f28f1296d90>"
      ]
     },
     "execution_count": 50,
     "metadata": {},
     "output_type": "execute_result"
    },
    {
     "data": {
      "text/plain": [
       "<matplotlib.image.AxesImage at 0x7f28f12de410>"
      ]
     },
     "execution_count": 50,
     "metadata": {},
     "output_type": "execute_result"
    },
    {
     "name": "stdout",
     "output_type": "stream",
     "text": [
      "1069.jpg\n"
     ]
    },
    {
     "data": {
      "text/plain": [
       "<matplotlib.axes._subplots.AxesSubplot at 0x7f28f125a7d0>"
      ]
     },
     "execution_count": 50,
     "metadata": {},
     "output_type": "execute_result"
    },
    {
     "data": {
      "text/plain": [
       "<matplotlib.image.AxesImage at 0x7f28f21cf350>"
      ]
     },
     "execution_count": 50,
     "metadata": {},
     "output_type": "execute_result"
    },
    {
     "name": "stdout",
     "output_type": "stream",
     "text": [
      "1051.jpg\n"
     ]
    },
    {
     "data": {
      "text/plain": [
       "<matplotlib.axes._subplots.AxesSubplot at 0x7f28f1211e90>"
      ]
     },
     "execution_count": 50,
     "metadata": {},
     "output_type": "execute_result"
    },
    {
     "data": {
      "text/plain": [
       "<matplotlib.image.AxesImage at 0x7f28f12dea10>"
      ]
     },
     "execution_count": 50,
     "metadata": {},
     "output_type": "execute_result"
    },
    {
     "name": "stdout",
     "output_type": "stream",
     "text": [
      "1228.jpg\n"
     ]
    },
    {
     "data": {
      "text/plain": [
       "<matplotlib.axes._subplots.AxesSubplot at 0x7f28f11d29d0>"
      ]
     },
     "execution_count": 50,
     "metadata": {},
     "output_type": "execute_result"
    },
    {
     "data": {
      "text/plain": [
       "<matplotlib.image.AxesImage at 0x7f28f11e9810>"
      ]
     },
     "execution_count": 50,
     "metadata": {},
     "output_type": "execute_result"
    },
    {
     "name": "stdout",
     "output_type": "stream",
     "text": [
      "1193.jpg\n"
     ]
    },
    {
     "data": {
      "text/plain": [
       "<matplotlib.axes._subplots.AxesSubplot at 0x7f28f11971d0>"
      ]
     },
     "execution_count": 50,
     "metadata": {},
     "output_type": "execute_result"
    },
    {
     "data": {
      "text/plain": [
       "<matplotlib.image.AxesImage at 0x7f28f11d2690>"
      ]
     },
     "execution_count": 50,
     "metadata": {},
     "output_type": "execute_result"
    },
    {
     "name": "stdout",
     "output_type": "stream",
     "text": [
      "1452.jpg\n"
     ]
    },
    {
     "data": {
      "text/plain": [
       "<matplotlib.axes._subplots.AxesSubplot at 0x7f28f11d2750>"
      ]
     },
     "execution_count": 50,
     "metadata": {},
     "output_type": "execute_result"
    },
    {
     "data": {
      "text/plain": [
       "<matplotlib.image.AxesImage at 0x7f28f11d2450>"
      ]
     },
     "execution_count": 50,
     "metadata": {},
     "output_type": "execute_result"
    },
    {
     "name": "stdout",
     "output_type": "stream",
     "text": [
      "1421.jpg\n"
     ]
    },
    {
     "data": {
      "text/plain": [
       "<matplotlib.axes._subplots.AxesSubplot at 0x7f28f11130d0>"
      ]
     },
     "execution_count": 50,
     "metadata": {},
     "output_type": "execute_result"
    },
    {
     "data": {
      "text/plain": [
       "<matplotlib.image.AxesImage at 0x7f28f114f610>"
      ]
     },
     "execution_count": 50,
     "metadata": {},
     "output_type": "execute_result"
    },
    {
     "name": "stdout",
     "output_type": "stream",
     "text": [
      "1290.jpg\n"
     ]
    },
    {
     "data": {
      "text/plain": [
       "<matplotlib.axes._subplots.AxesSubplot at 0x7f28f125a810>"
      ]
     },
     "execution_count": 50,
     "metadata": {},
     "output_type": "execute_result"
    },
    {
     "data": {
      "text/plain": [
       "<matplotlib.image.AxesImage at 0x7f28f125a750>"
      ]
     },
     "execution_count": 50,
     "metadata": {},
     "output_type": "execute_result"
    },
    {
     "name": "stdout",
     "output_type": "stream",
     "text": [
      "1466.jpg\n"
     ]
    },
    {
     "data": {
      "text/plain": [
       "<matplotlib.axes._subplots.AxesSubplot at 0x7f28f1100e50>"
      ]
     },
     "execution_count": 50,
     "metadata": {},
     "output_type": "execute_result"
    },
    {
     "data": {
      "text/plain": [
       "<matplotlib.image.AxesImage at 0x7f28f10c7610>"
      ]
     },
     "execution_count": 50,
     "metadata": {},
     "output_type": "execute_result"
    },
    {
     "name": "stdout",
     "output_type": "stream",
     "text": [
      "1457.jpg\n"
     ]
    },
    {
     "data": {
      "text/plain": [
       "<matplotlib.axes._subplots.AxesSubplot at 0x7f28f10c7890>"
      ]
     },
     "execution_count": 50,
     "metadata": {},
     "output_type": "execute_result"
    },
    {
     "data": {
      "text/plain": [
       "<matplotlib.image.AxesImage at 0x7f28f10c7810>"
      ]
     },
     "execution_count": 50,
     "metadata": {},
     "output_type": "execute_result"
    },
    {
     "name": "stdout",
     "output_type": "stream",
     "text": [
      "121.jpg\n"
     ]
    },
    {
     "data": {
      "text/plain": [
       "<matplotlib.axes._subplots.AxesSubplot at 0x7f28f1077d10>"
      ]
     },
     "execution_count": 50,
     "metadata": {},
     "output_type": "execute_result"
    },
    {
     "data": {
      "text/plain": [
       "<matplotlib.image.AxesImage at 0x7f28f10c1850>"
      ]
     },
     "execution_count": 50,
     "metadata": {},
     "output_type": "execute_result"
    },
    {
     "name": "stdout",
     "output_type": "stream",
     "text": [
      "1084.jpg\n"
     ]
    },
    {
     "data": {
      "text/plain": [
       "<matplotlib.axes._subplots.AxesSubplot at 0x7f28f1038b90>"
      ]
     },
     "execution_count": 50,
     "metadata": {},
     "output_type": "execute_result"
    },
    {
     "data": {
      "text/plain": [
       "<matplotlib.image.AxesImage at 0x7f28f21cfe90>"
      ]
     },
     "execution_count": 50,
     "metadata": {},
     "output_type": "execute_result"
    },
    {
     "name": "stdout",
     "output_type": "stream",
     "text": [
      "1181.jpg\n"
     ]
    },
    {
     "data": {
      "text/plain": [
       "<matplotlib.axes._subplots.AxesSubplot at 0x7f28f0ff9350>"
      ]
     },
     "execution_count": 50,
     "metadata": {},
     "output_type": "execute_result"
    },
    {
     "data": {
      "text/plain": [
       "<matplotlib.image.AxesImage at 0x7f28f1038790>"
      ]
     },
     "execution_count": 50,
     "metadata": {},
     "output_type": "execute_result"
    },
    {
     "name": "stdout",
     "output_type": "stream",
     "text": [
      "1131.jpg\n"
     ]
    },
    {
     "data": {
      "text/plain": [
       "<matplotlib.axes._subplots.AxesSubplot at 0x7f28f0fb2a50>"
      ]
     },
     "execution_count": 50,
     "metadata": {},
     "output_type": "execute_result"
    },
    {
     "data": {
      "text/plain": [
       "<matplotlib.image.AxesImage at 0x7f28f0fa8a10>"
      ]
     },
     "execution_count": 50,
     "metadata": {},
     "output_type": "execute_result"
    },
    {
     "name": "stdout",
     "output_type": "stream",
     "text": [
      "1378.jpg\n"
     ]
    },
    {
     "data": {
      "text/plain": [
       "<matplotlib.axes._subplots.AxesSubplot at 0x7f28f0f75410>"
      ]
     },
     "execution_count": 50,
     "metadata": {},
     "output_type": "execute_result"
    },
    {
     "data": {
      "text/plain": [
       "<matplotlib.image.AxesImage at 0x7f28f10c1610>"
      ]
     },
     "execution_count": 50,
     "metadata": {},
     "output_type": "execute_result"
    },
    {
     "name": "stdout",
     "output_type": "stream",
     "text": [
      "1302.jpg\n"
     ]
    },
    {
     "data": {
      "text/plain": [
       "<matplotlib.axes._subplots.AxesSubplot at 0x7f28f0f2add0>"
      ]
     },
     "execution_count": 50,
     "metadata": {},
     "output_type": "execute_result"
    },
    {
     "data": {
      "text/plain": [
       "<matplotlib.image.AxesImage at 0x7f28f0fb2b90>"
      ]
     },
     "execution_count": 50,
     "metadata": {},
     "output_type": "execute_result"
    },
    {
     "name": "stdout",
     "output_type": "stream",
     "text": [
      "1184.jpg\n"
     ]
    },
    {
     "data": {
      "text/plain": [
       "<matplotlib.axes._subplots.AxesSubplot at 0x7f28f0f2af50>"
      ]
     },
     "execution_count": 50,
     "metadata": {},
     "output_type": "execute_result"
    },
    {
     "data": {
      "text/plain": [
       "<matplotlib.image.AxesImage at 0x7f28f0fb2c90>"
      ]
     },
     "execution_count": 50,
     "metadata": {},
     "output_type": "execute_result"
    },
    {
     "data": {
      "image/png": "[encoded data removed]",
      "text/plain": [
       "<Figure size 1440x1080 with 25 Axes>"
      ]
     },
     "metadata": {
      "needs_background": "light"
     },
     "output_type": "display_data"
    }
   ],
   "source": [
    "#visualize the images in image folder to see different orientation.\n",
    "plt.figure(figsize=(20,15))\n",
    "for i in range(25):\n",
    "    j=np.random.choice((os.listdir(work_dir +'./data/images')))\n",
    "    print(j)\n",
    "    plt.subplot(5,5,i+1)\n",
    "    img=keras.preprocessing.image.load_img(os.path.join(work_dir +'./data/images',j))\n",
    "    plt.imshow(img)"
   ]
  },
  {
   "cell_type": "markdown",
   "metadata": {
    "id": "U0EA5xm93-DO"
   },
   "source": [
    "######   Based on the images, we may need image augmentation such as horizontal and vertical flip and rotation to drive accuracy."
   ]
  },
  {
   "cell_type": "code",
   "execution_count": 51,
   "metadata": {
    "colab": {
     "base_uri": "https://localhost:8080/"
    },
    "id": "UDFxaqlWlty8",
    "outputId": "94ee81c3-82a5-4c0b-8f96-4217cdc1e101"
   },
   "outputs": [
    {
     "name": "stdout",
     "output_type": "stream",
     "text": [
      "Train images shape: (990, 64, 64)\n",
      "Test images shape: (594, 64, 64)\n"
     ]
    }
   ],
   "source": [
    "img_rows, img_cols = 64, 64 #96,96 #40, 40 (we will go with 64 width and height as each feature is a 64-attribute vector per leaf sample.\n",
    "\n",
    "train_images = np.zeros((df_train.shape[0], img_rows, img_cols))\n",
    "for i in range(df_train.shape[0]):\n",
    "    image = cv2.imread(work_dir +'./data/images/' + str(df_train.id.iloc[i])+'.jpg', cv2.IMREAD_GRAYSCALE)\n",
    "    if image is None:\n",
    "        continue\n",
    "    rimage = cv2.resize(image, (img_rows, img_cols))\n",
    "    rimage = rimage/255.0 #Pixel value regularization done here\n",
    "    #train_images[i] = rimage\n",
    "    train_images[i] = sobel(rimage) # Sobel filter on an image to detect edges\n",
    "       \n",
    "test_images = np.zeros((df_test.shape[0], img_rows, img_cols))\n",
    "for i in range(df_test.shape[0]):\n",
    "    image = cv2.imread(work_dir +'./data/images/' + str(df_test.id.iloc[i])+'.jpg',cv2.IMREAD_GRAYSCALE)\n",
    "    if image is None:\n",
    "        continue\n",
    "    rimage = cv2.resize(image, (img_rows, img_cols))\n",
    "    rimage = rimage/255.0\n",
    "    test_images[i] = sobel(rimage) #Sobel filter on an image to detect edges\n",
    "\n",
    "print('Train images shape: {}'.format(train_images.shape)) # 990\n",
    "print('Test images shape: {}'.format(test_images.shape)) # 594"
   ]
  },
  {
   "cell_type": "code",
   "execution_count": 52,
   "metadata": {
    "colab": {
     "base_uri": "https://localhost:8080/"
    },
    "id": "_RjXVnAFdiFN",
    "outputId": "09544145-a338-403a-eb9e-c5d00c09d849"
   },
   "outputs": [
    {
     "data": {
      "text/plain": [
       "(990, 192)"
      ]
     },
     "execution_count": 52,
     "metadata": {},
     "output_type": "execute_result"
    }
   ],
   "source": [
    "train_Id = df_train['id']\n",
    "df_train_new = df_train.drop('id',1)\n",
    "target =  df_train_new[\"species\"]\n",
    "df_train_new = df_train_new.drop('species',1)\n",
    "df_train_new.shape"
   ]
  },
  {
   "cell_type": "code",
   "execution_count": 53,
   "metadata": {
    "colab": {
     "base_uri": "https://localhost:8080/"
    },
    "id": "FyVx4cZ_R1XA",
    "outputId": "7baaa10c-7ebe-44cb-9935-9a4695ca68d5"
   },
   "outputs": [
    {
     "data": {
      "text/plain": [
       "(990,)"
      ]
     },
     "execution_count": 53,
     "metadata": {},
     "output_type": "execute_result"
    },
    {
     "data": {
      "text/plain": [
       "0              Acer_Opalus\n",
       "1    Pterocarya_Stenoptera\n",
       "2     Quercus_Hartwissiana\n",
       "3          Tilia_Tomentosa\n",
       "4       Quercus_Variabilis\n",
       "Name: species, dtype: object"
      ]
     },
     "execution_count": 53,
     "metadata": {},
     "output_type": "execute_result"
    }
   ],
   "source": [
    "\n",
    "target.shape\n",
    "target.head()"
   ]
  },
  {
   "cell_type": "code",
   "execution_count": 54,
   "metadata": {
    "id": "52WaTjeaevOW"
   },
   "outputs": [],
   "source": [
    "# Since the labels are textual, so we encode them categorically\n",
    "le = LabelEncoder()\n",
    "encoded_target= le.fit_transform(target)\n",
    "feature_train = StandardScaler().fit(df_train_new).transform(df_train_new)"
   ]
  },
  {
   "cell_type": "code",
   "execution_count": 55,
   "metadata": {
    "colab": {
     "base_uri": "https://localhost:8080/"
    },
    "id": "x3ylKmKy00fJ",
    "outputId": "34b066d7-542d-47b7-add2-8e31ea5de750"
   },
   "outputs": [
    {
     "data": {
      "text/plain": [
       "array([ 3, 49, 65, 94, 84, 40, 54, 78, 53, 89, 98, 16, 74, 50, 58, 31, 43,\n",
       "        4, 75, 44, 83, 84, 13, 66, 15,  6, 73, 22, 73, 31, 36, 27, 94, 88,\n",
       "       12, 28, 21, 25, 20, 60, 84, 65, 69, 58, 23, 76, 18, 52, 54,  9, 48,\n",
       "       47, 64, 81, 83, 36, 58, 21, 81, 20, 62, 88, 34, 92, 79, 82, 20, 32,\n",
       "        4, 84, 36, 35, 72, 60, 71, 72, 52, 50, 54, 11, 51, 18, 47,  5,  8,\n",
       "       37, 97, 20, 33,  1, 59,  1, 56,  1,  9, 57, 20, 79, 29, 16, 32, 54,\n",
       "       93, 10, 46, 59, 84, 76, 15, 10, 15,  0, 69,  4, 51, 51, 94, 36, 39,\n",
       "       62,  2, 24, 26, 35, 25, 87,  0, 55, 34, 38,  1, 45,  7, 93, 56, 38,\n",
       "       21, 51, 75, 81, 74, 33, 20, 37,  9, 40, 60, 31, 83, 50, 71, 67, 30,\n",
       "       66,  1, 43, 61, 23, 65, 84, 87, 46, 57, 16,  2, 28, 12, 96, 44, 76,\n",
       "       29, 75, 41, 87, 67, 61, 30,  5, 12, 62,  3, 83, 81,  6, 85,  4, 37,\n",
       "       57, 84, 39, 71, 61,  6, 76, 14, 31, 98, 40, 17, 51, 16, 42, 63, 86,\n",
       "       37, 69, 86, 71, 80, 78, 14, 35, 25,  5, 39,  8,  9, 26, 44, 60, 13,\n",
       "       14, 77, 13, 80, 87, 18, 60, 78, 92, 51, 45, 78, 41, 51, 30, 14, 35,\n",
       "       46, 21,  8,  6, 92, 38, 40, 15, 32, 17, 93, 71, 92, 27, 78, 15, 19,\n",
       "       60, 21, 38, 36, 49, 74, 67, 95, 31, 82, 45, 16, 83, 63, 80, 42, 22,\n",
       "       74, 53, 15, 44, 47, 57, 94, 76, 17, 32, 24, 15, 93, 24, 80, 59, 46,\n",
       "       12, 51, 77, 79, 70, 69, 16,  2, 63, 83, 55, 12, 53,  1, 67,  0,  2,\n",
       "       36, 42, 10,  9, 52, 59,  6, 22, 86, 31, 51, 37, 43, 75, 90, 24, 86,\n",
       "       96, 45, 32, 98, 36, 66, 48, 73, 73, 79, 56, 41, 21, 25, 27, 97, 18,\n",
       "       44, 45, 40, 80, 63, 20, 35,  0,  8, 27, 25, 35, 59, 61, 21, 37, 29,\n",
       "        6, 19, 78, 50, 54, 37, 93, 33, 46, 79, 59, 29, 43,  0, 23, 17, 38,\n",
       "       66, 38, 89, 17, 25, 31, 65, 10, 26, 86, 58, 42, 46, 24, 95, 93,  8,\n",
       "       53, 32, 14, 10, 94,  8,  8, 64, 44, 74, 30, 97, 22, 11, 68, 56, 90,\n",
       "       96, 16, 43, 57, 91, 24, 28, 82, 90, 64, 61, 92, 28, 84, 70, 45, 85,\n",
       "       34,  7, 88, 89, 61, 26, 88, 41, 46,  8, 91, 41, 14, 98, 28, 26, 36,\n",
       "       70, 74,  7, 52, 70, 42, 66, 22, 13, 44, 91, 53, 22, 16, 40, 40, 28,\n",
       "       70,  6, 60, 95, 23, 16, 50, 29, 49,  9, 18, 55, 63, 60, 19, 28, 30,\n",
       "       31, 85, 66, 88, 63, 83, 64, 96, 13, 34, 27, 95, 36, 72, 29, 91, 22,\n",
       "       65, 71, 66, 11, 32,  2, 75, 39,  5, 37, 67, 81, 55, 61, 57, 81, 82,\n",
       "       63, 55, 54, 35, 86, 25, 24, 96, 10, 58, 59, 28, 89, 54, 52, 85, 68,\n",
       "       69,  8, 39, 95, 39, 82, 48, 74, 52, 74, 55,  9, 47, 84, 91, 12, 96,\n",
       "       82, 64,  7, 40, 73, 77, 11, 36, 68, 23, 28, 46, 75, 43,  2, 11, 47,\n",
       "       53, 56, 62, 62, 80, 56, 30,  3, 88, 37, 33, 73, 76, 21,  5, 76, 87,\n",
       "       68, 83, 62, 57, 47, 19, 88, 96, 42, 23, 44, 87, 82, 49, 63, 24, 94,\n",
       "       69, 54,  5, 79, 43, 12, 50,  5, 52, 92,  4, 84,  1, 33, 49, 26, 18,\n",
       "       44, 13, 24, 73, 89, 78, 67, 41, 11, 46, 47, 69,  0, 18, 98, 44, 85,\n",
       "       29, 53,  1, 45,  3,  9, 13,  2, 66, 59, 79,  6, 17, 43, 83, 26,  1,\n",
       "       12, 49, 71, 89, 58, 93, 39, 42, 15, 38, 55, 15, 93,  4, 90, 88, 55,\n",
       "       40, 55, 17, 34, 94, 57, 92, 81, 26, 60, 89, 49, 89, 30, 65, 58,  4,\n",
       "       19,  4, 76, 74, 71, 21, 54, 13, 16, 72, 68, 62, 61, 25, 72,  7, 12,\n",
       "       18, 77, 90, 62, 14,  3, 78, 65, 37, 27, 50, 95, 98, 60, 72, 58, 38,\n",
       "       87, 93, 19,  7, 83, 50,  3, 91, 77,  7, 64, 61, 69, 23, 76, 65, 48,\n",
       "       41, 92, 20, 91, 18, 70,  9,  9, 29, 85, 67,  0, 35, 98, 91, 90, 31,\n",
       "       53, 39, 24, 85, 96, 17,  7, 11, 96, 39, 56, 90, 79, 45, 64, 97, 41,\n",
       "       19, 74, 11, 10, 62, 95, 28, 96, 10,  7, 68,  7, 93, 34, 42, 68, 41,\n",
       "       14, 22, 58, 12, 71, 27, 98, 72, 91,  3, 43, 19, 61, 75, 20, 81, 63,\n",
       "       67, 56, 26, 47, 11, 31, 57, 62, 66, 19, 75, 97, 94, 13, 75, 95, 32,\n",
       "       50, 97, 52, 87, 32,  3, 47, 77, 48, 33, 73, 64, 49, 68, 43, 94, 77,\n",
       "       68, 47, 82,  2, 30, 23, 33, 34, 66, 33, 35, 88, 68, 27, 87, 54, 79,\n",
       "       34, 67, 65, 18,  4, 26, 30, 52, 86,  0, 29, 80, 67, 95, 39, 25, 70,\n",
       "       58, 35, 27, 17, 38, 91, 13, 23, 77, 79, 77, 22, 49, 98, 48, 46, 48,\n",
       "        5, 63, 97, 80, 53, 20, 25, 78, 10, 65, 33, 41, 85, 90, 98, 97, 71,\n",
       "       95, 52,  3, 29, 69, 51, 70, 27, 22, 34,  6, 48, 72, 21, 89, 17, 97,\n",
       "       72, 80, 10, 57, 64, 92, 38, 15, 73, 87, 73, 48, 42, 82, 33, 56,  3,\n",
       "       42,  1, 53, 55, 90, 19,  6, 30, 86, 64, 49,  2,  8, 45, 76, 92,  0,\n",
       "       23, 69, 59, 80, 90, 32,  5, 59, 85, 89, 94, 45, 48, 86, 81, 14,  4,\n",
       "       77, 56, 82,  2, 85, 70, 88,  0, 75, 14, 86, 81, 97, 70, 72, 34, 40,\n",
       "        5, 11, 78, 50])"
      ]
     },
     "execution_count": 55,
     "metadata": {},
     "output_type": "execute_result"
    },
    {
     "data": {
      "text/plain": [
       "array([[-0.48661074, -0.13135701, -0.33095592, ..., -0.39487147,\n",
       "        -0.65214311,  0.26239707],\n",
       "       [-0.58560191, -0.73488047, -0.02856115, ..., -0.49497401,\n",
       "         2.18166976,  0.13364087],\n",
       "       [-0.58560191, -0.48340807, -0.48219201, ..., -0.52001246,\n",
       "         0.83564129, -0.72463124],\n",
       "       ...,\n",
       "       [-0.78358426, -0.63430181, -1.23821765, ...,  0.1807566 ,\n",
       "        -0.65214311, -0.76756462],\n",
       "       [-0.88257543, -0.73488047,  0.5762671 , ..., -0.52001246,\n",
       "        -0.51045972, -0.72463124],\n",
       "       [ 0.30542003, -0.23196142, -0.02856115, ...,  0.08065405,\n",
       "         1.18988604,  0.13364087]])"
      ]
     },
     "execution_count": 55,
     "metadata": {},
     "output_type": "execute_result"
    }
   ],
   "source": [
    "encoded_target\n",
    "feature_train"
   ]
  },
  {
   "cell_type": "code",
   "execution_count": 56,
   "metadata": {
    "id": "4bcGPzdanC5N"
   },
   "outputs": [],
   "source": [
    "def plot_image(image):\n",
    "    plt.imshow(image, cmap=\"gray\", interpolation=\"nearest\")\n",
    "    plt.axis(\"off\")\n",
    "\n",
    "def plot_color_image(image):\n",
    "    plt.imshow(image, interpolation=\"nearest\")\n",
    "    plt.axis(\"off\")\n",
    "\n",
    "def dist_plot(var1, var2, var3):\n",
    "    plt.figure(figsize=(10,10))\n",
    "    tmp_plt=sns.countplot(var1, palette=\"Blues\").set_title(var2)\n",
    "    tmp_fig = tmp_plt.get_figure()\n",
    "    tmp_fig.savefig(var3 + \".png\", \n",
    "        bbox_inches = 'tight', dpi=None, facecolor='w', edgecolor='b', \n",
    "        orientation='portrait', papertype=None, format=None, \n",
    "        transparent=True, pad_inches=0.5)\n",
    "    return(tmp_plt)\n",
    "    \n",
    "#Tensorboard Logs\n",
    "root_logdir = os.path.join(os.curdir, \"tf_logs\")\n",
    "def get_run_logdir():\n",
    "    import time\n",
    "    run_id = time.strftime(\"run_%Y_%m_%d-%H_%M_%S\")\n",
    "    return os.path.join(root_logdir, run_id)"
   ]
  },
  {
   "cell_type": "markdown",
   "metadata": {
    "id": "B2EQVSXCXuQQ"
   },
   "source": [
    "### <font color=CornflowerBlue>Train and test split<font>"
   ]
  },
  {
   "cell_type": "code",
   "execution_count": 57,
   "metadata": {
    "colab": {
     "base_uri": "https://localhost:8080/"
    },
    "id": "SrpNyelKXiM1",
    "outputId": "440a3c71-5ed3-4632-c6cb-f1e2669f3467"
   },
   "outputs": [
    {
     "data": {
      "text/plain": [
       "((693, 64, 64), (297, 64, 64), (693,), (297,))"
      ]
     },
     "execution_count": 57,
     "metadata": {},
     "output_type": "execute_result"
    }
   ],
   "source": [
    "# Split the train and the validation set for the fitting \n",
    "X_train, X_val, y_train, y_val = train_test_split(train_images, encoded_target, test_size = 0.3, shuffle=True, stratify=encoded_target, random_state = 42)\n",
    "X_train.shape, X_val.shape, y_train.shape, y_val.shape"
   ]
  },
  {
   "cell_type": "code",
   "execution_count": 58,
   "metadata": {
    "id": "jR64p5FOPExf"
   },
   "outputs": [],
   "source": [
    "# stratified randomized folds for cross validation.\n",
    "sss = StratifiedShuffleSplit(10, test_size=0.2, random_state=42)\n",
    "train_i,val_i = next(sss.split(feature_train,encoded_target))\n",
    "\n",
    "features_val,val_img,val_target = feature_train[val_i],train_images[val_i], encoded_target[val_i]\n",
    "features_train,train_img,train_target = feature_train[train_i],train_images[train_i],encoded_target[train_i]"
   ]
  },
  {
   "cell_type": "code",
   "execution_count": 59,
   "metadata": {
    "id": "J7415pu7aHAz"
   },
   "outputs": [],
   "source": [
    "# # reshape dataset to have a single channel\n",
    "train_img = train_img.reshape(train_img.shape[0], img_rows, img_cols, 1) # 792\n",
    "val_img = val_img.reshape(val_img.shape[0], img_rows, img_cols, 1) # 198\n",
    "features_train = features_train.reshape(features_train.shape[0],features_train.shape[1],1)\n",
    "features_val = features_val.reshape(features_val.shape[0],features_val.shape[1],1)\n",
    "#X_test = test_images.reshape(test_images.shape[0], img_rows, img_cols, 1)\n",
    "input_shape = (img_rows, img_cols, 1)\n",
    "#print(X_train.shape, X_val.shape, X_test.shape)"
   ]
  },
  {
   "cell_type": "code",
   "execution_count": 60,
   "metadata": {
    "colab": {
     "base_uri": "https://localhost:8080/"
    },
    "id": "7CdO5VUXxU9X",
    "outputId": "e1feedc9-a4ec-4bd3-e401-7e5e9bf08332"
   },
   "outputs": [
    {
     "name": "stdout",
     "output_type": "stream",
     "text": [
      "(693, 64, 64, 1) (297, 64, 64, 1) (594, 64, 64, 1)\n"
     ]
    }
   ],
   "source": [
    "# # reshape dataset to have a single channel\n",
    "X_train = X_train.reshape(X_train.shape[0], img_rows, img_cols, 1) # 792\n",
    "X_val = X_val.reshape(X_val.shape[0], img_rows, img_cols, 1) # 198\n",
    "X_test = test_images.reshape(test_images.shape[0], img_rows, img_cols, 1)\n",
    "input_shape = (img_rows, img_cols, 1)\n",
    "print(X_train.shape, X_val.shape, X_test.shape)"
   ]
  },
  {
   "cell_type": "code",
   "execution_count": 61,
   "metadata": {
    "colab": {
     "base_uri": "https://localhost:8080/"
    },
    "id": "oCLyco-B0oev",
    "outputId": "199c983b-7aaf-473e-b5c7-9a61ae68910b"
   },
   "outputs": [
    {
     "data": {
      "text/plain": [
       "99"
      ]
     },
     "execution_count": 61,
     "metadata": {},
     "output_type": "execute_result"
    }
   ],
   "source": [
    "nb_classes = np.unique(df_train.species).size\n",
    "nb_classes"
   ]
  },
  {
   "cell_type": "code",
   "execution_count": 62,
   "metadata": {
    "id": "G5Y0GZQ4x_43"
   },
   "outputs": [],
   "source": [
    "# one hot encode target values (convert class vectors to binary class matrices), num_classes will take max(y) + 1 i.e. 10 digits\n",
    "nb_classes = np.unique(y_train).size\n",
    "y_train = keras.utils.to_categorical(y_train, nb_classes)\n",
    "y_val = keras.utils.to_categorical(y_val, nb_classes)"
   ]
  },
  {
   "cell_type": "code",
   "execution_count": 63,
   "metadata": {
    "id": "su79SUSQdJfH"
   },
   "outputs": [],
   "source": [
    "# one hot encode target values (convert class vectors to binary class matrices), num_classes will take max(y) + 1 i.e. 10 digits\n",
    "nb_classes = np.unique(train_target).size\n",
    "train_target = keras.utils.to_categorical(train_target, nb_classes)\n",
    "val_target = keras.utils.to_categorical(val_target, nb_classes)"
   ]
  },
  {
   "cell_type": "code",
   "execution_count": 64,
   "metadata": {
    "colab": {
     "base_uri": "https://localhost:8080/"
    },
    "id": "IGai6QjkdjW7",
    "outputId": "425c7bae-5d15-4119-aeaa-297680a3e7f0"
   },
   "outputs": [
    {
     "data": {
      "text/plain": [
       "(198, 99)"
      ]
     },
     "execution_count": 64,
     "metadata": {},
     "output_type": "execute_result"
    }
   ],
   "source": [
    "val_target.shape"
   ]
  },
  {
   "cell_type": "code",
   "execution_count": 65,
   "metadata": {
    "colab": {
     "base_uri": "https://localhost:8080/",
     "height": 248
    },
    "id": "PHHkutX5yVPk",
    "outputId": "36de7dfa-b4e2-4faa-d5e9-5cf161ae1b57"
   },
   "outputs": [
    {
     "data": {
      "image/png": "[encoded data removed]",
      "text/plain": [
       "<Figure size 432x288 with 1 Axes>"
      ]
     },
     "metadata": {
      "needs_background": "light"
     },
     "output_type": "display_data"
    }
   ],
   "source": [
    "plot_color_image(X_train[0,:,:,0])"
   ]
  },
  {
   "cell_type": "code",
   "execution_count": 66,
   "metadata": {
    "colab": {
     "base_uri": "https://localhost:8080/",
     "height": 248
    },
    "id": "0DhZIBhe96rq",
    "outputId": "39f1eaa0-d4cb-4889-b50f-69913c694ed6"
   },
   "outputs": [
    {
     "data": {
      "image/png": "[encoded data removed]",
      "text/plain": [
       "<Figure size 432x288 with 1 Axes>"
      ]
     },
     "metadata": {
      "needs_background": "light"
     },
     "output_type": "display_data"
    }
   ],
   "source": [
    "plot_image(X_train[0,:,:,0])"
   ]
  },
  {
   "cell_type": "code",
   "execution_count": 67,
   "metadata": {
    "id": "QiiEvGqhz1Zs"
   },
   "outputs": [],
   "source": [
    "# Image batch generator\n",
    "def imageGenerator(X, y, batch_size):\n",
    "    img_rows, img_cols = X.shape[1], X.shape[2]\n",
    "    resc = 0.02\n",
    "    rot = 5\n",
    "    transl = 0.01*img_rows\n",
    "    while 1: # Infinite loop\n",
    "        batchX = np.zeros((batch_size, img_rows, img_cols, 1))\n",
    "        # batch_size random indices over train images\n",
    "        batch_ids = np.random.choice(X.shape[0], batch_size)\n",
    "        for j in range(batch_ids.shape[0]): # Loop over random images\n",
    "            # Rotate around center\n",
    "            imagej = rotate(X[batch_ids[j]], angle =rot*np.random.randn())\n",
    "            # Rescale and translate\n",
    "            tf = SimilarityTransform(scale = 1 + resc*np.random.randn(1,2)[0],\n",
    "                                translation = transl*np.random.randn(1,2)[0]) \n",
    "            batchX[j] = warp(imagej, tf)\n",
    "        yield (batchX, y[batch_ids])\n",
    "        "
   ]
  },
  {
   "cell_type": "markdown",
   "metadata": {
    "id": "RXtV6KGPzuKl"
   },
   "source": [
    "### <font color=CornflowerBlue>CNN (Keras API)<font>"
   ]
  },
  {
   "cell_type": "code",
   "execution_count": 68,
   "metadata": {
    "id": "qvL9ia4kcwCd"
   },
   "outputs": [],
   "source": [
    "# Learning curve function to visualize accuracy and loss in train and validation set.\n",
    "def draw_learning_curve(history, keys=['accuracy', 'loss']):\n",
    "    plt.figure(figsize=(20,8))\n",
    "    for i, key in enumerate(keys):\n",
    "        plt.subplot(1, 2, i + 1)\n",
    "        sns.lineplot(x = history.epoch, y = history.history[key])\n",
    "        sns.lineplot(x = history.epoch, y = history.history['val_' + key])\n",
    "        plt.title('Learning Curve')\n",
    "        plt.ylabel(key.title())\n",
    "        plt.grid(True)\n",
    "        #plt.gca().set_ylim(0, 1)\n",
    "        plt.xlabel('Epoch')\n",
    "        plt.legend(['train', 'test'], loc='best')\n",
    "    plt.show()"
   ]
  },
  {
   "cell_type": "code",
   "execution_count": 69,
   "metadata": {
    "id": "QZDXC8Bjy1Ua"
   },
   "outputs": [],
   "source": [
    "#CNN Model with one input i.e. preprocessed images.\n",
    "def generateModel():\n",
    "    #input layer - note the 1 is because of greyscaling, it would be a 3 if colored images were being used\n",
    "    input_layer = keras.layers.Input(shape = (img_rows, img_cols, 1))\n",
    "    \n",
    "    filterSize = 32\n",
    "    conv1 = keras.layers.Conv2D(filterSize, (3,3), strides=(1,1), padding='same')(input_layer)\n",
    "    conv1 = keras.layers.BatchNormalization()(conv1)\n",
    "    conv1 = keras.layers.Activation(\"relu\")(conv1)\n",
    "    conv1 = keras.layers.Conv2D(filterSize, (3,3), strides=(1,1), padding='same')(conv1)\n",
    "    conv1 = keras.layers.BatchNormalization()(conv1)\n",
    "    conv1 = keras.layers.Activation(\"relu\")(conv1)\n",
    "\n",
    "    maxPool1 = keras.layers.MaxPooling2D(pool_size=(3,3), strides=(2,2), padding='same')(conv1)\n",
    "    \n",
    "    filterSize = 64\n",
    "    conv2 = keras.layers.Conv2D(filterSize, (3,3), strides=(1,1), padding='same')(maxPool1)\n",
    "    conv2 = keras.layers.BatchNormalization()(conv2)\n",
    "    conv2 = keras.layers.Activation(\"relu\")(conv2)\n",
    "    conv2 = keras.layers.Conv2D(filterSize, (3,3), strides=(1,1), padding='same')(conv2)\n",
    "    conv2 = keras.layers.BatchNormalization()(conv2)\n",
    "    conv2 = keras.layers.Activation(\"relu\")(conv2)\n",
    "    \n",
    "    maxPool2 = keras.layers.MaxPooling2D(pool_size=(3,3), strides=(2,2), padding='same')(conv2)\n",
    "    \n",
    "    filterSize = 128\n",
    "    conv3 = keras.layers.Conv2D(filterSize, (3,3), strides=(1,1), padding='same')(maxPool2)\n",
    "    conv3 = keras.layers.BatchNormalization()(conv3)\n",
    "    conv3 = keras.layers.Activation(\"relu\")(conv3)\n",
    "    conv3 = keras.layers.Conv2D(filterSize, (3,3), strides=(1,1), padding='same')(maxPool2)\n",
    "    conv3 = keras.layers.BatchNormalization()(conv3)\n",
    "    conv3 = keras.layers.Activation(\"relu\")(conv3)\n",
    "    \n",
    "    outputStem = keras.layers.AveragePooling2D(pool_size=(3,3), strides=(1,1), padding='same')(conv3)\n",
    "    outputStem = keras.layers.Flatten()(outputStem)\n",
    "    \n",
    "    #Note that the final layer is always dense, and because this is a categorization problem, the activation function is\n",
    "    #softmax\n",
    "    outputStem = keras.layers.Dense(nb_classes, activation='softmax')(outputStem)\n",
    "    \n",
    "    #This final step is specific to the Keras API method, where the tensor representation is converted to a model\n",
    "    model = keras.Model(inputs = input_layer, outputs = outputStem)\n",
    "    return model"
   ]
  },
  {
   "cell_type": "code",
   "execution_count": 70,
   "metadata": {
    "colab": {
     "base_uri": "https://localhost:8080/"
    },
    "id": "3PAcKIkX3Jq5",
    "outputId": "787be955-23ab-47f3-ef0b-7985d5f8e0ea"
   },
   "outputs": [
    {
     "name": "stdout",
     "output_type": "stream",
     "text": [
      "Model: \"model_2\"\n",
      "_________________________________________________________________\n",
      " Layer (type)                Output Shape              Param #   \n",
      "=================================================================\n",
      " input_3 (InputLayer)        [(None, 64, 64, 1)]       0         \n",
      "                                                                 \n",
      " conv2d_8 (Conv2D)           (None, 64, 64, 32)        320       \n",
      "                                                                 \n",
      " batch_normalization_6 (Batc  (None, 64, 64, 32)       128       \n",
      " hNormalization)                                                 \n",
      "                                                                 \n",
      " activation_6 (Activation)   (None, 64, 64, 32)        0         \n",
      "                                                                 \n",
      " conv2d_9 (Conv2D)           (None, 64, 64, 32)        9248      \n",
      "                                                                 \n",
      " batch_normalization_7 (Batc  (None, 64, 64, 32)       128       \n",
      " hNormalization)                                                 \n",
      "                                                                 \n",
      " activation_7 (Activation)   (None, 64, 64, 32)        0         \n",
      "                                                                 \n",
      " max_pooling2d_3 (MaxPooling  (None, 32, 32, 32)       0         \n",
      " 2D)                                                             \n",
      "                                                                 \n",
      " conv2d_10 (Conv2D)          (None, 32, 32, 64)        18496     \n",
      "                                                                 \n",
      " batch_normalization_8 (Batc  (None, 32, 32, 64)       256       \n",
      " hNormalization)                                                 \n",
      "                                                                 \n",
      " activation_8 (Activation)   (None, 32, 32, 64)        0         \n",
      "                                                                 \n",
      " conv2d_11 (Conv2D)          (None, 32, 32, 64)        36928     \n",
      "                                                                 \n",
      " batch_normalization_9 (Batc  (None, 32, 32, 64)       256       \n",
      " hNormalization)                                                 \n",
      "                                                                 \n",
      " activation_9 (Activation)   (None, 32, 32, 64)        0         \n",
      "                                                                 \n",
      " max_pooling2d_4 (MaxPooling  (None, 16, 16, 64)       0         \n",
      " 2D)                                                             \n",
      "                                                                 \n",
      " conv2d_13 (Conv2D)          (None, 16, 16, 128)       73856     \n",
      "                                                                 \n",
      " batch_normalization_11 (Bat  (None, 16, 16, 128)      512       \n",
      " chNormalization)                                                \n",
      "                                                                 \n",
      " activation_11 (Activation)  (None, 16, 16, 128)       0         \n",
      "                                                                 \n",
      " average_pooling2d_1 (Averag  (None, 16, 16, 128)      0         \n",
      " ePooling2D)                                                     \n",
      "                                                                 \n",
      " flatten_3 (Flatten)         (None, 32768)             0         \n",
      "                                                                 \n",
      " dense_4 (Dense)             (None, 99)                3244131   \n",
      "                                                                 \n",
      "=================================================================\n",
      "Total params: 3,384,259\n",
      "Trainable params: 3,383,619\n",
      "Non-trainable params: 640\n",
      "_________________________________________________________________\n",
      "None\n"
     ]
    }
   ],
   "source": [
    "model1 = generateModel()\n",
    "print(model1.summary())"
   ]
  },
  {
   "cell_type": "code",
   "execution_count": 71,
   "metadata": {
    "id": "c2ggQW9tLIjN"
   },
   "outputs": [],
   "source": [
    "#Reset Log Directory for tensorslow\n",
    "run_logdir = get_run_logdir()\n",
    "tensorboard_cb = keras.callbacks.TensorBoard(run_logdir)\n",
    "checkpoint_cb = keras.callbacks.ModelCheckpoint(work_dir+\"tmp/my_keras_model.h5\", save_best_only=True)\n",
    "early_stopping_cb=keras.callbacks.EarlyStopping(monitor='loss', mode ='min', min_delta=1, patience=10)"
   ]
  },
  {
   "cell_type": "code",
   "execution_count": 72,
   "metadata": {
    "colab": {
     "base_uri": "https://localhost:8080/"
    },
    "id": "8l09Kn923Zp8",
    "outputId": "03f396a5-f14c-430f-b32e-f7845f47014d"
   },
   "outputs": [
    {
     "name": "stdout",
     "output_type": "stream",
     "text": [
      "Epoch 1/5\n",
      "346/346 [==============================] - 444s 1s/step - loss: 4.7168 - accuracy: 0.1793 - val_loss: 4.9196 - val_accuracy: 0.0909\n",
      "Epoch 2/5\n",
      "346/346 [==============================] - 377s 1s/step - loss: 3.2360 - accuracy: 0.2945 - val_loss: 4.7208 - val_accuracy: 0.1414\n",
      "Epoch 3/5\n",
      "346/346 [==============================] - 348s 1s/step - loss: 3.1560 - accuracy: 0.3130 - val_loss: 6.0586 - val_accuracy: 0.1582\n",
      "Epoch 4/5\n",
      "346/346 [==============================] - 368s 1s/step - loss: 3.1234 - accuracy: 0.3219 - val_loss: 5.3806 - val_accuracy: 0.1549\n",
      "Epoch 5/5\n",
      "346/346 [==============================] - 334s 963ms/step - loss: 3.1195 - accuracy: 0.3236 - val_loss: 5.2624 - val_accuracy: 0.1582\n",
      "10/10 [==============================] - 2s 209ms/step - loss: 5.2624 - accuracy: 0.1582\n",
      "Final loss: 5.262435, final accuracy: 15.824915 for model1\n",
      "Model 1 with pre processed image training time in seconds 0:31:27.544520\n"
     ]
    }
   ],
   "source": [
    "learningRate = .001\n",
    "epochs = 10\n",
    "n_extension = 10\n",
    "batchSize = 32\n",
    "steps_per_epoch = X_train.shape[0]/2\n",
    "start = timer()\n",
    "\n",
    "#model 1 with pre processed images\n",
    "model1.compile(keras.optimizers.Adam(lr=learningRate),metrics=[\"accuracy\"],loss=\"categorical_crossentropy\")\n",
    "history1 = model1.fit(imageGenerator(X_train, y_train, batchSize), validation_data=(X_val, y_val), epochs= 5, \n",
    "                    steps_per_epoch=steps_per_epoch, callbacks=[checkpoint_cb, tensorboard_cb, early_stopping_cb])\n",
    "\n",
    "#final validation loss and accuracy\n",
    "final_loss1, final_acc1 = model1.evaluate(X_val, y_val, verbose=1)\n",
    "end = timer()\n",
    "#total time taken by model1\n",
    "elapsed_time1 = timedelta(seconds=end-start)\n",
    "print(\"Final loss: {0:.6f}, final accuracy: {1:.6f} for model1\".format(final_loss1, final_acc1*100))\n",
    "print(\"Model 1 with pre processed image training time in seconds\", elapsed_time1)"
   ]
  },
  {
   "cell_type": "code",
   "execution_count": 73,
   "metadata": {
    "colab": {
     "base_uri": "https://localhost:8080/",
     "height": 520
    },
    "id": "kx46FdKEcoib",
    "outputId": "7bb5165e-e2fe-4710-8f9f-c2965bdc44e8"
   },
   "outputs": [
    {
     "data": {
      "image/png": "[encoded data removed]",
      "text/plain": [
       "<Figure size 1440x576 with 2 Axes>"
      ]
     },
     "metadata": {
      "needs_background": "light"
     },
     "output_type": "display_data"
    }
   ],
   "source": [
    "# Visualize learning curve for model 1 with pre processed images.\n",
    "draw_learning_curve(history1)"
   ]
  },
  {
   "cell_type": "markdown",
   "metadata": {
    "id": "z-1QsJJuRSdo"
   },
   "source": [
    "Accuracy for train set is higher than test set through each epoch. However, loss is higher for test than train set through each epoch. Train set loss decreases through each epoch. "
   ]
  },
  {
   "cell_type": "code",
   "execution_count": 74,
   "metadata": {
    "colab": {
     "base_uri": "https://localhost:8080/"
    },
    "id": "bJ88iWmPdGnt",
    "outputId": "92774eea-49c3-48c4-b86d-77e151ea28f5"
   },
   "outputs": [
    {
     "name": "stdout",
     "output_type": "stream",
     "text": [
      "22/22 [==============================] - 5s 220ms/step - loss: 3.3996 - accuracy: 0.3377\n"
     ]
    }
   ],
   "source": [
    "#model 1 summarized results\n",
    "train_loss1, train_acc1 = model1.evaluate(X_train, y_train)\n",
    "Model1 = \"CNN Model 1 (pre-processed features)\"\n",
    "results = pd.DataFrame(columns = ['Model', 'Time', 'Train-loss', 'Train-accuracy', 'Test-loss', 'Test-Accuracy'])\n",
    "row1 = [Model1, elapsed_time1, train_loss1, train_acc1, final_loss1, final_acc1]\n",
    "results = results.append(pd.DataFrame([row1], columns=results.columns), ignore_index=True)"
   ]
  },
  {
   "cell_type": "code",
   "execution_count": 75,
   "metadata": {
    "colab": {
     "base_uri": "https://localhost:8080/",
     "height": 81
    },
    "id": "3KQOuOFYdm8i",
    "outputId": "df673695-54c7-497a-fc75-1ad51ebaaa77"
   },
   "outputs": [
    {
     "data": {
      "text/html": [
       "\n",
       "  <div id=\"df-3a265b64-8a16-4f6c-9912-b616d68a2ade\">\n",
       "    <div class=\"colab-df-container\">\n",
       "      <div>\n",
       "<style scoped>\n",
       "    .dataframe tbody tr th:only-of-type {\n",
       "        vertical-align: middle;\n",
       "    }\n",
       "\n",
       "    .dataframe tbody tr th {\n",
       "        vertical-align: top;\n",
       "    }\n",
       "\n",
       "    .dataframe thead th {\n",
       "        text-align: right;\n",
       "    }\n",
       "</style>\n",
       "<table border=\"1\" class=\"dataframe\">\n",
       "  <thead>\n",
       "    <tr style=\"text-align: right;\">\n",
       "      <th></th>\n",
       "      <th>Model</th>\n",
       "      <th>Time</th>\n",
       "      <th>Train-loss</th>\n",
       "      <th>Train-accuracy</th>\n",
       "      <th>Test-loss</th>\n",
       "      <th>Test-Accuracy</th>\n",
       "    </tr>\n",
       "  </thead>\n",
       "  <tbody>\n",
       "    <tr>\n",
       "      <th>0</th>\n",
       "      <td>CNN Model 1 (pre-processed features)</td>\n",
       "      <td>0 days 00:31:27.544520</td>\n",
       "      <td>3.399639</td>\n",
       "      <td>0.337662</td>\n",
       "      <td>5.262435</td>\n",
       "      <td>0.158249</td>\n",
       "    </tr>\n",
       "  </tbody>\n",
       "</table>\n",
       "</div>\n",
       "      <button class=\"colab-df-convert\" onclick=\"convertToInteractive('df-3a265b64-8a16-4f6c-9912-b616d68a2ade')\"\n",
       "              title=\"Convert this dataframe to an interactive table.\"\n",
       "              style=\"display:none;\">\n",
       "        \n",
       "  <svg xmlns=\"http://www.w3.org/2000/svg\" height=\"24px\"viewBox=\"0 0 24 24\"\n",
       "       width=\"24px\">\n",
       "    <path d=\"M0 0h24v24H0V0z\" fill=\"none\"/>\n",
       "    <path d=\"M18.56 5.44l.94 2.06.94-2.06 2.06-.94-2.06-.94-.94-2.06-.94 2.06-2.06.94zm-11 1L8.5 8.5l.94-2.06 2.06-.94-2.06-.94L8.5 2.5l-.94 2.06-2.06.94zm10 10l.94 2.06.94-2.06 2.06-.94-2.06-.94-.94-2.06-.94 2.06-2.06.94z\"/><path d=\"M17.41 7.96l-1.37-1.37c-.4-.4-.92-.59-1.43-.59-.52 0-1.04.2-1.43.59L10.3 9.45l-7.72 7.72c-.78.78-.78 2.05 0 2.83L4 21.41c.39.39.9.59 1.41.59.51 0 1.02-.2 1.41-.59l7.78-7.78 2.81-2.81c.8-.78.8-2.07 0-2.86zM5.41 20L4 18.59l7.72-7.72 1.47 1.35L5.41 20z\"/>\n",
       "  </svg>\n",
       "      </button>\n",
       "      \n",
       "  <style>\n",
       "    .colab-df-container {\n",
       "      display:flex;\n",
       "      flex-wrap:wrap;\n",
       "      gap: 12px;\n",
       "    }\n",
       "\n",
       "    .colab-df-convert {\n",
       "      background-color: #E8F0FE;\n",
       "      border: none;\n",
       "      border-radius: 50%;\n",
       "      cursor: pointer;\n",
       "      display: none;\n",
       "      fill: #1967D2;\n",
       "      height: 32px;\n",
       "      padding: 0 0 0 0;\n",
       "      width: 32px;\n",
       "    }\n",
       "\n",
       "    .colab-df-convert:hover {\n",
       "      background-color: #E2EBFA;\n",
       "      box-shadow: 0px 1px 2px rgba(60, 64, 67, 0.3), 0px 1px 3px 1px rgba(60, 64, 67, 0.15);\n",
       "      fill: #174EA6;\n",
       "    }\n",
       "\n",
       "    [theme=dark] .colab-df-convert {\n",
       "      background-color: #3B4455;\n",
       "      fill: #D2E3FC;\n",
       "    }\n",
       "\n",
       "    [theme=dark] .colab-df-convert:hover {\n",
       "      background-color: #434B5C;\n",
       "      box-shadow: 0px 1px 3px 1px rgba(0, 0, 0, 0.15);\n",
       "      filter: drop-shadow(0px 1px 2px rgba(0, 0, 0, 0.3));\n",
       "      fill: #FFFFFF;\n",
       "    }\n",
       "  </style>\n",
       "\n",
       "      <script>\n",
       "        const buttonEl =\n",
       "          document.querySelector('#df-3a265b64-8a16-4f6c-9912-b616d68a2ade button.colab-df-convert');\n",
       "        buttonEl.style.display =\n",
       "          google.colab.kernel.accessAllowed ? 'block' : 'none';\n",
       "\n",
       "        async function convertToInteractive(key) {\n",
       "          const element = document.querySelector('#df-3a265b64-8a16-4f6c-9912-b616d68a2ade');\n",
       "          const dataTable =\n",
       "            await google.colab.kernel.invokeFunction('convertToInteractive',\n",
       "                                                     [key], {});\n",
       "          if (!dataTable) return;\n",
       "\n",
       "          const docLinkHtml = 'Like what you see? Visit the ' +\n",
       "            '<a target=\"_blank\" href=https://colab.research.google.com/notebooks/data_table.ipynb>data table notebook</a>'\n",
       "            + ' to learn more about interactive tables.';\n",
       "          element.innerHTML = '';\n",
       "          dataTable['output_type'] = 'display_data';\n",
       "          await google.colab.output.renderOutput(dataTable, element);\n",
       "          const docLink = document.createElement('div');\n",
       "          docLink.innerHTML = docLinkHtml;\n",
       "          element.appendChild(docLink);\n",
       "        }\n",
       "      </script>\n",
       "    </div>\n",
       "  </div>\n",
       "  "
      ],
      "text/plain": [
       "                                  Model                   Time  Train-loss  \\\n",
       "0  CNN Model 1 (pre-processed features) 0 days 00:31:27.544520    3.399639   \n",
       "\n",
       "   Train-accuracy  Test-loss  Test-Accuracy  \n",
       "0        0.337662   5.262435       0.158249  "
      ]
     },
     "execution_count": 75,
     "metadata": {},
     "output_type": "execute_result"
    }
   ],
   "source": [
    "results"
   ]
  },
  {
   "cell_type": "code",
   "execution_count": 76,
   "metadata": {
    "id": "Srqxu4KuH6jR"
   },
   "outputs": [],
   "source": [
    "# CNN Model with 2 input features combined (preprocessed feature using images and  pre-extracted numerical features)\n",
    "def generateCombinedModel(learning_rate=0.001):\n",
    "\n",
    "    Input_layer = keras.layers.Input(shape=(img_rows, img_cols, 1))\n",
    "\n",
    "    first = keras.layers.Conv2D(64, kernel_size=(3,3), activation= \"relu\", padding= \"same\")(Input_layer)\n",
    "\n",
    "    first = keras.layers.Conv2D(128, kernel_size=(3,3), activation = \"relu\")(first)\n",
    "\n",
    "    first = keras.layers.Dropout(.5)(first)\n",
    "\n",
    "    first = keras.layers.MaxPool2D(pool_size=(2, 2), strides=(2, 2))(first)\n",
    "\n",
    "    first = keras.layers.Flatten()(first)\n",
    "    \n",
    "    #second network only for the pre_extracted features\n",
    "\n",
    "    Input_layer_features = keras.layers.Input(shape=(192,1),name='second')\n",
    "\n",
    "    second = keras.layers.Dense(100, activation = \"relu\")(Input_layer_features)\n",
    "\n",
    "    second = keras.layers.MaxPool1D()(second)\n",
    "\n",
    "    second = keras.layers.Flatten()(second)\n",
    "\n",
    "    combined = keras.layers.concatenate([first,second])\n",
    "    type(combined)\n",
    "\n",
    "    combined = keras.layers.Dense(100, activation= \"relu\")(combined)\n",
    "    combined = keras.layers.Dropout(.5)(combined)\n",
    "    #output layer\n",
    "    output_layer = keras.layers.Dense(99, activation=\"softmax\")(combined)\n",
    "    optimizer = keras.optimizers.Adam(learning_rate)\n",
    "\n",
    "    model = keras.Model(inputs=[Input_layer, Input_layer_features],outputs=output_layer)\n",
    "    #\"categorical_crossentropy\" loss  as we have converted the labels to categorical. \n",
    "    # otherwise use \"sparse_categorical_crossentropy\" loss if we have sparse labels.\n",
    "    model.compile(loss=\"categorical_crossentropy\", optimizer=optimizer, metrics=[\"accuracy\"])\n",
    "\n",
    "    return model"
   ]
  },
  {
   "cell_type": "code",
   "execution_count": 77,
   "metadata": {
    "colab": {
     "base_uri": "https://localhost:8080/"
    },
    "id": "Y7oP0AAcKwWE",
    "outputId": "74cd818c-a1dc-497a-d5e6-fcd0744ab3ce"
   },
   "outputs": [
    {
     "name": "stdout",
     "output_type": "stream",
     "text": [
      "Model: \"model_3\"\n",
      "__________________________________________________________________________________________________\n",
      " Layer (type)                   Output Shape         Param #     Connected to                     \n",
      "==================================================================================================\n",
      " input_4 (InputLayer)           [(None, 64, 64, 1)]  0           []                               \n",
      "                                                                                                  \n",
      " conv2d_14 (Conv2D)             (None, 64, 64, 64)   640         ['input_4[0][0]']                \n",
      "                                                                                                  \n",
      " conv2d_15 (Conv2D)             (None, 62, 62, 128)  73856       ['conv2d_14[0][0]']              \n",
      "                                                                                                  \n",
      " second (InputLayer)            [(None, 192, 1)]     0           []                               \n",
      "                                                                                                  \n",
      " dropout_2 (Dropout)            (None, 62, 62, 128)  0           ['conv2d_15[0][0]']              \n",
      "                                                                                                  \n",
      " dense_5 (Dense)                (None, 192, 100)     200         ['second[0][0]']                 \n",
      "                                                                                                  \n",
      " max_pooling2d_5 (MaxPooling2D)  (None, 31, 31, 128)  0          ['dropout_2[0][0]']              \n",
      "                                                                                                  \n",
      " max_pooling1d_1 (MaxPooling1D)  (None, 96, 100)     0           ['dense_5[0][0]']                \n",
      "                                                                                                  \n",
      " flatten_4 (Flatten)            (None, 123008)       0           ['max_pooling2d_5[0][0]']        \n",
      "                                                                                                  \n",
      " flatten_5 (Flatten)            (None, 9600)         0           ['max_pooling1d_1[0][0]']        \n",
      "                                                                                                  \n",
      " concatenate_1 (Concatenate)    (None, 132608)       0           ['flatten_4[0][0]',              \n",
      "                                                                  'flatten_5[0][0]']              \n",
      "                                                                                                  \n",
      " dense_6 (Dense)                (None, 100)          13260900    ['concatenate_1[0][0]']          \n",
      "                                                                                                  \n",
      " dropout_3 (Dropout)            (None, 100)          0           ['dense_6[0][0]']                \n",
      "                                                                                                  \n",
      " dense_7 (Dense)                (None, 99)           9999        ['dropout_3[0][0]']              \n",
      "                                                                                                  \n",
      "==================================================================================================\n",
      "Total params: 13,345,595\n",
      "Trainable params: 13,345,595\n",
      "Non-trainable params: 0\n",
      "__________________________________________________________________________________________________\n",
      "None\n"
     ]
    }
   ],
   "source": [
    "#Initiallize model 2\n",
    "model2 = generateCombinedModel()\n",
    "#print model 2 summary\n",
    "print(model2.summary())"
   ]
  },
  {
   "cell_type": "code",
   "execution_count": 78,
   "metadata": {
    "colab": {
     "base_uri": "https://localhost:8080/"
    },
    "id": "6p2hKAlFIh63",
    "outputId": "662d5441-99b1-4d33-d4f0-b1da0ecfd899"
   },
   "outputs": [
    {
     "name": "stdout",
     "output_type": "stream",
     "text": [
      "Epoch 1/100\n",
      "25/25 [==============================] - 43s 2s/step - loss: 4.4270 - accuracy: 0.0442 - val_loss: 3.8817 - val_accuracy: 0.2222\n",
      "Epoch 2/100\n",
      "25/25 [==============================] - 42s 2s/step - loss: 3.6095 - accuracy: 0.1768 - val_loss: 2.7740 - val_accuracy: 0.4545\n",
      "Epoch 3/100\n",
      "25/25 [==============================] - 42s 2s/step - loss: 2.7116 - accuracy: 0.3295 - val_loss: 1.8075 - val_accuracy: 0.6970\n",
      "Epoch 4/100\n",
      "25/25 [==============================] - 41s 2s/step - loss: 1.9467 - accuracy: 0.4962 - val_loss: 1.1076 - val_accuracy: 0.8485\n",
      "Epoch 5/100\n",
      "25/25 [==============================] - 41s 2s/step - loss: 1.3709 - accuracy: 0.6288 - val_loss: 0.7485 - val_accuracy: 0.9091\n",
      "Epoch 6/100\n",
      "25/25 [==============================] - 41s 2s/step - loss: 1.0591 - accuracy: 0.7045 - val_loss: 0.5075 - val_accuracy: 0.9091\n",
      "Epoch 7/100\n",
      "25/25 [==============================] - 41s 2s/step - loss: 0.9539 - accuracy: 0.7273 - val_loss: 0.4399 - val_accuracy: 0.9242\n",
      "Epoch 8/100\n",
      "25/25 [==============================] - 41s 2s/step - loss: 0.8088 - accuracy: 0.7538 - val_loss: 0.3946 - val_accuracy: 0.9343\n",
      "Epoch 9/100\n",
      "25/25 [==============================] - 41s 2s/step - loss: 0.7051 - accuracy: 0.7652 - val_loss: 0.3287 - val_accuracy: 0.9293\n",
      "Epoch 10/100\n",
      "25/25 [==============================] - 41s 2s/step - loss: 0.6075 - accuracy: 0.8093 - val_loss: 0.2655 - val_accuracy: 0.9495\n",
      "Epoch 11/100\n",
      "25/25 [==============================] - 40s 2s/step - loss: 0.5779 - accuracy: 0.8232 - val_loss: 0.2668 - val_accuracy: 0.9545\n",
      "Epoch 12/100\n",
      "25/25 [==============================] - 45s 2s/step - loss: 0.4878 - accuracy: 0.8460 - val_loss: 0.2426 - val_accuracy: 0.9495\n",
      "Epoch 13/100\n",
      "25/25 [==============================] - 41s 2s/step - loss: 0.4775 - accuracy: 0.8573 - val_loss: 0.2278 - val_accuracy: 0.9394\n",
      "Epoch 14/100\n",
      "25/25 [==============================] - 41s 2s/step - loss: 0.4456 - accuracy: 0.8510 - val_loss: 0.2351 - val_accuracy: 0.9596\n",
      "Epoch 15/100\n",
      "25/25 [==============================] - 42s 2s/step - loss: 0.4573 - accuracy: 0.8573 - val_loss: 0.2399 - val_accuracy: 0.9343\n",
      "Epoch 16/100\n",
      "25/25 [==============================] - 41s 2s/step - loss: 0.4122 - accuracy: 0.8674 - val_loss: 0.2386 - val_accuracy: 0.9394\n",
      "Epoch 17/100\n",
      "25/25 [==============================] - 42s 2s/step - loss: 0.3803 - accuracy: 0.8750 - val_loss: 0.2330 - val_accuracy: 0.9293\n",
      "Epoch 18/100\n",
      "25/25 [==============================] - 42s 2s/step - loss: 0.3977 - accuracy: 0.8826 - val_loss: 0.2431 - val_accuracy: 0.9293\n",
      "Epoch 19/100\n",
      "25/25 [==============================] - 42s 2s/step - loss: 0.2919 - accuracy: 0.9167 - val_loss: 0.1827 - val_accuracy: 0.9495\n",
      "Epoch 20/100\n",
      "25/25 [==============================] - 41s 2s/step - loss: 0.3329 - accuracy: 0.8965 - val_loss: 0.1942 - val_accuracy: 0.9343\n",
      "Epoch 21/100\n",
      "25/25 [==============================] - 41s 2s/step - loss: 0.3282 - accuracy: 0.9015 - val_loss: 0.1444 - val_accuracy: 0.9596\n",
      "Epoch 22/100\n",
      "25/25 [==============================] - 41s 2s/step - loss: 0.2859 - accuracy: 0.9141 - val_loss: 0.1502 - val_accuracy: 0.9747\n",
      "Epoch 23/100\n",
      "25/25 [==============================] - 41s 2s/step - loss: 0.2748 - accuracy: 0.9091 - val_loss: 0.1917 - val_accuracy: 0.9545\n",
      "Epoch 24/100\n",
      "25/25 [==============================] - 42s 2s/step - loss: 0.3280 - accuracy: 0.8838 - val_loss: 0.1945 - val_accuracy: 0.9444\n",
      "Epoch 25/100\n",
      "25/25 [==============================] - 41s 2s/step - loss: 0.2842 - accuracy: 0.9015 - val_loss: 0.2366 - val_accuracy: 0.9343\n",
      "Epoch 26/100\n",
      "25/25 [==============================] - 41s 2s/step - loss: 0.2043 - accuracy: 0.9444 - val_loss: 0.1615 - val_accuracy: 0.9596\n",
      "Epoch 27/100\n",
      "25/25 [==============================] - 41s 2s/step - loss: 0.1871 - accuracy: 0.9356 - val_loss: 0.2010 - val_accuracy: 0.9495\n",
      "Epoch 28/100\n",
      "25/25 [==============================] - 42s 2s/step - loss: 0.1666 - accuracy: 0.9545 - val_loss: 0.1790 - val_accuracy: 0.9495\n",
      "Epoch 29/100\n",
      "25/25 [==============================] - 41s 2s/step - loss: 0.2098 - accuracy: 0.9268 - val_loss: 0.2008 - val_accuracy: 0.9444\n",
      "Epoch 30/100\n",
      "25/25 [==============================] - 41s 2s/step - loss: 0.2050 - accuracy: 0.9394 - val_loss: 0.1761 - val_accuracy: 0.9495\n",
      "Epoch 31/100\n",
      "25/25 [==============================] - 41s 2s/step - loss: 0.1805 - accuracy: 0.9470 - val_loss: 0.1565 - val_accuracy: 0.9646\n",
      "Epoch 32/100\n",
      "25/25 [==============================] - 41s 2s/step - loss: 0.1563 - accuracy: 0.9533 - val_loss: 0.2002 - val_accuracy: 0.9545\n",
      "Epoch 33/100\n",
      "25/25 [==============================] - 41s 2s/step - loss: 0.2038 - accuracy: 0.9318 - val_loss: 0.1903 - val_accuracy: 0.9596\n",
      "Epoch 34/100\n",
      "25/25 [==============================] - 42s 2s/step - loss: 0.2086 - accuracy: 0.9217 - val_loss: 0.1886 - val_accuracy: 0.9596\n",
      "Epoch 35/100\n",
      "25/25 [==============================] - 41s 2s/step - loss: 0.2308 - accuracy: 0.9141 - val_loss: 0.1732 - val_accuracy: 0.9646\n",
      "Epoch 36/100\n",
      "25/25 [==============================] - 42s 2s/step - loss: 0.1985 - accuracy: 0.9394 - val_loss: 0.1514 - val_accuracy: 0.9495\n",
      "Epoch 37/100\n",
      "25/25 [==============================] - 41s 2s/step - loss: 0.2275 - accuracy: 0.9268 - val_loss: 0.1694 - val_accuracy: 0.9646\n",
      "Epoch 38/100\n",
      "25/25 [==============================] - 41s 2s/step - loss: 0.1960 - accuracy: 0.9331 - val_loss: 0.1639 - val_accuracy: 0.9545\n",
      "Epoch 39/100\n",
      "25/25 [==============================] - 41s 2s/step - loss: 0.1997 - accuracy: 0.9369 - val_loss: 0.1587 - val_accuracy: 0.9646\n",
      "Epoch 40/100\n",
      "25/25 [==============================] - 40s 2s/step - loss: 0.2103 - accuracy: 0.9293 - val_loss: 0.1484 - val_accuracy: 0.9697\n",
      "Epoch 41/100\n",
      "25/25 [==============================] - 40s 2s/step - loss: 0.1702 - accuracy: 0.9369 - val_loss: 0.1786 - val_accuracy: 0.9697\n",
      "Epoch 42/100\n",
      "25/25 [==============================] - 42s 2s/step - loss: 0.1690 - accuracy: 0.9508 - val_loss: 0.1672 - val_accuracy: 0.9697\n",
      "Epoch 43/100\n",
      "25/25 [==============================] - 41s 2s/step - loss: 0.1956 - accuracy: 0.9381 - val_loss: 0.1809 - val_accuracy: 0.9495\n",
      "Epoch 44/100\n",
      "25/25 [==============================] - 41s 2s/step - loss: 0.2101 - accuracy: 0.9369 - val_loss: 0.2133 - val_accuracy: 0.9495\n",
      "Epoch 45/100\n",
      "25/25 [==============================] - 41s 2s/step - loss: 0.1977 - accuracy: 0.9306 - val_loss: 0.1891 - val_accuracy: 0.9545\n",
      "Epoch 46/100\n",
      "25/25 [==============================] - 41s 2s/step - loss: 0.1609 - accuracy: 0.9407 - val_loss: 0.1748 - val_accuracy: 0.9394\n",
      "Epoch 47/100\n",
      "25/25 [==============================] - 40s 2s/step - loss: 0.1301 - accuracy: 0.9596 - val_loss: 0.1715 - val_accuracy: 0.9545\n",
      "Epoch 48/100\n",
      "25/25 [==============================] - 41s 2s/step - loss: 0.1539 - accuracy: 0.9482 - val_loss: 0.1755 - val_accuracy: 0.9495\n",
      "Epoch 49/100\n",
      "25/25 [==============================] - 42s 2s/step - loss: 0.1687 - accuracy: 0.9482 - val_loss: 0.1640 - val_accuracy: 0.9596\n",
      "Epoch 50/100\n",
      "25/25 [==============================] - 41s 2s/step - loss: 0.1653 - accuracy: 0.9482 - val_loss: 0.2168 - val_accuracy: 0.9394\n",
      "Epoch 51/100\n",
      "25/25 [==============================] - 41s 2s/step - loss: 0.1216 - accuracy: 0.9520 - val_loss: 0.1972 - val_accuracy: 0.9394\n",
      "Epoch 52/100\n",
      "25/25 [==============================] - 41s 2s/step - loss: 0.1332 - accuracy: 0.9583 - val_loss: 0.2142 - val_accuracy: 0.9343\n",
      "Epoch 53/100\n",
      "25/25 [==============================] - 41s 2s/step - loss: 0.1487 - accuracy: 0.9457 - val_loss: 0.1534 - val_accuracy: 0.9545\n",
      "Epoch 54/100\n",
      "25/25 [==============================] - 40s 2s/step - loss: 0.1384 - accuracy: 0.9571 - val_loss: 0.1491 - val_accuracy: 0.9646\n",
      "Epoch 55/100\n",
      "25/25 [==============================] - 41s 2s/step - loss: 0.1220 - accuracy: 0.9596 - val_loss: 0.1746 - val_accuracy: 0.9495\n",
      "Epoch 56/100\n",
      "25/25 [==============================] - 42s 2s/step - loss: 0.1463 - accuracy: 0.9533 - val_loss: 0.1965 - val_accuracy: 0.9444\n",
      "Epoch 57/100\n",
      "25/25 [==============================] - 42s 2s/step - loss: 0.1839 - accuracy: 0.9369 - val_loss: 0.1887 - val_accuracy: 0.9545\n",
      "Epoch 58/100\n",
      "25/25 [==============================] - 41s 2s/step - loss: 0.1321 - accuracy: 0.9545 - val_loss: 0.2046 - val_accuracy: 0.9495\n",
      "Epoch 59/100\n",
      "25/25 [==============================] - 42s 2s/step - loss: 0.1642 - accuracy: 0.9457 - val_loss: 0.1960 - val_accuracy: 0.9646\n",
      "Epoch 60/100\n",
      "25/25 [==============================] - 41s 2s/step - loss: 0.1939 - accuracy: 0.9407 - val_loss: 0.1929 - val_accuracy: 0.9646\n",
      "Epoch 61/100\n",
      "25/25 [==============================] - 41s 2s/step - loss: 0.1250 - accuracy: 0.9609 - val_loss: 0.2042 - val_accuracy: 0.9545\n",
      "Epoch 62/100\n",
      "25/25 [==============================] - 41s 2s/step - loss: 0.1400 - accuracy: 0.9583 - val_loss: 0.1871 - val_accuracy: 0.9646\n",
      "Epoch 63/100\n",
      "25/25 [==============================] - 42s 2s/step - loss: 0.0971 - accuracy: 0.9722 - val_loss: 0.2012 - val_accuracy: 0.9646\n",
      "Epoch 64/100\n",
      "25/25 [==============================] - 42s 2s/step - loss: 0.1267 - accuracy: 0.9558 - val_loss: 0.1864 - val_accuracy: 0.9646\n",
      "Epoch 65/100\n",
      "25/25 [==============================] - 41s 2s/step - loss: 0.1281 - accuracy: 0.9621 - val_loss: 0.1650 - val_accuracy: 0.9596\n",
      "Epoch 66/100\n",
      "25/25 [==============================] - 42s 2s/step - loss: 0.0957 - accuracy: 0.9621 - val_loss: 0.1636 - val_accuracy: 0.9596\n",
      "Epoch 67/100\n",
      "25/25 [==============================] - 42s 2s/step - loss: 0.1108 - accuracy: 0.9634 - val_loss: 0.2355 - val_accuracy: 0.9646\n",
      "Epoch 68/100\n",
      "25/25 [==============================] - 41s 2s/step - loss: 0.1443 - accuracy: 0.9558 - val_loss: 0.1706 - val_accuracy: 0.9545\n",
      "Epoch 69/100\n",
      "25/25 [==============================] - 41s 2s/step - loss: 0.1533 - accuracy: 0.9520 - val_loss: 0.1620 - val_accuracy: 0.9697\n",
      "Epoch 70/100\n",
      "25/25 [==============================] - 41s 2s/step - loss: 0.1504 - accuracy: 0.9520 - val_loss: 0.1720 - val_accuracy: 0.9646\n",
      "Epoch 71/100\n",
      "25/25 [==============================] - 42s 2s/step - loss: 0.1363 - accuracy: 0.9621 - val_loss: 0.1552 - val_accuracy: 0.9646\n",
      "Epoch 72/100\n",
      "25/25 [==============================] - 41s 2s/step - loss: 0.1005 - accuracy: 0.9646 - val_loss: 0.1408 - val_accuracy: 0.9747\n",
      "Epoch 73/100\n",
      "25/25 [==============================] - 41s 2s/step - loss: 0.1304 - accuracy: 0.9583 - val_loss: 0.1603 - val_accuracy: 0.9747\n",
      "Epoch 74/100\n",
      "25/25 [==============================] - 42s 2s/step - loss: 0.1739 - accuracy: 0.9381 - val_loss: 0.1277 - val_accuracy: 0.9747\n",
      "Epoch 75/100\n",
      "25/25 [==============================] - 42s 2s/step - loss: 0.1042 - accuracy: 0.9684 - val_loss: 0.1749 - val_accuracy: 0.9596\n",
      "Epoch 76/100\n",
      "25/25 [==============================] - 41s 2s/step - loss: 0.0997 - accuracy: 0.9672 - val_loss: 0.1574 - val_accuracy: 0.9545\n",
      "Epoch 77/100\n",
      "25/25 [==============================] - 40s 2s/step - loss: 0.0995 - accuracy: 0.9621 - val_loss: 0.1463 - val_accuracy: 0.9646\n",
      "Epoch 78/100\n",
      "25/25 [==============================] - 42s 2s/step - loss: 0.1171 - accuracy: 0.9596 - val_loss: 0.1189 - val_accuracy: 0.9697\n",
      "Epoch 79/100\n",
      "25/25 [==============================] - 41s 2s/step - loss: 0.1210 - accuracy: 0.9583 - val_loss: 0.1347 - val_accuracy: 0.9747\n",
      "Epoch 80/100\n",
      "25/25 [==============================] - 41s 2s/step - loss: 0.1016 - accuracy: 0.9609 - val_loss: 0.1157 - val_accuracy: 0.9798\n",
      "Epoch 81/100\n",
      "25/25 [==============================] - 41s 2s/step - loss: 0.0723 - accuracy: 0.9735 - val_loss: 0.1243 - val_accuracy: 0.9747\n",
      "Epoch 82/100\n",
      "25/25 [==============================] - 41s 2s/step - loss: 0.1370 - accuracy: 0.9558 - val_loss: 0.1196 - val_accuracy: 0.9697\n",
      "Epoch 83/100\n",
      "25/25 [==============================] - 41s 2s/step - loss: 0.1159 - accuracy: 0.9583 - val_loss: 0.1366 - val_accuracy: 0.9596\n",
      "Epoch 84/100\n",
      "25/25 [==============================] - 41s 2s/step - loss: 0.0908 - accuracy: 0.9646 - val_loss: 0.1261 - val_accuracy: 0.9697\n",
      "Epoch 85/100\n",
      "25/25 [==============================] - 41s 2s/step - loss: 0.0991 - accuracy: 0.9747 - val_loss: 0.1514 - val_accuracy: 0.9646\n",
      "Epoch 86/100\n",
      "25/25 [==============================] - 42s 2s/step - loss: 0.1289 - accuracy: 0.9545 - val_loss: 0.1486 - val_accuracy: 0.9646\n",
      "Epoch 87/100\n",
      "25/25 [==============================] - 41s 2s/step - loss: 0.1735 - accuracy: 0.9508 - val_loss: 0.1521 - val_accuracy: 0.9646\n",
      "Epoch 88/100\n",
      "25/25 [==============================] - 41s 2s/step - loss: 0.1392 - accuracy: 0.9646 - val_loss: 0.1338 - val_accuracy: 0.9545\n",
      "Epoch 89/100\n",
      "25/25 [==============================] - 41s 2s/step - loss: 0.1534 - accuracy: 0.9444 - val_loss: 0.1545 - val_accuracy: 0.9596\n",
      "Epoch 90/100\n",
      "25/25 [==============================] - 41s 2s/step - loss: 0.1271 - accuracy: 0.9596 - val_loss: 0.1776 - val_accuracy: 0.9545\n",
      "Epoch 91/100\n",
      "25/25 [==============================] - 41s 2s/step - loss: 0.1223 - accuracy: 0.9583 - val_loss: 0.1479 - val_accuracy: 0.9798\n",
      "Epoch 92/100\n",
      "25/25 [==============================] - 41s 2s/step - loss: 0.1379 - accuracy: 0.9609 - val_loss: 0.1334 - val_accuracy: 0.9646\n",
      "Epoch 93/100\n",
      "25/25 [==============================] - 42s 2s/step - loss: 0.1053 - accuracy: 0.9684 - val_loss: 0.1185 - val_accuracy: 0.9646\n",
      "Epoch 94/100\n",
      "25/25 [==============================] - 42s 2s/step - loss: 0.0843 - accuracy: 0.9747 - val_loss: 0.1763 - val_accuracy: 0.9596\n",
      "Epoch 95/100\n",
      "25/25 [==============================] - 41s 2s/step - loss: 0.0750 - accuracy: 0.9747 - val_loss: 0.1775 - val_accuracy: 0.9646\n",
      "Epoch 96/100\n",
      "25/25 [==============================] - 41s 2s/step - loss: 0.0731 - accuracy: 0.9760 - val_loss: 0.1489 - val_accuracy: 0.9747\n",
      "Epoch 97/100\n",
      "25/25 [==============================] - 40s 2s/step - loss: 0.1180 - accuracy: 0.9646 - val_loss: 0.1244 - val_accuracy: 0.9697\n",
      "Epoch 98/100\n",
      "25/25 [==============================] - 41s 2s/step - loss: 0.1392 - accuracy: 0.9520 - val_loss: 0.2096 - val_accuracy: 0.9495\n",
      "Epoch 99/100\n",
      "25/25 [==============================] - 41s 2s/step - loss: 0.1511 - accuracy: 0.9558 - val_loss: 0.2007 - val_accuracy: 0.9495\n",
      "Epoch 100/100\n",
      "25/25 [==============================] - 41s 2s/step - loss: 0.1238 - accuracy: 0.9583 - val_loss: 0.1743 - val_accuracy: 0.9545\n",
      "7/7 [==============================] - 2s 332ms/step - loss: 0.1743 - accuracy: 0.9545\n",
      "Final loss: 0.174313, final accuracy: 95.454544 for model2 with combined feature\n",
      "Model 2 with combined feature training time in seconds 1:09:25.501454\n"
     ]
    }
   ],
   "source": [
    "start = timer()\n",
    "\n",
    "#model2 with combined features i.e. pre processed images and pre extracted features.\n",
    "history2 = model2.fit([train_img, features_train], train_target, validation_data=([val_img, features_val], val_target), epochs= 100)\n",
    "#final validation loss on model 2\n",
    "final_loss2, final_acc2 = model2.evaluate([val_img, features_val], val_target, verbose=1)\n",
    "\n",
    "end = timer()\n",
    "#Total time taken by model 2\n",
    "elapsed_time2 = timedelta(seconds=end-start)\n",
    "print(\"Final loss: {0:.6f}, final accuracy: {1:.6f} for model2 with combined feature\".format(final_loss2, final_acc2*100))\n",
    "print(\"Model 2 with combined feature training time in seconds\", elapsed_time2)"
   ]
  },
  {
   "cell_type": "code",
   "execution_count": 79,
   "metadata": {
    "colab": {
     "base_uri": "https://localhost:8080/",
     "height": 520
    },
    "id": "8xr148sQIpgp",
    "outputId": "5d66a3de-500d-4467-cbd6-ede746a5e3c6"
   },
   "outputs": [
    {
     "data": {
      "image/png": "[encoded data removed]",
      "text/plain": [
       "<Figure size 1440x576 with 2 Axes>"
      ]
     },
     "metadata": {
      "needs_background": "light"
     },
     "output_type": "display_data"
    }
   ],
   "source": [
    "#Visualize learning curve for model 2\n",
    "draw_learning_curve(history2)"
   ]
  },
  {
   "cell_type": "markdown",
   "metadata": {
    "id": "RNc_Q6hkQkz1"
   },
   "source": [
    "Accuracy starts oscilating around 0.9 for both train and test sets. 100 epochs this time so it would make sense. Same for loss around 0.1"
   ]
  },
  {
   "cell_type": "code",
   "execution_count": 80,
   "metadata": {
    "colab": {
     "base_uri": "https://localhost:8080/"
    },
    "id": "6TbFGF5WIuHs",
    "outputId": "e9ababd5-77fc-4c5a-b275-430133bc92bf"
   },
   "outputs": [
    {
     "name": "stdout",
     "output_type": "stream",
     "text": [
      "25/25 [==============================] - 9s 369ms/step - loss: 4.0971e-04 - accuracy: 1.0000\n"
     ]
    }
   ],
   "source": [
    "#Summarize Model 2 results\n",
    "train_loss2, train_acc2 = model2.evaluate([train_img, features_train], train_target)\n",
    "Model2 = \"CNN Model 2 (Combined Features)\"\n",
    "row2 = [Model2, elapsed_time2, train_loss2, train_acc2, final_loss2, final_acc2]\n",
    "results = results.append(pd.DataFrame([row2], columns=results.columns), ignore_index=True)"
   ]
  },
  {
   "cell_type": "code",
   "execution_count": 81,
   "metadata": {
    "colab": {
     "base_uri": "https://localhost:8080/",
     "height": 112
    },
    "id": "mh0i0TkRh8lK",
    "outputId": "853af64b-3857-4e81-d6ce-f1879de7b846"
   },
   "outputs": [
    {
     "data": {
      "text/html": [
       "\n",
       "  <div id=\"df-4172f2e8-dccb-4693-972c-53a73c88a609\">\n",
       "    <div class=\"colab-df-container\">\n",
       "      <div>\n",
       "<style scoped>\n",
       "    .dataframe tbody tr th:only-of-type {\n",
       "        vertical-align: middle;\n",
       "    }\n",
       "\n",
       "    .dataframe tbody tr th {\n",
       "        vertical-align: top;\n",
       "    }\n",
       "\n",
       "    .dataframe thead th {\n",
       "        text-align: right;\n",
       "    }\n",
       "</style>\n",
       "<table border=\"1\" class=\"dataframe\">\n",
       "  <thead>\n",
       "    <tr style=\"text-align: right;\">\n",
       "      <th></th>\n",
       "      <th>Model</th>\n",
       "      <th>Time</th>\n",
       "      <th>Train-loss</th>\n",
       "      <th>Train-accuracy</th>\n",
       "      <th>Test-loss</th>\n",
       "      <th>Test-Accuracy</th>\n",
       "    </tr>\n",
       "  </thead>\n",
       "  <tbody>\n",
       "    <tr>\n",
       "      <th>0</th>\n",
       "      <td>CNN Model 1 (pre-processed features)</td>\n",
       "      <td>0 days 00:31:27.544520</td>\n",
       "      <td>3.399639</td>\n",
       "      <td>0.337662</td>\n",
       "      <td>5.262435</td>\n",
       "      <td>0.158249</td>\n",
       "    </tr>\n",
       "    <tr>\n",
       "      <th>1</th>\n",
       "      <td>CNN Model 2 (Combined Features)</td>\n",
       "      <td>0 days 01:09:25.501454</td>\n",
       "      <td>0.000410</td>\n",
       "      <td>1.000000</td>\n",
       "      <td>0.174313</td>\n",
       "      <td>0.954545</td>\n",
       "    </tr>\n",
       "  </tbody>\n",
       "</table>\n",
       "</div>\n",
       "      <button class=\"colab-df-convert\" onclick=\"convertToInteractive('df-4172f2e8-dccb-4693-972c-53a73c88a609')\"\n",
       "              title=\"Convert this dataframe to an interactive table.\"\n",
       "              style=\"display:none;\">\n",
       "        \n",
       "  <svg xmlns=\"http://www.w3.org/2000/svg\" height=\"24px\"viewBox=\"0 0 24 24\"\n",
       "       width=\"24px\">\n",
       "    <path d=\"M0 0h24v24H0V0z\" fill=\"none\"/>\n",
       "    <path d=\"M18.56 5.44l.94 2.06.94-2.06 2.06-.94-2.06-.94-.94-2.06-.94 2.06-2.06.94zm-11 1L8.5 8.5l.94-2.06 2.06-.94-2.06-.94L8.5 2.5l-.94 2.06-2.06.94zm10 10l.94 2.06.94-2.06 2.06-.94-2.06-.94-.94-2.06-.94 2.06-2.06.94z\"/><path d=\"M17.41 7.96l-1.37-1.37c-.4-.4-.92-.59-1.43-.59-.52 0-1.04.2-1.43.59L10.3 9.45l-7.72 7.72c-.78.78-.78 2.05 0 2.83L4 21.41c.39.39.9.59 1.41.59.51 0 1.02-.2 1.41-.59l7.78-7.78 2.81-2.81c.8-.78.8-2.07 0-2.86zM5.41 20L4 18.59l7.72-7.72 1.47 1.35L5.41 20z\"/>\n",
       "  </svg>\n",
       "      </button>\n",
       "      \n",
       "  <style>\n",
       "    .colab-df-container {\n",
       "      display:flex;\n",
       "      flex-wrap:wrap;\n",
       "      gap: 12px;\n",
       "    }\n",
       "\n",
       "    .colab-df-convert {\n",
       "      background-color: #E8F0FE;\n",
       "      border: none;\n",
       "      border-radius: 50%;\n",
       "      cursor: pointer;\n",
       "      display: none;\n",
       "      fill: #1967D2;\n",
       "      height: 32px;\n",
       "      padding: 0 0 0 0;\n",
       "      width: 32px;\n",
       "    }\n",
       "\n",
       "    .colab-df-convert:hover {\n",
       "      background-color: #E2EBFA;\n",
       "      box-shadow: 0px 1px 2px rgba(60, 64, 67, 0.3), 0px 1px 3px 1px rgba(60, 64, 67, 0.15);\n",
       "      fill: #174EA6;\n",
       "    }\n",
       "\n",
       "    [theme=dark] .colab-df-convert {\n",
       "      background-color: #3B4455;\n",
       "      fill: #D2E3FC;\n",
       "    }\n",
       "\n",
       "    [theme=dark] .colab-df-convert:hover {\n",
       "      background-color: #434B5C;\n",
       "      box-shadow: 0px 1px 3px 1px rgba(0, 0, 0, 0.15);\n",
       "      filter: drop-shadow(0px 1px 2px rgba(0, 0, 0, 0.3));\n",
       "      fill: #FFFFFF;\n",
       "    }\n",
       "  </style>\n",
       "\n",
       "      <script>\n",
       "        const buttonEl =\n",
       "          document.querySelector('#df-4172f2e8-dccb-4693-972c-53a73c88a609 button.colab-df-convert');\n",
       "        buttonEl.style.display =\n",
       "          google.colab.kernel.accessAllowed ? 'block' : 'none';\n",
       "\n",
       "        async function convertToInteractive(key) {\n",
       "          const element = document.querySelector('#df-4172f2e8-dccb-4693-972c-53a73c88a609');\n",
       "          const dataTable =\n",
       "            await google.colab.kernel.invokeFunction('convertToInteractive',\n",
       "                                                     [key], {});\n",
       "          if (!dataTable) return;\n",
       "\n",
       "          const docLinkHtml = 'Like what you see? Visit the ' +\n",
       "            '<a target=\"_blank\" href=https://colab.research.google.com/notebooks/data_table.ipynb>data table notebook</a>'\n",
       "            + ' to learn more about interactive tables.';\n",
       "          element.innerHTML = '';\n",
       "          dataTable['output_type'] = 'display_data';\n",
       "          await google.colab.output.renderOutput(dataTable, element);\n",
       "          const docLink = document.createElement('div');\n",
       "          docLink.innerHTML = docLinkHtml;\n",
       "          element.appendChild(docLink);\n",
       "        }\n",
       "      </script>\n",
       "    </div>\n",
       "  </div>\n",
       "  "
      ],
      "text/plain": [
       "                                  Model                   Time  Train-loss  \\\n",
       "0  CNN Model 1 (pre-processed features) 0 days 00:31:27.544520    3.399639   \n",
       "1       CNN Model 2 (Combined Features) 0 days 01:09:25.501454    0.000410   \n",
       "\n",
       "   Train-accuracy  Test-loss  Test-Accuracy  \n",
       "0        0.337662   5.262435       0.158249  \n",
       "1        1.000000   0.174313       0.954545  "
      ]
     },
     "execution_count": 81,
     "metadata": {},
     "output_type": "execute_result"
    }
   ],
   "source": [
    "results"
   ]
  },
  {
   "cell_type": "code",
   "execution_count": 82,
   "metadata": {
    "colab": {
     "base_uri": "https://localhost:8080/"
    },
    "id": "UYdx6UwTK2jG",
    "outputId": "04938d7d-51d4-4305-ad73-2d9cda6cba85"
   },
   "outputs": [
    {
     "name": "stdout",
     "output_type": "stream",
     "text": [
      "Model: \"model_4\"\n",
      "__________________________________________________________________________________________________\n",
      " Layer (type)                   Output Shape         Param #     Connected to                     \n",
      "==================================================================================================\n",
      " input_5 (InputLayer)           [(None, 64, 64, 1)]  0           []                               \n",
      "                                                                                                  \n",
      " conv2d_16 (Conv2D)             (None, 64, 64, 64)   640         ['input_5[0][0]']                \n",
      "                                                                                                  \n",
      " conv2d_17 (Conv2D)             (None, 62, 62, 128)  73856       ['conv2d_16[0][0]']              \n",
      "                                                                                                  \n",
      " second (InputLayer)            [(None, 192, 1)]     0           []                               \n",
      "                                                                                                  \n",
      " dropout_4 (Dropout)            (None, 62, 62, 128)  0           ['conv2d_17[0][0]']              \n",
      "                                                                                                  \n",
      " dense_8 (Dense)                (None, 192, 100)     200         ['second[0][0]']                 \n",
      "                                                                                                  \n",
      " max_pooling2d_6 (MaxPooling2D)  (None, 31, 31, 128)  0          ['dropout_4[0][0]']              \n",
      "                                                                                                  \n",
      " max_pooling1d_2 (MaxPooling1D)  (None, 96, 100)     0           ['dense_8[0][0]']                \n",
      "                                                                                                  \n",
      " flatten_6 (Flatten)            (None, 123008)       0           ['max_pooling2d_6[0][0]']        \n",
      "                                                                                                  \n",
      " flatten_7 (Flatten)            (None, 9600)         0           ['max_pooling1d_2[0][0]']        \n",
      "                                                                                                  \n",
      " concatenate_2 (Concatenate)    (None, 132608)       0           ['flatten_6[0][0]',              \n",
      "                                                                  'flatten_7[0][0]']              \n",
      "                                                                                                  \n",
      " dense_9 (Dense)                (None, 100)          13260900    ['concatenate_2[0][0]']          \n",
      "                                                                                                  \n",
      " dropout_5 (Dropout)            (None, 100)          0           ['dense_9[0][0]']                \n",
      "                                                                                                  \n",
      " dense_10 (Dense)               (None, 99)           9999        ['dropout_5[0][0]']              \n",
      "                                                                                                  \n",
      "==================================================================================================\n",
      "Total params: 13,345,595\n",
      "Trainable params: 13,345,595\n",
      "Non-trainable params: 0\n",
      "__________________________________________________________________________________________________\n",
      "None\n"
     ]
    }
   ],
   "source": [
    "#intiallize Model 3\n",
    "model3 = generateCombinedModel()\n",
    "#Print model summary\n",
    "print(model3.summary())"
   ]
  },
  {
   "cell_type": "code",
   "execution_count": 83,
   "metadata": {
    "colab": {
     "base_uri": "https://localhost:8080/"
    },
    "id": "RX5YHTP8qAeG",
    "outputId": "21b8a054-a5bc-4f9f-c08e-760cfd19826d"
   },
   "outputs": [
    {
     "name": "stdout",
     "output_type": "stream",
     "text": [
      "Epoch 1/30\n",
      "24/24 [==============================] - 52s 2s/step - loss: 35.8085 - accuracy: 0.0211 - val_loss: 4.2703 - val_accuracy: 0.0960\n",
      "Epoch 2/30\n",
      "24/24 [==============================] - 48s 2s/step - loss: 4.1549 - accuracy: 0.0605 - val_loss: 3.6630 - val_accuracy: 0.1970\n",
      "Epoch 3/30\n",
      "24/24 [==============================] - 46s 2s/step - loss: 3.6011 - accuracy: 0.1645 - val_loss: 2.8034 - val_accuracy: 0.4596\n",
      "Epoch 4/30\n",
      "24/24 [==============================] - 48s 2s/step - loss: 2.8404 - accuracy: 0.3039 - val_loss: 1.9215 - val_accuracy: 0.6111\n",
      "Epoch 5/30\n",
      "24/24 [==============================] - 47s 2s/step - loss: 2.3219 - accuracy: 0.4066 - val_loss: 1.3788 - val_accuracy: 0.7626\n",
      "Epoch 6/30\n",
      "24/24 [==============================] - 47s 2s/step - loss: 1.8645 - accuracy: 0.4908 - val_loss: 0.9856 - val_accuracy: 0.8586\n",
      "Epoch 7/30\n",
      "24/24 [==============================] - 47s 2s/step - loss: 1.5784 - accuracy: 0.5763 - val_loss: 0.7520 - val_accuracy: 0.8889\n",
      "Epoch 8/30\n",
      "24/24 [==============================] - 48s 2s/step - loss: 1.4417 - accuracy: 0.6107 - val_loss: 0.5949 - val_accuracy: 0.8838\n",
      "Epoch 9/30\n",
      "24/24 [==============================] - 49s 2s/step - loss: 1.2725 - accuracy: 0.6395 - val_loss: 0.5033 - val_accuracy: 0.9192\n",
      "Epoch 10/30\n",
      "24/24 [==============================] - 46s 2s/step - loss: 1.2214 - accuracy: 0.6368 - val_loss: 0.4186 - val_accuracy: 0.9192\n",
      "Epoch 11/30\n",
      "24/24 [==============================] - 51s 2s/step - loss: 1.0465 - accuracy: 0.6882 - val_loss: 0.3617 - val_accuracy: 0.9394\n",
      "Epoch 12/30\n",
      "24/24 [==============================] - 47s 2s/step - loss: 1.0193 - accuracy: 0.6987 - val_loss: 0.3244 - val_accuracy: 0.9545\n",
      "Epoch 13/30\n",
      "24/24 [==============================] - 48s 2s/step - loss: 0.9456 - accuracy: 0.7276 - val_loss: 0.2887 - val_accuracy: 0.9545\n",
      "Epoch 14/30\n",
      "24/24 [==============================] - 49s 2s/step - loss: 0.7912 - accuracy: 0.7487 - val_loss: 0.2445 - val_accuracy: 0.9798\n",
      "Epoch 15/30\n",
      "24/24 [==============================] - 47s 2s/step - loss: 0.7843 - accuracy: 0.7579 - val_loss: 0.2193 - val_accuracy: 0.9697\n",
      "Epoch 16/30\n",
      "24/24 [==============================] - 46s 2s/step - loss: 0.7897 - accuracy: 0.7632 - val_loss: 0.2477 - val_accuracy: 0.9444\n",
      "Epoch 17/30\n",
      "24/24 [==============================] - 47s 2s/step - loss: 0.7267 - accuracy: 0.7658 - val_loss: 0.1783 - val_accuracy: 0.9798\n",
      "7/7 [==============================] - 2s 332ms/step - loss: 0.1783 - accuracy: 0.9798\n",
      "Final loss: 0.178268, final accuracy: 97.979796 for Model 3 with combined features and data augmentation\n",
      "Model 3 with combined features and data augmentation training time in seconds 0:17:33.164543\n"
     ]
    }
   ],
   "source": [
    "start = timer()\n",
    "\n",
    "#Data Augmentation using keras image preprocessing library\n",
    "datagen = keras.preprocessing.image.ImageDataGenerator(\n",
    "    featurewise_center=True,\n",
    "    featurewise_std_normalization=True,\n",
    "    rotation_range=90,\n",
    "    horizontal_flip=True,\n",
    "    vertical_flip=True,\n",
    "    zca_whitening=True,\n",
    "    fill_mode='nearest')\n",
    "\n",
    "#fit image data generator\n",
    "datagen.fit(train_img)\n",
    "\n",
    "STEP_SIZE_TRAIN=train_img.shape[0]//32\n",
    "STEP_SIZE_VALID=val_img.shape[0]//16\n",
    "\n",
    "# fits the model on batches with real-time data augmentation and combined feature set.\n",
    "history3 = model3.fit(datagen.flow([train_img, features_train], train_target, batch_size=32),\n",
    "                     steps_per_epoch=STEP_SIZE_TRAIN, \n",
    "                     validation_data = ([val_img, features_val], val_target),\n",
    "                     epochs=30, \n",
    "                     callbacks=[checkpoint_cb, tensorboard_cb, early_stopping_cb])\n",
    "#Final validation loss and accuracy for model 3\n",
    "final_loss3, final_acc3 = model3.evaluate([val_img, features_val], val_target, verbose=1)\n",
    "end = timer()\n",
    "#total time taken for training model3\n",
    "elapsed_time3 = timedelta(seconds=end-start)\n",
    "print(\"Final loss: {0:.6f}, final accuracy: {1:.6f} for Model 3 with combined features and data augmentation\".format(final_loss3, final_acc3*100))\n",
    "print(\"Model 3 with combined features and data augmentation training time in seconds\", elapsed_time3)"
   ]
  },
  {
   "cell_type": "code",
   "execution_count": 84,
   "metadata": {
    "colab": {
     "base_uri": "https://localhost:8080/",
     "height": 520
    },
    "id": "f-MUT-_WHnul",
    "outputId": "a7951719-e65b-43ba-fd4d-d17d22371252"
   },
   "outputs": [
    {
     "data": {
      "image/png": "[encoded data removed]",
      "text/plain": [
       "<Figure size 1440x576 with 2 Axes>"
      ]
     },
     "metadata": {
      "needs_background": "light"
     },
     "output_type": "display_data"
    }
   ],
   "source": [
    "#Visualize learning curve\n",
    "draw_learning_curve(history3)"
   ]
  },
  {
   "cell_type": "markdown",
   "metadata": {
    "id": "7d4I8A7DP6lH"
   },
   "source": [
    "Looking at the learning curve, the test set has a higher accuracy through each epoch than the train set. The train set has a higher loss by a margin through each epoch in comparison to the test set \n"
   ]
  },
  {
   "cell_type": "code",
   "execution_count": 85,
   "metadata": {
    "colab": {
     "base_uri": "https://localhost:8080/"
    },
    "id": "OME1CGGkdqNJ",
    "outputId": "27989c12-ea3e-4db6-f086-18ed826bc96f"
   },
   "outputs": [
    {
     "name": "stdout",
     "output_type": "stream",
     "text": [
      "25/25 [==============================] - 9s 377ms/step - loss: 0.0461 - accuracy: 0.9987\n"
     ]
    }
   ],
   "source": [
    "#Summarize model 3 results\n",
    "train_loss3, train_acc3 = model3.evaluate([train_img, features_train], train_target)\n",
    "Model3 = \"CNN Model 3 (Combined augmented features)\"\n",
    "row3 = [Model3, elapsed_time3, train_loss3, train_acc3, final_loss3, final_acc3]\n",
    "results = results.append(pd.DataFrame([row3], columns=results.columns), ignore_index=True)"
   ]
  },
  {
   "cell_type": "code",
   "execution_count": 86,
   "metadata": {
    "colab": {
     "base_uri": "https://localhost:8080/",
     "height": 143
    },
    "id": "isM3yuBJqVoQ",
    "outputId": "e3e3e320-4748-4363-9ef5-509d921aac43"
   },
   "outputs": [
    {
     "data": {
      "text/html": [
       "\n",
       "  <div id=\"df-c62682e8-1944-44fe-a523-a1568e30ea97\">\n",
       "    <div class=\"colab-df-container\">\n",
       "      <div>\n",
       "<style scoped>\n",
       "    .dataframe tbody tr th:only-of-type {\n",
       "        vertical-align: middle;\n",
       "    }\n",
       "\n",
       "    .dataframe tbody tr th {\n",
       "        vertical-align: top;\n",
       "    }\n",
       "\n",
       "    .dataframe thead th {\n",
       "        text-align: right;\n",
       "    }\n",
       "</style>\n",
       "<table border=\"1\" class=\"dataframe\">\n",
       "  <thead>\n",
       "    <tr style=\"text-align: right;\">\n",
       "      <th></th>\n",
       "      <th>Model</th>\n",
       "      <th>Time</th>\n",
       "      <th>Train-loss</th>\n",
       "      <th>Train-accuracy</th>\n",
       "      <th>Test-loss</th>\n",
       "      <th>Test-Accuracy</th>\n",
       "    </tr>\n",
       "  </thead>\n",
       "  <tbody>\n",
       "    <tr>\n",
       "      <th>0</th>\n",
       "      <td>CNN Model 1 (pre-processed features)</td>\n",
       "      <td>0 days 00:31:27.544520</td>\n",
       "      <td>3.399639</td>\n",
       "      <td>0.337662</td>\n",
       "      <td>5.262435</td>\n",
       "      <td>0.158249</td>\n",
       "    </tr>\n",
       "    <tr>\n",
       "      <th>1</th>\n",
       "      <td>CNN Model 2 (Combined Features)</td>\n",
       "      <td>0 days 01:09:25.501454</td>\n",
       "      <td>0.000410</td>\n",
       "      <td>1.000000</td>\n",
       "      <td>0.174313</td>\n",
       "      <td>0.954545</td>\n",
       "    </tr>\n",
       "    <tr>\n",
       "      <th>2</th>\n",
       "      <td>CNN Model 3 (Combined augmented features)</td>\n",
       "      <td>0 days 00:17:33.164543</td>\n",
       "      <td>0.046085</td>\n",
       "      <td>0.998737</td>\n",
       "      <td>0.178268</td>\n",
       "      <td>0.979798</td>\n",
       "    </tr>\n",
       "  </tbody>\n",
       "</table>\n",
       "</div>\n",
       "      <button class=\"colab-df-convert\" onclick=\"convertToInteractive('df-c62682e8-1944-44fe-a523-a1568e30ea97')\"\n",
       "              title=\"Convert this dataframe to an interactive table.\"\n",
       "              style=\"display:none;\">\n",
       "        \n",
       "  <svg xmlns=\"http://www.w3.org/2000/svg\" height=\"24px\"viewBox=\"0 0 24 24\"\n",
       "       width=\"24px\">\n",
       "    <path d=\"M0 0h24v24H0V0z\" fill=\"none\"/>\n",
       "    <path d=\"M18.56 5.44l.94 2.06.94-2.06 2.06-.94-2.06-.94-.94-2.06-.94 2.06-2.06.94zm-11 1L8.5 8.5l.94-2.06 2.06-.94-2.06-.94L8.5 2.5l-.94 2.06-2.06.94zm10 10l.94 2.06.94-2.06 2.06-.94-2.06-.94-.94-2.06-.94 2.06-2.06.94z\"/><path d=\"M17.41 7.96l-1.37-1.37c-.4-.4-.92-.59-1.43-.59-.52 0-1.04.2-1.43.59L10.3 9.45l-7.72 7.72c-.78.78-.78 2.05 0 2.83L4 21.41c.39.39.9.59 1.41.59.51 0 1.02-.2 1.41-.59l7.78-7.78 2.81-2.81c.8-.78.8-2.07 0-2.86zM5.41 20L4 18.59l7.72-7.72 1.47 1.35L5.41 20z\"/>\n",
       "  </svg>\n",
       "      </button>\n",
       "      \n",
       "  <style>\n",
       "    .colab-df-container {\n",
       "      display:flex;\n",
       "      flex-wrap:wrap;\n",
       "      gap: 12px;\n",
       "    }\n",
       "\n",
       "    .colab-df-convert {\n",
       "      background-color: #E8F0FE;\n",
       "      border: none;\n",
       "      border-radius: 50%;\n",
       "      cursor: pointer;\n",
       "      display: none;\n",
       "      fill: #1967D2;\n",
       "      height: 32px;\n",
       "      padding: 0 0 0 0;\n",
       "      width: 32px;\n",
       "    }\n",
       "\n",
       "    .colab-df-convert:hover {\n",
       "      background-color: #E2EBFA;\n",
       "      box-shadow: 0px 1px 2px rgba(60, 64, 67, 0.3), 0px 1px 3px 1px rgba(60, 64, 67, 0.15);\n",
       "      fill: #174EA6;\n",
       "    }\n",
       "\n",
       "    [theme=dark] .colab-df-convert {\n",
       "      background-color: #3B4455;\n",
       "      fill: #D2E3FC;\n",
       "    }\n",
       "\n",
       "    [theme=dark] .colab-df-convert:hover {\n",
       "      background-color: #434B5C;\n",
       "      box-shadow: 0px 1px 3px 1px rgba(0, 0, 0, 0.15);\n",
       "      filter: drop-shadow(0px 1px 2px rgba(0, 0, 0, 0.3));\n",
       "      fill: #FFFFFF;\n",
       "    }\n",
       "  </style>\n",
       "\n",
       "      <script>\n",
       "        const buttonEl =\n",
       "          document.querySelector('#df-c62682e8-1944-44fe-a523-a1568e30ea97 button.colab-df-convert');\n",
       "        buttonEl.style.display =\n",
       "          google.colab.kernel.accessAllowed ? 'block' : 'none';\n",
       "\n",
       "        async function convertToInteractive(key) {\n",
       "          const element = document.querySelector('#df-c62682e8-1944-44fe-a523-a1568e30ea97');\n",
       "          const dataTable =\n",
       "            await google.colab.kernel.invokeFunction('convertToInteractive',\n",
       "                                                     [key], {});\n",
       "          if (!dataTable) return;\n",
       "\n",
       "          const docLinkHtml = 'Like what you see? Visit the ' +\n",
       "            '<a target=\"_blank\" href=https://colab.research.google.com/notebooks/data_table.ipynb>data table notebook</a>'\n",
       "            + ' to learn more about interactive tables.';\n",
       "          element.innerHTML = '';\n",
       "          dataTable['output_type'] = 'display_data';\n",
       "          await google.colab.output.renderOutput(dataTable, element);\n",
       "          const docLink = document.createElement('div');\n",
       "          docLink.innerHTML = docLinkHtml;\n",
       "          element.appendChild(docLink);\n",
       "        }\n",
       "      </script>\n",
       "    </div>\n",
       "  </div>\n",
       "  "
      ],
      "text/plain": [
       "                                       Model                   Time  \\\n",
       "0       CNN Model 1 (pre-processed features) 0 days 00:31:27.544520   \n",
       "1            CNN Model 2 (Combined Features) 0 days 01:09:25.501454   \n",
       "2  CNN Model 3 (Combined augmented features) 0 days 00:17:33.164543   \n",
       "\n",
       "   Train-loss  Train-accuracy  Test-loss  Test-Accuracy  \n",
       "0    3.399639        0.337662   5.262435       0.158249  \n",
       "1    0.000410        1.000000   0.174313       0.954545  \n",
       "2    0.046085        0.998737   0.178268       0.979798  "
      ]
     },
     "execution_count": 86,
     "metadata": {},
     "output_type": "execute_result"
    }
   ],
   "source": [
    "results"
   ]
  },
  {
   "cell_type": "code",
   "execution_count": 87,
   "metadata": {
    "colab": {
     "base_uri": "https://localhost:8080/"
    },
    "id": "5fJseMtJYFZR",
    "outputId": "557289ec-8916-497a-f48d-a5d862f0794d"
   },
   "outputs": [
    {
     "name": "stdout",
     "output_type": "stream",
     "text": [
      "Saved trained model at /results/keras_leaf_classifier_best.h5 \n"
     ]
    }
   ],
   "source": [
    "# saving the model with less validation loss and more accuracy i.e. model 3 with combined features and data augmentation.\n",
    "save_dir = \"/results/\"\n",
    "model_name = 'keras_leaf_classifier_best.h5'\n",
    "model_path = os.path.join(save_dir, model_name)\n",
    "model3.save(model_path)\n",
    "print('Saved trained model at %s ' % model_path)"
   ]
  },
  {
   "cell_type": "code",
   "execution_count": 88,
   "metadata": {
    "colab": {
     "base_uri": "https://localhost:8080/"
    },
    "id": "cwRvGYaAru6X",
    "outputId": "1e8c564a-2bc9-4977-f9a4-9d6990865966"
   },
   "outputs": [
    {
     "data": {
      "text/plain": [
       "array([[0.  , 0.  , 1.  , ..., 0.  , 0.  , 0.  ],\n",
       "       [0.  , 0.  , 0.01, ..., 0.  , 0.  , 0.  ],\n",
       "       [0.  , 0.  , 0.01, ..., 0.  , 0.  , 0.  ],\n",
       "       ...,\n",
       "       [0.  , 0.  , 0.  , ..., 0.  , 0.  , 0.  ],\n",
       "       [0.  , 0.  , 0.  , ..., 0.  , 0.  , 0.  ],\n",
       "       [0.  , 0.  , 0.  , ..., 0.  , 0.  , 0.  ]], dtype=float32)"
      ]
     },
     "execution_count": 88,
     "metadata": {},
     "output_type": "execute_result"
    }
   ],
   "source": [
    "# predict the labels using model 3 with combined features and data augmentation.\n",
    "y_pred = model3.predict([val_img, features_val])\n",
    "y_pred.round(2)"
   ]
  },
  {
   "cell_type": "code",
   "execution_count": 89,
   "metadata": {
    "id": "fdeZBY37sbqz"
   },
   "outputs": [],
   "source": [
    "yPred = pd.DataFrame(y_pred, columns=le.classes_)"
   ]
  },
  {
   "cell_type": "code",
   "execution_count": 90,
   "metadata": {
    "colab": {
     "base_uri": "https://localhost:8080/",
     "height": 661
    },
    "id": "wjgRuzfrt8Ku",
    "outputId": "b0614cfd-d8ce-44ab-b2ed-5680fc3fc65a"
   },
   "outputs": [
    {
     "data": {
      "text/html": [
       "\n",
       "  <div id=\"df-a65e4cc0-bb60-4603-8658-02a511fc6c2b\">\n",
       "    <div class=\"colab-df-container\">\n",
       "      <div>\n",
       "<style scoped>\n",
       "    .dataframe tbody tr th:only-of-type {\n",
       "        vertical-align: middle;\n",
       "    }\n",
       "\n",
       "    .dataframe tbody tr th {\n",
       "        vertical-align: top;\n",
       "    }\n",
       "\n",
       "    .dataframe thead th {\n",
       "        text-align: right;\n",
       "    }\n",
       "</style>\n",
       "<table border=\"1\" class=\"dataframe\">\n",
       "  <thead>\n",
       "    <tr style=\"text-align: right;\">\n",
       "      <th></th>\n",
       "      <th>Acer_Capillipes</th>\n",
       "      <th>Acer_Circinatum</th>\n",
       "      <th>Acer_Mono</th>\n",
       "      <th>Acer_Opalus</th>\n",
       "      <th>Acer_Palmatum</th>\n",
       "      <th>Acer_Pictum</th>\n",
       "      <th>Acer_Platanoids</th>\n",
       "      <th>Acer_Rubrum</th>\n",
       "      <th>Acer_Rufinerve</th>\n",
       "      <th>Acer_Saccharinum</th>\n",
       "      <th>...</th>\n",
       "      <th>Salix_Fragilis</th>\n",
       "      <th>Salix_Intergra</th>\n",
       "      <th>Sorbus_Aria</th>\n",
       "      <th>Tilia_Oliveri</th>\n",
       "      <th>Tilia_Platyphyllos</th>\n",
       "      <th>Tilia_Tomentosa</th>\n",
       "      <th>Ulmus_Bergmanniana</th>\n",
       "      <th>Viburnum_Tinus</th>\n",
       "      <th>Viburnum_x_Rhytidophylloides</th>\n",
       "      <th>Zelkova_Serrata</th>\n",
       "    </tr>\n",
       "  </thead>\n",
       "  <tbody>\n",
       "    <tr>\n",
       "      <th>0</th>\n",
       "      <td>1.639271e-09</td>\n",
       "      <td>4.324890e-09</td>\n",
       "      <td>9.973460e-01</td>\n",
       "      <td>1.698332e-05</td>\n",
       "      <td>9.899771e-09</td>\n",
       "      <td>7.499952e-06</td>\n",
       "      <td>6.922546e-07</td>\n",
       "      <td>6.624437e-08</td>\n",
       "      <td>3.937437e-09</td>\n",
       "      <td>1.552242e-08</td>\n",
       "      <td>...</td>\n",
       "      <td>2.299195e-06</td>\n",
       "      <td>2.568516e-06</td>\n",
       "      <td>2.705732e-11</td>\n",
       "      <td>1.210841e-09</td>\n",
       "      <td>1.208152e-11</td>\n",
       "      <td>2.590366e-07</td>\n",
       "      <td>2.057193e-06</td>\n",
       "      <td>0.000140</td>\n",
       "      <td>6.008478e-09</td>\n",
       "      <td>6.815575e-10</td>\n",
       "    </tr>\n",
       "    <tr>\n",
       "      <th>1</th>\n",
       "      <td>1.292326e-06</td>\n",
       "      <td>9.662003e-04</td>\n",
       "      <td>6.061193e-03</td>\n",
       "      <td>4.479080e-06</td>\n",
       "      <td>1.307818e-04</td>\n",
       "      <td>8.420018e-04</td>\n",
       "      <td>2.100119e-05</td>\n",
       "      <td>1.156556e-04</td>\n",
       "      <td>1.773871e-05</td>\n",
       "      <td>1.879918e-06</td>\n",
       "      <td>...</td>\n",
       "      <td>8.318933e-05</td>\n",
       "      <td>1.472350e-05</td>\n",
       "      <td>8.670868e-06</td>\n",
       "      <td>1.650948e-06</td>\n",
       "      <td>6.659886e-06</td>\n",
       "      <td>1.096645e-04</td>\n",
       "      <td>1.065419e-04</td>\n",
       "      <td>0.000160</td>\n",
       "      <td>1.069793e-04</td>\n",
       "      <td>6.602821e-05</td>\n",
       "    </tr>\n",
       "    <tr>\n",
       "      <th>2</th>\n",
       "      <td>5.425808e-08</td>\n",
       "      <td>4.493970e-07</td>\n",
       "      <td>1.260788e-02</td>\n",
       "      <td>1.022775e-02</td>\n",
       "      <td>8.064379e-06</td>\n",
       "      <td>4.069842e-05</td>\n",
       "      <td>4.573187e-06</td>\n",
       "      <td>7.567154e-04</td>\n",
       "      <td>2.635859e-07</td>\n",
       "      <td>2.284267e-08</td>\n",
       "      <td>...</td>\n",
       "      <td>7.531757e-05</td>\n",
       "      <td>4.522862e-04</td>\n",
       "      <td>2.018061e-10</td>\n",
       "      <td>1.618952e-06</td>\n",
       "      <td>2.036379e-11</td>\n",
       "      <td>8.357099e-04</td>\n",
       "      <td>1.303299e-05</td>\n",
       "      <td>0.000002</td>\n",
       "      <td>9.012832e-08</td>\n",
       "      <td>2.567004e-06</td>\n",
       "    </tr>\n",
       "    <tr>\n",
       "      <th>3</th>\n",
       "      <td>2.363108e-11</td>\n",
       "      <td>9.906635e-12</td>\n",
       "      <td>5.041918e-05</td>\n",
       "      <td>2.220361e-08</td>\n",
       "      <td>4.019855e-13</td>\n",
       "      <td>3.908751e-08</td>\n",
       "      <td>8.717279e-09</td>\n",
       "      <td>2.336025e-09</td>\n",
       "      <td>3.671178e-14</td>\n",
       "      <td>8.151996e-11</td>\n",
       "      <td>...</td>\n",
       "      <td>2.012793e-12</td>\n",
       "      <td>4.554442e-09</td>\n",
       "      <td>1.571989e-10</td>\n",
       "      <td>6.285099e-09</td>\n",
       "      <td>1.756093e-11</td>\n",
       "      <td>1.692768e-08</td>\n",
       "      <td>8.471858e-10</td>\n",
       "      <td>0.000018</td>\n",
       "      <td>1.358183e-13</td>\n",
       "      <td>9.122680e-08</td>\n",
       "    </tr>\n",
       "    <tr>\n",
       "      <th>4</th>\n",
       "      <td>6.250920e-08</td>\n",
       "      <td>1.543173e-08</td>\n",
       "      <td>1.370129e-07</td>\n",
       "      <td>1.040106e-05</td>\n",
       "      <td>2.427466e-06</td>\n",
       "      <td>3.328168e-05</td>\n",
       "      <td>2.017411e-02</td>\n",
       "      <td>8.837302e-07</td>\n",
       "      <td>3.914915e-07</td>\n",
       "      <td>2.983417e-06</td>\n",
       "      <td>...</td>\n",
       "      <td>1.347071e-08</td>\n",
       "      <td>1.917926e-08</td>\n",
       "      <td>1.193813e-06</td>\n",
       "      <td>3.237655e-05</td>\n",
       "      <td>1.550425e-05</td>\n",
       "      <td>1.163014e-06</td>\n",
       "      <td>5.354658e-07</td>\n",
       "      <td>0.001888</td>\n",
       "      <td>1.137267e-06</td>\n",
       "      <td>7.938905e-04</td>\n",
       "    </tr>\n",
       "    <tr>\n",
       "      <th>...</th>\n",
       "      <td>...</td>\n",
       "      <td>...</td>\n",
       "      <td>...</td>\n",
       "      <td>...</td>\n",
       "      <td>...</td>\n",
       "      <td>...</td>\n",
       "      <td>...</td>\n",
       "      <td>...</td>\n",
       "      <td>...</td>\n",
       "      <td>...</td>\n",
       "      <td>...</td>\n",
       "      <td>...</td>\n",
       "      <td>...</td>\n",
       "      <td>...</td>\n",
       "      <td>...</td>\n",
       "      <td>...</td>\n",
       "      <td>...</td>\n",
       "      <td>...</td>\n",
       "      <td>...</td>\n",
       "      <td>...</td>\n",
       "      <td>...</td>\n",
       "    </tr>\n",
       "    <tr>\n",
       "      <th>193</th>\n",
       "      <td>3.107352e-05</td>\n",
       "      <td>1.212809e-08</td>\n",
       "      <td>6.296485e-05</td>\n",
       "      <td>7.283317e-10</td>\n",
       "      <td>1.449386e-06</td>\n",
       "      <td>3.954424e-05</td>\n",
       "      <td>5.511230e-09</td>\n",
       "      <td>1.859205e-06</td>\n",
       "      <td>1.340225e-06</td>\n",
       "      <td>2.917034e-08</td>\n",
       "      <td>...</td>\n",
       "      <td>1.884274e-07</td>\n",
       "      <td>6.766916e-05</td>\n",
       "      <td>1.784546e-08</td>\n",
       "      <td>1.016238e-03</td>\n",
       "      <td>1.425861e-03</td>\n",
       "      <td>4.969428e-07</td>\n",
       "      <td>2.946402e-08</td>\n",
       "      <td>0.000002</td>\n",
       "      <td>5.919747e-10</td>\n",
       "      <td>3.743088e-09</td>\n",
       "    </tr>\n",
       "    <tr>\n",
       "      <th>194</th>\n",
       "      <td>1.911065e-12</td>\n",
       "      <td>1.113039e-07</td>\n",
       "      <td>4.466636e-02</td>\n",
       "      <td>1.572681e-07</td>\n",
       "      <td>3.801975e-09</td>\n",
       "      <td>1.528821e-08</td>\n",
       "      <td>6.105598e-07</td>\n",
       "      <td>1.506685e-08</td>\n",
       "      <td>3.003729e-09</td>\n",
       "      <td>2.031064e-09</td>\n",
       "      <td>...</td>\n",
       "      <td>7.892239e-07</td>\n",
       "      <td>1.081651e-05</td>\n",
       "      <td>2.617415e-10</td>\n",
       "      <td>1.552259e-10</td>\n",
       "      <td>2.223265e-11</td>\n",
       "      <td>3.673599e-08</td>\n",
       "      <td>2.538894e-07</td>\n",
       "      <td>0.000640</td>\n",
       "      <td>1.678931e-06</td>\n",
       "      <td>2.020384e-10</td>\n",
       "    </tr>\n",
       "    <tr>\n",
       "      <th>195</th>\n",
       "      <td>7.710652e-08</td>\n",
       "      <td>7.109038e-08</td>\n",
       "      <td>2.839913e-07</td>\n",
       "      <td>2.953299e-05</td>\n",
       "      <td>2.073751e-06</td>\n",
       "      <td>7.860640e-06</td>\n",
       "      <td>2.222098e-03</td>\n",
       "      <td>1.132142e-05</td>\n",
       "      <td>5.547528e-06</td>\n",
       "      <td>9.671109e-07</td>\n",
       "      <td>...</td>\n",
       "      <td>5.172781e-07</td>\n",
       "      <td>2.841026e-07</td>\n",
       "      <td>3.060053e-06</td>\n",
       "      <td>7.812544e-05</td>\n",
       "      <td>1.840681e-05</td>\n",
       "      <td>1.261356e-05</td>\n",
       "      <td>1.976457e-05</td>\n",
       "      <td>0.001167</td>\n",
       "      <td>2.511423e-07</td>\n",
       "      <td>4.309977e-05</td>\n",
       "    </tr>\n",
       "    <tr>\n",
       "      <th>196</th>\n",
       "      <td>5.204957e-09</td>\n",
       "      <td>7.753018e-07</td>\n",
       "      <td>2.553672e-05</td>\n",
       "      <td>3.596426e-05</td>\n",
       "      <td>1.735830e-06</td>\n",
       "      <td>5.781416e-06</td>\n",
       "      <td>4.062958e-06</td>\n",
       "      <td>1.488643e-06</td>\n",
       "      <td>2.753313e-05</td>\n",
       "      <td>4.274084e-07</td>\n",
       "      <td>...</td>\n",
       "      <td>3.874499e-06</td>\n",
       "      <td>1.619287e-05</td>\n",
       "      <td>6.179380e-08</td>\n",
       "      <td>3.470926e-06</td>\n",
       "      <td>8.833998e-11</td>\n",
       "      <td>3.354872e-03</td>\n",
       "      <td>6.864417e-06</td>\n",
       "      <td>0.000017</td>\n",
       "      <td>2.407277e-07</td>\n",
       "      <td>1.578554e-05</td>\n",
       "    </tr>\n",
       "    <tr>\n",
       "      <th>197</th>\n",
       "      <td>1.114235e-04</td>\n",
       "      <td>3.169901e-06</td>\n",
       "      <td>4.133003e-07</td>\n",
       "      <td>4.195069e-08</td>\n",
       "      <td>1.252992e-05</td>\n",
       "      <td>9.728068e-04</td>\n",
       "      <td>5.271925e-05</td>\n",
       "      <td>3.143525e-05</td>\n",
       "      <td>6.838219e-05</td>\n",
       "      <td>2.188015e-04</td>\n",
       "      <td>...</td>\n",
       "      <td>9.544165e-05</td>\n",
       "      <td>9.407637e-07</td>\n",
       "      <td>8.497896e-06</td>\n",
       "      <td>1.990974e-04</td>\n",
       "      <td>6.875421e-04</td>\n",
       "      <td>7.110364e-07</td>\n",
       "      <td>2.950194e-05</td>\n",
       "      <td>0.000009</td>\n",
       "      <td>2.306647e-06</td>\n",
       "      <td>2.302673e-06</td>\n",
       "    </tr>\n",
       "  </tbody>\n",
       "</table>\n",
       "<p>198 rows × 99 columns</p>\n",
       "</div>\n",
       "      <button class=\"colab-df-convert\" onclick=\"convertToInteractive('df-a65e4cc0-bb60-4603-8658-02a511fc6c2b')\"\n",
       "              title=\"Convert this dataframe to an interactive table.\"\n",
       "              style=\"display:none;\">\n",
       "        \n",
       "  <svg xmlns=\"http://www.w3.org/2000/svg\" height=\"24px\"viewBox=\"0 0 24 24\"\n",
       "       width=\"24px\">\n",
       "    <path d=\"M0 0h24v24H0V0z\" fill=\"none\"/>\n",
       "    <path d=\"M18.56 5.44l.94 2.06.94-2.06 2.06-.94-2.06-.94-.94-2.06-.94 2.06-2.06.94zm-11 1L8.5 8.5l.94-2.06 2.06-.94-2.06-.94L8.5 2.5l-.94 2.06-2.06.94zm10 10l.94 2.06.94-2.06 2.06-.94-2.06-.94-.94-2.06-.94 2.06-2.06.94z\"/><path d=\"M17.41 7.96l-1.37-1.37c-.4-.4-.92-.59-1.43-.59-.52 0-1.04.2-1.43.59L10.3 9.45l-7.72 7.72c-.78.78-.78 2.05 0 2.83L4 21.41c.39.39.9.59 1.41.59.51 0 1.02-.2 1.41-.59l7.78-7.78 2.81-2.81c.8-.78.8-2.07 0-2.86zM5.41 20L4 18.59l7.72-7.72 1.47 1.35L5.41 20z\"/>\n",
       "  </svg>\n",
       "      </button>\n",
       "      \n",
       "  <style>\n",
       "    .colab-df-container {\n",
       "      display:flex;\n",
       "      flex-wrap:wrap;\n",
       "      gap: 12px;\n",
       "    }\n",
       "\n",
       "    .colab-df-convert {\n",
       "      background-color: #E8F0FE;\n",
       "      border: none;\n",
       "      border-radius: 50%;\n",
       "      cursor: pointer;\n",
       "      display: none;\n",
       "      fill: #1967D2;\n",
       "      height: 32px;\n",
       "      padding: 0 0 0 0;\n",
       "      width: 32px;\n",
       "    }\n",
       "\n",
       "    .colab-df-convert:hover {\n",
       "      background-color: #E2EBFA;\n",
       "      box-shadow: 0px 1px 2px rgba(60, 64, 67, 0.3), 0px 1px 3px 1px rgba(60, 64, 67, 0.15);\n",
       "      fill: #174EA6;\n",
       "    }\n",
       "\n",
       "    [theme=dark] .colab-df-convert {\n",
       "      background-color: #3B4455;\n",
       "      fill: #D2E3FC;\n",
       "    }\n",
       "\n",
       "    [theme=dark] .colab-df-convert:hover {\n",
       "      background-color: #434B5C;\n",
       "      box-shadow: 0px 1px 3px 1px rgba(0, 0, 0, 0.15);\n",
       "      filter: drop-shadow(0px 1px 2px rgba(0, 0, 0, 0.3));\n",
       "      fill: #FFFFFF;\n",
       "    }\n",
       "  </style>\n",
       "\n",
       "      <script>\n",
       "        const buttonEl =\n",
       "          document.querySelector('#df-a65e4cc0-bb60-4603-8658-02a511fc6c2b button.colab-df-convert');\n",
       "        buttonEl.style.display =\n",
       "          google.colab.kernel.accessAllowed ? 'block' : 'none';\n",
       "\n",
       "        async function convertToInteractive(key) {\n",
       "          const element = document.querySelector('#df-a65e4cc0-bb60-4603-8658-02a511fc6c2b');\n",
       "          const dataTable =\n",
       "            await google.colab.kernel.invokeFunction('convertToInteractive',\n",
       "                                                     [key], {});\n",
       "          if (!dataTable) return;\n",
       "\n",
       "          const docLinkHtml = 'Like what you see? Visit the ' +\n",
       "            '<a target=\"_blank\" href=https://colab.research.google.com/notebooks/data_table.ipynb>data table notebook</a>'\n",
       "            + ' to learn more about interactive tables.';\n",
       "          element.innerHTML = '';\n",
       "          dataTable['output_type'] = 'display_data';\n",
       "          await google.colab.output.renderOutput(dataTable, element);\n",
       "          const docLink = document.createElement('div');\n",
       "          docLink.innerHTML = docLinkHtml;\n",
       "          element.appendChild(docLink);\n",
       "        }\n",
       "      </script>\n",
       "    </div>\n",
       "  </div>\n",
       "  "
      ],
      "text/plain": [
       "     Acer_Capillipes  Acer_Circinatum     Acer_Mono   Acer_Opalus  \\\n",
       "0       1.639271e-09     4.324890e-09  9.973460e-01  1.698332e-05   \n",
       "1       1.292326e-06     9.662003e-04  6.061193e-03  4.479080e-06   \n",
       "2       5.425808e-08     4.493970e-07  1.260788e-02  1.022775e-02   \n",
       "3       2.363108e-11     9.906635e-12  5.041918e-05  2.220361e-08   \n",
       "4       6.250920e-08     1.543173e-08  1.370129e-07  1.040106e-05   \n",
       "..               ...              ...           ...           ...   \n",
       "193     3.107352e-05     1.212809e-08  6.296485e-05  7.283317e-10   \n",
       "194     1.911065e-12     1.113039e-07  4.466636e-02  1.572681e-07   \n",
       "195     7.710652e-08     7.109038e-08  2.839913e-07  2.953299e-05   \n",
       "196     5.204957e-09     7.753018e-07  2.553672e-05  3.596426e-05   \n",
       "197     1.114235e-04     3.169901e-06  4.133003e-07  4.195069e-08   \n",
       "\n",
       "     Acer_Palmatum   Acer_Pictum  Acer_Platanoids   Acer_Rubrum  \\\n",
       "0     9.899771e-09  7.499952e-06     6.922546e-07  6.624437e-08   \n",
       "1     1.307818e-04  8.420018e-04     2.100119e-05  1.156556e-04   \n",
       "2     8.064379e-06  4.069842e-05     4.573187e-06  7.567154e-04   \n",
       "3     4.019855e-13  3.908751e-08     8.717279e-09  2.336025e-09   \n",
       "4     2.427466e-06  3.328168e-05     2.017411e-02  8.837302e-07   \n",
       "..             ...           ...              ...           ...   \n",
       "193   1.449386e-06  3.954424e-05     5.511230e-09  1.859205e-06   \n",
       "194   3.801975e-09  1.528821e-08     6.105598e-07  1.506685e-08   \n",
       "195   2.073751e-06  7.860640e-06     2.222098e-03  1.132142e-05   \n",
       "196   1.735830e-06  5.781416e-06     4.062958e-06  1.488643e-06   \n",
       "197   1.252992e-05  9.728068e-04     5.271925e-05  3.143525e-05   \n",
       "\n",
       "     Acer_Rufinerve  Acer_Saccharinum  ...  Salix_Fragilis  Salix_Intergra  \\\n",
       "0      3.937437e-09      1.552242e-08  ...    2.299195e-06    2.568516e-06   \n",
       "1      1.773871e-05      1.879918e-06  ...    8.318933e-05    1.472350e-05   \n",
       "2      2.635859e-07      2.284267e-08  ...    7.531757e-05    4.522862e-04   \n",
       "3      3.671178e-14      8.151996e-11  ...    2.012793e-12    4.554442e-09   \n",
       "4      3.914915e-07      2.983417e-06  ...    1.347071e-08    1.917926e-08   \n",
       "..              ...               ...  ...             ...             ...   \n",
       "193    1.340225e-06      2.917034e-08  ...    1.884274e-07    6.766916e-05   \n",
       "194    3.003729e-09      2.031064e-09  ...    7.892239e-07    1.081651e-05   \n",
       "195    5.547528e-06      9.671109e-07  ...    5.172781e-07    2.841026e-07   \n",
       "196    2.753313e-05      4.274084e-07  ...    3.874499e-06    1.619287e-05   \n",
       "197    6.838219e-05      2.188015e-04  ...    9.544165e-05    9.407637e-07   \n",
       "\n",
       "      Sorbus_Aria  Tilia_Oliveri  Tilia_Platyphyllos  Tilia_Tomentosa  \\\n",
       "0    2.705732e-11   1.210841e-09        1.208152e-11     2.590366e-07   \n",
       "1    8.670868e-06   1.650948e-06        6.659886e-06     1.096645e-04   \n",
       "2    2.018061e-10   1.618952e-06        2.036379e-11     8.357099e-04   \n",
       "3    1.571989e-10   6.285099e-09        1.756093e-11     1.692768e-08   \n",
       "4    1.193813e-06   3.237655e-05        1.550425e-05     1.163014e-06   \n",
       "..            ...            ...                 ...              ...   \n",
       "193  1.784546e-08   1.016238e-03        1.425861e-03     4.969428e-07   \n",
       "194  2.617415e-10   1.552259e-10        2.223265e-11     3.673599e-08   \n",
       "195  3.060053e-06   7.812544e-05        1.840681e-05     1.261356e-05   \n",
       "196  6.179380e-08   3.470926e-06        8.833998e-11     3.354872e-03   \n",
       "197  8.497896e-06   1.990974e-04        6.875421e-04     7.110364e-07   \n",
       "\n",
       "     Ulmus_Bergmanniana  Viburnum_Tinus  Viburnum_x_Rhytidophylloides  \\\n",
       "0          2.057193e-06        0.000140                  6.008478e-09   \n",
       "1          1.065419e-04        0.000160                  1.069793e-04   \n",
       "2          1.303299e-05        0.000002                  9.012832e-08   \n",
       "3          8.471858e-10        0.000018                  1.358183e-13   \n",
       "4          5.354658e-07        0.001888                  1.137267e-06   \n",
       "..                  ...             ...                           ...   \n",
       "193        2.946402e-08        0.000002                  5.919747e-10   \n",
       "194        2.538894e-07        0.000640                  1.678931e-06   \n",
       "195        1.976457e-05        0.001167                  2.511423e-07   \n",
       "196        6.864417e-06        0.000017                  2.407277e-07   \n",
       "197        2.950194e-05        0.000009                  2.306647e-06   \n",
       "\n",
       "     Zelkova_Serrata  \n",
       "0       6.815575e-10  \n",
       "1       6.602821e-05  \n",
       "2       2.567004e-06  \n",
       "3       9.122680e-08  \n",
       "4       7.938905e-04  \n",
       "..               ...  \n",
       "193     3.743088e-09  \n",
       "194     2.020384e-10  \n",
       "195     4.309977e-05  \n",
       "196     1.578554e-05  \n",
       "197     2.302673e-06  \n",
       "\n",
       "[198 rows x 99 columns]"
      ]
     },
     "execution_count": 90,
     "metadata": {},
     "output_type": "execute_result"
    }
   ],
   "source": [
    "yPred"
   ]
  },
  {
   "cell_type": "code",
   "execution_count": 91,
   "metadata": {
    "colab": {
     "base_uri": "https://localhost:8080/"
    },
    "id": "OuV6hzi1YfJe",
    "outputId": "fc3ac2cf-dbe0-4582-cad9-637dd74c3ee8"
   },
   "outputs": [
    {
     "name": "stdout",
     "output_type": "stream",
     "text": [
      "7/7 [==============================] - 2s 326ms/step - loss: 0.1783 - accuracy: 0.9798\n",
      "Test loss: 17.826752364635468%\n",
      "Test score: 97.97979593276978%\n",
      "MLP Error: 2.02%\n"
     ]
    }
   ],
   "source": [
    "# Evaluate model accuracy, loss and error for model 3.\n",
    "score = model3.evaluate([val_img, features_val], val_target)\n",
    "print('Test loss: {}%'.format(score[0] * 100))\n",
    "print('Test score: {}%'.format(score[1] * 100))\n",
    "\n",
    "print(\"MLP Error: %.2f%%\" % (100 - score[1] * 100))"
   ]
  },
  {
   "cell_type": "code",
   "execution_count": 92,
   "metadata": {
    "colab": {
     "base_uri": "https://localhost:8080/",
     "height": 175
    },
    "id": "rcTNAFDBZB6S",
    "outputId": "3d2cca5c-7646-40ef-b269-c89c7475f438"
   },
   "outputs": [
    {
     "data": {
      "text/html": [
       "\n",
       "  <div id=\"df-e1a7a7b3-a0da-4e50-8475-8ef3b8daf09f\">\n",
       "    <div class=\"colab-df-container\">\n",
       "      <div>\n",
       "<style scoped>\n",
       "    .dataframe tbody tr th:only-of-type {\n",
       "        vertical-align: middle;\n",
       "    }\n",
       "\n",
       "    .dataframe tbody tr th {\n",
       "        vertical-align: top;\n",
       "    }\n",
       "\n",
       "    .dataframe thead th {\n",
       "        text-align: right;\n",
       "    }\n",
       "</style>\n",
       "<table border=\"1\" class=\"dataframe\">\n",
       "  <thead>\n",
       "    <tr style=\"text-align: right;\">\n",
       "      <th></th>\n",
       "      <th>Time</th>\n",
       "      <th>Train-loss</th>\n",
       "      <th>Train-accuracy</th>\n",
       "      <th>Test-loss</th>\n",
       "      <th>Test-Accuracy</th>\n",
       "    </tr>\n",
       "    <tr>\n",
       "      <th>Model</th>\n",
       "      <th></th>\n",
       "      <th></th>\n",
       "      <th></th>\n",
       "      <th></th>\n",
       "      <th></th>\n",
       "    </tr>\n",
       "  </thead>\n",
       "  <tbody>\n",
       "    <tr>\n",
       "      <th>CNN Model 2 (Combined Features)</th>\n",
       "      <td>0 days 01:09:25.501454</td>\n",
       "      <td>0.000410</td>\n",
       "      <td>1.000000</td>\n",
       "      <td>0.174313</td>\n",
       "      <td>0.954545</td>\n",
       "    </tr>\n",
       "    <tr>\n",
       "      <th>CNN Model 3 (Combined augmented features)</th>\n",
       "      <td>0 days 00:17:33.164543</td>\n",
       "      <td>0.046085</td>\n",
       "      <td>0.998737</td>\n",
       "      <td>0.178268</td>\n",
       "      <td>0.979798</td>\n",
       "    </tr>\n",
       "    <tr>\n",
       "      <th>CNN Model 1 (pre-processed features)</th>\n",
       "      <td>0 days 00:31:27.544520</td>\n",
       "      <td>3.399639</td>\n",
       "      <td>0.337662</td>\n",
       "      <td>5.262435</td>\n",
       "      <td>0.158249</td>\n",
       "    </tr>\n",
       "  </tbody>\n",
       "</table>\n",
       "</div>\n",
       "      <button class=\"colab-df-convert\" onclick=\"convertToInteractive('df-e1a7a7b3-a0da-4e50-8475-8ef3b8daf09f')\"\n",
       "              title=\"Convert this dataframe to an interactive table.\"\n",
       "              style=\"display:none;\">\n",
       "        \n",
       "  <svg xmlns=\"http://www.w3.org/2000/svg\" height=\"24px\"viewBox=\"0 0 24 24\"\n",
       "       width=\"24px\">\n",
       "    <path d=\"M0 0h24v24H0V0z\" fill=\"none\"/>\n",
       "    <path d=\"M18.56 5.44l.94 2.06.94-2.06 2.06-.94-2.06-.94-.94-2.06-.94 2.06-2.06.94zm-11 1L8.5 8.5l.94-2.06 2.06-.94-2.06-.94L8.5 2.5l-.94 2.06-2.06.94zm10 10l.94 2.06.94-2.06 2.06-.94-2.06-.94-.94-2.06-.94 2.06-2.06.94z\"/><path d=\"M17.41 7.96l-1.37-1.37c-.4-.4-.92-.59-1.43-.59-.52 0-1.04.2-1.43.59L10.3 9.45l-7.72 7.72c-.78.78-.78 2.05 0 2.83L4 21.41c.39.39.9.59 1.41.59.51 0 1.02-.2 1.41-.59l7.78-7.78 2.81-2.81c.8-.78.8-2.07 0-2.86zM5.41 20L4 18.59l7.72-7.72 1.47 1.35L5.41 20z\"/>\n",
       "  </svg>\n",
       "      </button>\n",
       "      \n",
       "  <style>\n",
       "    .colab-df-container {\n",
       "      display:flex;\n",
       "      flex-wrap:wrap;\n",
       "      gap: 12px;\n",
       "    }\n",
       "\n",
       "    .colab-df-convert {\n",
       "      background-color: #E8F0FE;\n",
       "      border: none;\n",
       "      border-radius: 50%;\n",
       "      cursor: pointer;\n",
       "      display: none;\n",
       "      fill: #1967D2;\n",
       "      height: 32px;\n",
       "      padding: 0 0 0 0;\n",
       "      width: 32px;\n",
       "    }\n",
       "\n",
       "    .colab-df-convert:hover {\n",
       "      background-color: #E2EBFA;\n",
       "      box-shadow: 0px 1px 2px rgba(60, 64, 67, 0.3), 0px 1px 3px 1px rgba(60, 64, 67, 0.15);\n",
       "      fill: #174EA6;\n",
       "    }\n",
       "\n",
       "    [theme=dark] .colab-df-convert {\n",
       "      background-color: #3B4455;\n",
       "      fill: #D2E3FC;\n",
       "    }\n",
       "\n",
       "    [theme=dark] .colab-df-convert:hover {\n",
       "      background-color: #434B5C;\n",
       "      box-shadow: 0px 1px 3px 1px rgba(0, 0, 0, 0.15);\n",
       "      filter: drop-shadow(0px 1px 2px rgba(0, 0, 0, 0.3));\n",
       "      fill: #FFFFFF;\n",
       "    }\n",
       "  </style>\n",
       "\n",
       "      <script>\n",
       "        const buttonEl =\n",
       "          document.querySelector('#df-e1a7a7b3-a0da-4e50-8475-8ef3b8daf09f button.colab-df-convert');\n",
       "        buttonEl.style.display =\n",
       "          google.colab.kernel.accessAllowed ? 'block' : 'none';\n",
       "\n",
       "        async function convertToInteractive(key) {\n",
       "          const element = document.querySelector('#df-e1a7a7b3-a0da-4e50-8475-8ef3b8daf09f');\n",
       "          const dataTable =\n",
       "            await google.colab.kernel.invokeFunction('convertToInteractive',\n",
       "                                                     [key], {});\n",
       "          if (!dataTable) return;\n",
       "\n",
       "          const docLinkHtml = 'Like what you see? Visit the ' +\n",
       "            '<a target=\"_blank\" href=https://colab.research.google.com/notebooks/data_table.ipynb>data table notebook</a>'\n",
       "            + ' to learn more about interactive tables.';\n",
       "          element.innerHTML = '';\n",
       "          dataTable['output_type'] = 'display_data';\n",
       "          await google.colab.output.renderOutput(dataTable, element);\n",
       "          const docLink = document.createElement('div');\n",
       "          docLink.innerHTML = docLinkHtml;\n",
       "          element.appendChild(docLink);\n",
       "        }\n",
       "      </script>\n",
       "    </div>\n",
       "  </div>\n",
       "  "
      ],
      "text/plain": [
       "                                                            Time  Train-loss  \\\n",
       "Model                                                                          \n",
       "CNN Model 2 (Combined Features)           0 days 01:09:25.501454    0.000410   \n",
       "CNN Model 3 (Combined augmented features) 0 days 00:17:33.164543    0.046085   \n",
       "CNN Model 1 (pre-processed features)      0 days 00:31:27.544520    3.399639   \n",
       "\n",
       "                                           Train-accuracy  Test-loss  \\\n",
       "Model                                                                  \n",
       "CNN Model 2 (Combined Features)                  1.000000   0.174313   \n",
       "CNN Model 3 (Combined augmented features)        0.998737   0.178268   \n",
       "CNN Model 1 (pre-processed features)             0.337662   5.262435   \n",
       "\n",
       "                                           Test-Accuracy  \n",
       "Model                                                     \n",
       "CNN Model 2 (Combined Features)                 0.954545  \n",
       "CNN Model 3 (Combined augmented features)       0.979798  \n",
       "CNN Model 1 (pre-processed features)            0.158249  "
      ]
     },
     "execution_count": 92,
     "metadata": {},
     "output_type": "execute_result"
    }
   ],
   "source": [
    "#model summary sorted by validation loss.\n",
    "results.set_index(\"Model\", drop = True, inplace = True)\n",
    "results.sort_values(by=['Test-loss'], ascending= True)"
   ]
  },
  {
   "cell_type": "code",
   "execution_count": 93,
   "metadata": {
    "colab": {
     "base_uri": "https://localhost:8080/",
     "height": 647
    },
    "id": "FJLX1Ddvx0GK",
    "outputId": "e5af7aa2-1da5-492b-e649-c5328f522145"
   },
   "outputs": [
    {
     "data": {
      "text/plain": [
       "<matplotlib.axes._subplots.AxesSubplot at 0x7f28ed04c890>"
      ]
     },
     "execution_count": 93,
     "metadata": {},
     "output_type": "execute_result"
    },
    {
     "data": {
      "text/plain": [
       "(array([0, 1, 2]), <a list of 3 Text major ticklabel objects>)"
      ]
     },
     "execution_count": 93,
     "metadata": {},
     "output_type": "execute_result"
    },
    {
     "data": {
      "image/png": "[encoded data removed]",
      "text/plain": [
       "<Figure size 1080x720 with 1 Axes>"
      ]
     },
     "metadata": {
      "needs_background": "light"
     },
     "output_type": "display_data"
    }
   ],
   "source": [
    "#visualize model results based on test and train loss and accuracy\n",
    "results[['Train-loss','Train-accuracy', 'Test-loss', 'Test-Accuracy']].plot(kind='bar', title =\"Model Evaluation\", figsize=(15, 10))\n",
    "plt.xticks(rotation='horizontal')"
   ]
  },
  {
   "cell_type": "markdown",
   "metadata": {
    "id": "S6ZGCbyuZNSI"
   },
   "source": [
    "#### Submission (Evaluate the model on test set) for Kaggle"
   ]
  },
  {
   "cell_type": "code",
   "execution_count": 94,
   "metadata": {
    "id": "3dt-ghgNzrD6"
   },
   "outputs": [],
   "source": [
    "#Ids to act as an index for submission dataframe\n",
    "testIds = df_test.pop('id')\n",
    "# standardize the data by setting the mean to 0 and std to 1\n",
    "features_test = StandardScaler().fit(df_test).transform(df_test)"
   ]
  },
  {
   "cell_type": "code",
   "execution_count": 95,
   "metadata": {
    "colab": {
     "base_uri": "https://localhost:8080/"
    },
    "id": "LlcYFZxqyZGO",
    "outputId": "0458c1a9-79e5-4e9f-9363-d4239f8bf234"
   },
   "outputs": [
    {
     "name": "stdout",
     "output_type": "stream",
     "text": [
      "Test predictions...\n"
     ]
    }
   ],
   "source": [
    "print('Test predictions...')\n",
    "#model 3 prediction\n",
    "preds = model3.predict([test_images,features_test])\n",
    "\n",
    "# dataframe based on id as index and different species as columns which can be read from labelencoder classes.\n",
    "submission = pd.DataFrame(preds,index=testIds,columns=le.classes_)\n",
    "\n",
    "#save submission results to csv\n",
    "submission.to_csv('Leaf_Keras_CNN_imagegen.csv')"
   ]
  },
  {
   "cell_type": "code",
   "execution_count": 96,
   "metadata": {
    "colab": {
     "base_uri": "https://localhost:8080/"
    },
    "id": "dK-etZ652oI7",
    "outputId": "b54cf23a-3b74-4644-d233-733aef343b33"
   },
   "outputs": [
    {
     "name": "stdout",
     "output_type": "stream",
     "text": [
      "Test Model 1 predictions...\n"
     ]
    }
   ],
   "source": [
    "print('Test Model 1 predictions...')\n",
    "#model 1 prediction\n",
    "preds = model1.predict(test_images)\n",
    "# dataframe based on id as index and different species as columns which can be read from labelencoder classes.\n",
    "submission = pd.DataFrame(preds,index=testIds,columns=le.classes_)\n",
    "#save submission results to csv\n",
    "submission.to_csv('Leaf_Keras_CNN_preextracted_features.csv')"
   ]
  },
  {
   "cell_type": "code",
   "execution_count": 97,
   "metadata": {
    "colab": {
     "base_uri": "https://localhost:8080/"
    },
    "id": "t5myB5tT24Ra",
    "outputId": "d53a415b-e9db-4881-858c-eabd0ea5030f"
   },
   "outputs": [
    {
     "name": "stdout",
     "output_type": "stream",
     "text": [
      "Test Model 2 predictions...\n"
     ]
    }
   ],
   "source": [
    "print('Test Model 2 predictions...')\n",
    "#model 2 prediction\n",
    "preds = model2.predict([test_images,features_test])\n",
    "# dataframe based on id as index and different species as columns which can be read from labelencoder classes.\n",
    "submission = pd.DataFrame(preds,index=testIds,columns=le.classes_)\n",
    "#save submission results to csv\n",
    "submission.to_csv('Leaf_Keras_CNN_combined_features.csv')"
   ]
  },
  {
   "cell_type": "code",
   "execution_count": 98,
   "metadata": {
    "id": "DSZFAicovFWq"
   },
   "outputs": [],
   "source": [
    "###### test out additional architectures/changing parameters."
   ]
  },
  {
   "cell_type": "code",
   "execution_count": 110,
   "metadata": {
    "id": "BM7IAjAi_bwf"
   },
   "outputs": [],
   "source": [
    "#CNN Model with one input i.e. preprocessed images.\n",
    "def generateModel4():\n",
    "    #input layer - note the 1 is because of greyscaling, it would be a 3 if colored images were being used\n",
    "    input_layer = keras.layers.Input(shape = (img_rows, img_cols, 1))\n",
    "    \n",
    "    filterSize = 32\n",
    "    conv1 = keras.layers.Conv2D(filterSize, (3,3), strides=(1,1), padding='valid')(input_layer)\n",
    "    conv1 = keras.layers.BatchNormalization()(conv1)\n",
    "    conv1 = keras.layers.Activation(\"relu\")(conv1)\n",
    "    conv1 = keras.layers.Conv2D(filterSize, (3,3), strides=(1,1), padding='valid')(conv1)\n",
    "    conv1 = keras.layers.BatchNormalization()(conv1)\n",
    "    conv1 = keras.layers.Activation(\"relu\")(conv1)\n",
    "\n",
    "    maxPool1 = keras.layers.MaxPooling2D(pool_size=(3,3), strides=(2,2), padding='valid')(conv1)\n",
    "\n",
    "    filterSize = 32\n",
    "    conv2 = keras.layers.Conv2D(filterSize, (3,3), strides=(1,1), padding='valid')(maxPool1)\n",
    "    conv2 = keras.layers.BatchNormalization()(conv1)\n",
    "    conv2 = keras.layers.Activation(\"relu\")(conv1)\n",
    "    conv2 = keras.layers.Conv2D(filterSize, (3,3), strides=(1,1), padding='valid')(conv2)\n",
    "    conv2 = keras.layers.BatchNormalization()(conv2)\n",
    "    conv2 = keras.layers.Activation(\"relu\")(conv2)\n",
    "\n",
    "    maxPool2 = keras.layers.MaxPooling2D(pool_size=(3,3), strides=(2,2), padding='valid')(conv2)\n",
    "    \n",
    "    filterSize = 64\n",
    "    conv3 = keras.layers.Conv2D(filterSize, (5,5), strides=(1,1), padding='valid')(maxPool2)\n",
    "    conv3 = keras.layers.BatchNormalization()(conv3)\n",
    "    conv3 = keras.layers.Activation(\"relu\")(conv3)\n",
    "    conv3 = keras.layers.Conv2D(filterSize, (5,5), strides=(1,1), padding='valid')(conv3)\n",
    "    conv3 = keras.layers.BatchNormalization()(conv3)\n",
    "    conv3 = keras.layers.Activation(\"relu\")(conv3)\n",
    "    \n",
    "    maxPool3 = keras.layers.MaxPooling2D(pool_size=(5,5), strides=(2,2), padding='valid')(conv3)\n",
    "    \n",
    "    filterSize = 128\n",
    "    conv4 = keras.layers.Conv2D(filterSize, (7,7), strides=(1,1), padding='valid')(maxPool3)\n",
    "    conv4 = keras.layers.BatchNormalization()(conv3)\n",
    "    conv4 = keras.layers.Activation(\"relu\")(conv3)\n",
    "    conv4 = keras.layers.Conv2D(filterSize, (7,7), strides=(1,1), padding='valid')(maxPool3)\n",
    "    conv4 = keras.layers.BatchNormalization()(conv3)\n",
    "    conv4 = keras.layers.Activation(\"relu\")(conv3)\n",
    "    \n",
    "    outputStem = keras.layers.AveragePooling2D(pool_size=(7,7), strides=(1,1), padding='valid')(conv4)\n",
    "    outputStem = keras.layers.Flatten()(outputStem)\n",
    "    \n",
    "    #Note that the final layer is always dense, and because this is a categorization problem, the activation function is\n",
    "    #softmax\n",
    "    outputStem = keras.layers.Dense(nb_classes, activation='softmax')(outputStem)\n",
    "    \n",
    "    #This final step is specific to the Keras API method, where the tensor representation is converted to a model\n",
    "    model = keras.Model(inputs = input_layer, outputs = outputStem)\n",
    "    return model"
   ]
  },
  {
   "cell_type": "code",
   "execution_count": 111,
   "metadata": {
    "colab": {
     "base_uri": "https://localhost:8080/"
    },
    "id": "jdINoFD4BS3Y",
    "outputId": "4a18b1f6-a20d-4e00-c900-5be6bf6c8224"
   },
   "outputs": [
    {
     "name": "stdout",
     "output_type": "stream",
     "text": [
      "Model: \"model_5\"\n",
      "_________________________________________________________________\n",
      " Layer (type)                Output Shape              Param #   \n",
      "=================================================================\n",
      " input_7 (InputLayer)        [(None, 64, 64, 1)]       0         \n",
      "                                                                 \n",
      " conv2d_20 (Conv2D)          (None, 62, 62, 32)        320       \n",
      "                                                                 \n",
      " batch_normalization_12 (Bat  (None, 62, 62, 32)       128       \n",
      " chNormalization)                                                \n",
      "                                                                 \n",
      " activation_12 (Activation)  (None, 62, 62, 32)        0         \n",
      "                                                                 \n",
      " conv2d_21 (Conv2D)          (None, 60, 60, 32)        9248      \n",
      "                                                                 \n",
      " batch_normalization_13 (Bat  (None, 60, 60, 32)       128       \n",
      " chNormalization)                                                \n",
      "                                                                 \n",
      " activation_13 (Activation)  (None, 60, 60, 32)        0         \n",
      "                                                                 \n",
      " activation_14 (Activation)  (None, 60, 60, 32)        0         \n",
      "                                                                 \n",
      " conv2d_23 (Conv2D)          (None, 58, 58, 32)        9248      \n",
      "                                                                 \n",
      " batch_normalization_15 (Bat  (None, 58, 58, 32)       128       \n",
      " chNormalization)                                                \n",
      "                                                                 \n",
      " activation_15 (Activation)  (None, 58, 58, 32)        0         \n",
      "                                                                 \n",
      " max_pooling2d_8 (MaxPooling  (None, 28, 28, 32)       0         \n",
      " 2D)                                                             \n",
      "                                                                 \n",
      " conv2d_24 (Conv2D)          (None, 24, 24, 64)        51264     \n",
      "                                                                 \n",
      " batch_normalization_16 (Bat  (None, 24, 24, 64)       256       \n",
      " chNormalization)                                                \n",
      "                                                                 \n",
      " activation_16 (Activation)  (None, 24, 24, 64)        0         \n",
      "                                                                 \n",
      " conv2d_25 (Conv2D)          (None, 20, 20, 64)        102464    \n",
      "                                                                 \n",
      " batch_normalization_17 (Bat  (None, 20, 20, 64)       256       \n",
      " chNormalization)                                                \n",
      "                                                                 \n",
      " activation_17 (Activation)  (None, 20, 20, 64)        0         \n",
      "                                                                 \n",
      " activation_19 (Activation)  (None, 20, 20, 64)        0         \n",
      "                                                                 \n",
      " average_pooling2d_2 (Averag  (None, 14, 14, 64)       0         \n",
      " ePooling2D)                                                     \n",
      "                                                                 \n",
      " flatten_8 (Flatten)         (None, 12544)             0         \n",
      "                                                                 \n",
      " dense_11 (Dense)            (None, 99)                1241955   \n",
      "                                                                 \n",
      "=================================================================\n",
      "Total params: 1,415,395\n",
      "Trainable params: 1,414,947\n",
      "Non-trainable params: 448\n",
      "_________________________________________________________________\n",
      "None\n"
     ]
    }
   ],
   "source": [
    "model4 = generateModel4()\n",
    "print(model4.summary())"
   ]
  },
  {
   "cell_type": "code",
   "execution_count": 113,
   "metadata": {
    "id": "tEZqjPxSFxJV"
   },
   "outputs": [],
   "source": [
    "#Reset Log Directory for tensorslow\n",
    "run_logdir = get_run_logdir()\n",
    "tensorboard_cb = keras.callbacks.TensorBoard(run_logdir)\n",
    "checkpoint_cb = keras.callbacks.ModelCheckpoint(work_dir+\"tmp/my_keras_model.h6\", save_best_only=True)\n",
    "early_stopping_cb=keras.callbacks.EarlyStopping(monitor='loss', mode ='min', min_delta=1, patience=10)"
   ]
  },
  {
   "cell_type": "code",
   "execution_count": 117,
   "metadata": {
    "colab": {
     "base_uri": "https://localhost:8080/"
    },
    "id": "YdJw6adDEwVP",
    "outputId": "7def3017-6729-4335-818b-d9413090d3e8"
   },
   "outputs": [
    {
     "name": "stdout",
     "output_type": "stream",
     "text": [
      "Epoch 1/5\n",
      "347/346 [==============================] - ETA: 0s - loss: 4.0177 - accuracy: 0.1528INFO:tensorflow:Assets written to: /content/gdrive/My Drive/Assignment6 /tmp/my_keras_model.h6/assets\n",
      "346/346 [==============================] - 402s 1s/step - loss: 4.0177 - accuracy: 0.1528 - val_loss: 4.3786 - val_accuracy: 0.0741\n",
      "Epoch 2/5\n",
      "346/346 [==============================] - 372s 1s/step - loss: 3.3726 - accuracy: 0.2595 - val_loss: 5.0428 - val_accuracy: 0.1279\n",
      "Epoch 3/5\n",
      "346/346 [==============================] - 369s 1s/step - loss: 3.2590 - accuracy: 0.2876 - val_loss: 5.8853 - val_accuracy: 0.1313\n",
      "Epoch 4/5\n",
      "346/346 [==============================] - 371s 1s/step - loss: 3.1620 - accuracy: 0.3101 - val_loss: 5.2817 - val_accuracy: 0.1717\n",
      "Epoch 5/5\n",
      "346/346 [==============================] - 368s 1s/step - loss: 3.1485 - accuracy: 0.3163 - val_loss: 5.6330 - val_accuracy: 0.1549\n",
      "10/10 [==============================] - 2s 222ms/step - loss: 5.6330 - accuracy: 0.1549\n",
      "Final loss: 5.633009, final accuracy: 15.488215 for model4\n",
      "Model 4 with pre processed image training time in seconds 0:31:25.849646\n"
     ]
    }
   ],
   "source": [
    "learningRate = .001\n",
    "epochs = 10\n",
    "n_extension = 10\n",
    "batchSize = 32\n",
    "steps_per_epoch = X_train.shape[0]/2\n",
    "start = timer()\n",
    "\n",
    "#model 4 with pre processed images\n",
    "model4.compile(keras.optimizers.Adam(lr=learningRate),metrics=[\"accuracy\"],loss=\"categorical_crossentropy\")\n",
    "history4 = model4.fit(imageGenerator(X_train, y_train, batchSize), validation_data=(X_val, y_val), epochs= 5, \n",
    "                    steps_per_epoch=steps_per_epoch, callbacks=[checkpoint_cb, tensorboard_cb, early_stopping_cb])\n",
    "\n",
    "#final validation loss and accuracy\n",
    "final_loss4, final_acc4= model4.evaluate(X_val, y_val, verbose=1)\n",
    "end = timer()\n",
    "#total time taken by model1\n",
    "elapsed_time4 = timedelta(seconds=end-start)\n",
    "print(\"Final loss: {0:.6f}, final accuracy: {1:.6f} for model4\".format(final_loss4, final_acc4*100))\n",
    "print(\"Model 4 with pre processed image training time in seconds\", elapsed_time4)"
   ]
  },
  {
   "cell_type": "code",
   "execution_count": 118,
   "metadata": {
    "colab": {
     "base_uri": "https://localhost:8080/",
     "height": 520
    },
    "id": "8KOPuPrqHMJd",
    "outputId": "1e716158-ef81-4797-8efb-2ca0b5c1ec5c"
   },
   "outputs": [
    {
     "data": {
      "image/png": "[encoded data removed]",
      "text/plain": [
       "<Figure size 1440x576 with 2 Axes>"
      ]
     },
     "metadata": {
      "needs_background": "light"
     },
     "output_type": "display_data"
    }
   ],
   "source": [
    "# Visualize learning curve for model 4 with pre processed images.\n",
    "draw_learning_curve(history4)"
   ]
  },
  {
   "cell_type": "markdown",
   "metadata": {
    "id": "h5Wn6lLJPesl"
   },
   "source": [
    "\n",
    "Through each Epoch, the train set has a higher accuracy and lower loss in comparison to the test set. "
   ]
  },
  {
   "cell_type": "code",
   "execution_count": 119,
   "metadata": {
    "colab": {
     "base_uri": "https://localhost:8080/"
    },
    "id": "hmp0HOEpExBI",
    "outputId": "b8eef414-373d-45b8-c6a0-d82cd759b631"
   },
   "outputs": [
    {
     "name": "stdout",
     "output_type": "stream",
     "text": [
      "22/22 [==============================] - 5s 234ms/step - loss: 3.5786 - accuracy: 0.3319\n"
     ]
    }
   ],
   "source": [
    "\n",
    "#model 4 summarized results\n",
    "train_loss4, train_acc4 = model4.evaluate(X_train, y_train)\n",
    "Model4 = \"CNN Model 4\"\n",
    "results = pd.DataFrame(columns = ['Model', 'Time', 'Train-loss', 'Train-accuracy', 'Test-loss', 'Test-Accuracy'])\n",
    "row4 = [Model4, elapsed_time4, train_loss4, train_acc4, final_loss4, final_acc4]\n",
    "results = results.append(pd.DataFrame([row4], columns=results.columns), ignore_index=True)"
   ]
  },
  {
   "cell_type": "code",
   "execution_count": 120,
   "metadata": {
    "colab": {
     "base_uri": "https://localhost:8080/",
     "height": 81
    },
    "id": "w9jsXSiOJVUD",
    "outputId": "4f30560b-3bd9-4038-f226-421e5553fcd7"
   },
   "outputs": [
    {
     "data": {
      "text/html": [
       "\n",
       "  <div id=\"df-796a2d79-c623-42c9-a76c-c0d169f2a61a\">\n",
       "    <div class=\"colab-df-container\">\n",
       "      <div>\n",
       "<style scoped>\n",
       "    .dataframe tbody tr th:only-of-type {\n",
       "        vertical-align: middle;\n",
       "    }\n",
       "\n",
       "    .dataframe tbody tr th {\n",
       "        vertical-align: top;\n",
       "    }\n",
       "\n",
       "    .dataframe thead th {\n",
       "        text-align: right;\n",
       "    }\n",
       "</style>\n",
       "<table border=\"1\" class=\"dataframe\">\n",
       "  <thead>\n",
       "    <tr style=\"text-align: right;\">\n",
       "      <th></th>\n",
       "      <th>Model</th>\n",
       "      <th>Time</th>\n",
       "      <th>Train-loss</th>\n",
       "      <th>Train-accuracy</th>\n",
       "      <th>Test-loss</th>\n",
       "      <th>Test-Accuracy</th>\n",
       "    </tr>\n",
       "  </thead>\n",
       "  <tbody>\n",
       "    <tr>\n",
       "      <th>0</th>\n",
       "      <td>CNN Model 4</td>\n",
       "      <td>0 days 00:31:25.849646</td>\n",
       "      <td>3.578607</td>\n",
       "      <td>0.33189</td>\n",
       "      <td>5.633009</td>\n",
       "      <td>0.154882</td>\n",
       "    </tr>\n",
       "  </tbody>\n",
       "</table>\n",
       "</div>\n",
       "      <button class=\"colab-df-convert\" onclick=\"convertToInteractive('df-796a2d79-c623-42c9-a76c-c0d169f2a61a')\"\n",
       "              title=\"Convert this dataframe to an interactive table.\"\n",
       "              style=\"display:none;\">\n",
       "        \n",
       "  <svg xmlns=\"http://www.w3.org/2000/svg\" height=\"24px\"viewBox=\"0 0 24 24\"\n",
       "       width=\"24px\">\n",
       "    <path d=\"M0 0h24v24H0V0z\" fill=\"none\"/>\n",
       "    <path d=\"M18.56 5.44l.94 2.06.94-2.06 2.06-.94-2.06-.94-.94-2.06-.94 2.06-2.06.94zm-11 1L8.5 8.5l.94-2.06 2.06-.94-2.06-.94L8.5 2.5l-.94 2.06-2.06.94zm10 10l.94 2.06.94-2.06 2.06-.94-2.06-.94-.94-2.06-.94 2.06-2.06.94z\"/><path d=\"M17.41 7.96l-1.37-1.37c-.4-.4-.92-.59-1.43-.59-.52 0-1.04.2-1.43.59L10.3 9.45l-7.72 7.72c-.78.78-.78 2.05 0 2.83L4 21.41c.39.39.9.59 1.41.59.51 0 1.02-.2 1.41-.59l7.78-7.78 2.81-2.81c.8-.78.8-2.07 0-2.86zM5.41 20L4 18.59l7.72-7.72 1.47 1.35L5.41 20z\"/>\n",
       "  </svg>\n",
       "      </button>\n",
       "      \n",
       "  <style>\n",
       "    .colab-df-container {\n",
       "      display:flex;\n",
       "      flex-wrap:wrap;\n",
       "      gap: 12px;\n",
       "    }\n",
       "\n",
       "    .colab-df-convert {\n",
       "      background-color: #E8F0FE;\n",
       "      border: none;\n",
       "      border-radius: 50%;\n",
       "      cursor: pointer;\n",
       "      display: none;\n",
       "      fill: #1967D2;\n",
       "      height: 32px;\n",
       "      padding: 0 0 0 0;\n",
       "      width: 32px;\n",
       "    }\n",
       "\n",
       "    .colab-df-convert:hover {\n",
       "      background-color: #E2EBFA;\n",
       "      box-shadow: 0px 1px 2px rgba(60, 64, 67, 0.3), 0px 1px 3px 1px rgba(60, 64, 67, 0.15);\n",
       "      fill: #174EA6;\n",
       "    }\n",
       "\n",
       "    [theme=dark] .colab-df-convert {\n",
       "      background-color: #3B4455;\n",
       "      fill: #D2E3FC;\n",
       "    }\n",
       "\n",
       "    [theme=dark] .colab-df-convert:hover {\n",
       "      background-color: #434B5C;\n",
       "      box-shadow: 0px 1px 3px 1px rgba(0, 0, 0, 0.15);\n",
       "      filter: drop-shadow(0px 1px 2px rgba(0, 0, 0, 0.3));\n",
       "      fill: #FFFFFF;\n",
       "    }\n",
       "  </style>\n",
       "\n",
       "      <script>\n",
       "        const buttonEl =\n",
       "          document.querySelector('#df-796a2d79-c623-42c9-a76c-c0d169f2a61a button.colab-df-convert');\n",
       "        buttonEl.style.display =\n",
       "          google.colab.kernel.accessAllowed ? 'block' : 'none';\n",
       "\n",
       "        async function convertToInteractive(key) {\n",
       "          const element = document.querySelector('#df-796a2d79-c623-42c9-a76c-c0d169f2a61a');\n",
       "          const dataTable =\n",
       "            await google.colab.kernel.invokeFunction('convertToInteractive',\n",
       "                                                     [key], {});\n",
       "          if (!dataTable) return;\n",
       "\n",
       "          const docLinkHtml = 'Like what you see? Visit the ' +\n",
       "            '<a target=\"_blank\" href=https://colab.research.google.com/notebooks/data_table.ipynb>data table notebook</a>'\n",
       "            + ' to learn more about interactive tables.';\n",
       "          element.innerHTML = '';\n",
       "          dataTable['output_type'] = 'display_data';\n",
       "          await google.colab.output.renderOutput(dataTable, element);\n",
       "          const docLink = document.createElement('div');\n",
       "          docLink.innerHTML = docLinkHtml;\n",
       "          element.appendChild(docLink);\n",
       "        }\n",
       "      </script>\n",
       "    </div>\n",
       "  </div>\n",
       "  "
      ],
      "text/plain": [
       "         Model                   Time  Train-loss  Train-accuracy  Test-loss  \\\n",
       "0  CNN Model 4 0 days 00:31:25.849646    3.578607         0.33189   5.633009   \n",
       "\n",
       "   Test-Accuracy  \n",
       "0       0.154882  "
      ]
     },
     "execution_count": 120,
     "metadata": {},
     "output_type": "execute_result"
    }
   ],
   "source": [
    "results\n",
    "    "
   ]
  },
  {
   "cell_type": "markdown",
   "metadata": {
    "id": "qK-WewGyvFWr"
   },
   "source": [
    "\n",
    "\n",
    "#### REPORT/FINDINGS: \n",
    "(1) A summary and problem definition for management; \n",
    "Image classification is a beneficial aspect of digital image analysis. As a website provider, image classification using neural networks would be a beneficial tool to assist in automatically labeling images provided by the end user.  The classification of images of leaf specimens using convolutional neural networks (CNNs) involving keras/tensor flow will give insight on the effectiveness of the neural network in image classification. Using binary leaf images and extracted features (shape, margin, and texture), the goal is to identify 99 species of plants accurately. As plants have differentiating characteristics, as will the images provided by the end user, the application of different techniques involving image-based features and the tweaking of parameters and architecture of CNN models to achieve the highest accuracy, will demonstrate/ give some insight on the effectiveness of the network on helping solve our end goal, labeling images provided by end users. \n",
    "\n",
    "\n",
    "(2) Discussion of the research design, measurement and statistical methods, traditional and machine learning methods employed \n",
    "\n",
    "The dataset contained approximately 1,584 images of leaf specimens, in which there are 16 samples of 99 species. The images were converted into binary black leaves with the backgrounds being white (Black and white images).  The training set has 990 samples and for each sample, there is a binary image of the leaf of variable size and d-dimensional feature vectors (d = 192). \n",
    " \n",
    "Research Design: \n",
    " \n",
    "Analyze dataset (summary statistics, data types, Check for missing values \n",
    "Inspect Class balances for train set,etc.)\n",
    "Train and test were split 70/30\n",
    "Create CNN models and test for highest Accuracy\n",
    "(Building a classifier using pre-extracted features/ creating a set with own features)\n",
    "Compare CNN models through accuracy metric and loss for train and test\n",
    "Examine errors \n",
    " \n",
    " \n",
    "Traditional exploratory analysis was employed as a pie chart was created to see the distribution of label variable of interest. In addition, the images were also visualized to see different orientation.  Models were built in which model 1 was using pre-processed features (1 input). Model 2 used a combination of features (pre-processed images and pre-extracted features). Model 3 involved data augmentation using keras image preprocessing library. Model 3 was fit on batches with real-time data augmentation and combined features. Model 4 was a different architecture of model 1, to demonstrate the loss and accuracy difference with a different structure.  Each model had its own uniqueness.  ReLU function was applied to increase non-linearity. Models were trained through multiple epochs until a well-defined neural network was produced. \n",
    " \n",
    "Metrics used were mainly accuracy and loss. A low accuracy and huge loss means there are huge errors on a lot of data. Low accuracy, low loss means there are little errors in a lot of the data. Good accuracy but low loss corresponds to low errors on a few data (good case). Whether loss is high or low is subjective as it depends on the data and problem. For the loss metric, categorical_crossentropy was used as the labels were converted to categorical. The multilayer perceptron error was taken to evaluate the error of models. \n",
    "\n",
    " \n",
    "\n",
    "\n",
    "(3) Overview of programming work; \n",
    "Most of the programming revolved around creating models, tweaking hyper parameters, data augmentation. In the beginning, there was some traditional coding work such as: Labels were encoded to categorical as they were textual, stratified random folds were set for cross validation. Data was reshaped so we have a single channel. Functions were defined, such as the image batch generator, learning curves, and individual models. \n",
    "\n",
    "(4) Review of results with recommendations for management.\n",
    "CNN networks do take some time to run, however, there are some benefits to this network as it can automatically detect important features without human supervision. As evident in the leaf detection, Model 1 took approximately 31 minutes, model 2 took an hour, and model 3 took 17 minutes to run. Amongst all 4 models that were evaluated, CNN model did the best with the highest test accuracy, and a slightly higher loss than model 2. Model 3 had an MLP of 2.02% which isn’t that high. CNNs are ideal for processing 2D images as it uses 2D convolutional layers. In comparison to other classification algorithms, CNNs use very little pre-processing. Hence, I would recommend using the combined augmented feature network when using the convolutional neural network to identify and label images provided by end users. With a  test – accuracy of 98% and low loss, demonstrates the minimum errors made by the model. \n",
    " \n"
   ]
  }
 ],
 "metadata": {
  "colab": {
   "collapsed_sections": [],
   "name": "Assignment6-Jessica.ipynb",
   "provenance": []
  },
  "kernelspec": {
   "display_name": "Python 3 (ipykernel)",
   "language": "python",
   "name": "python3"
  },
  "language_info": {
   "codemirror_mode": {
    "name": "ipython",
    "version": 3
   },
   "file_extension": ".py",
   "mimetype": "text/x-python",
   "name": "python",
   "nbconvert_exporter": "python",
   "pygments_lexer": "ipython3",
   "version": "3.10.9"
  }
 },
 "nbformat": 4,
 "nbformat_minor": 1
}
